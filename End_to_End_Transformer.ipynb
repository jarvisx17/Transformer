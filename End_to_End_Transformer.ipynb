{
  "cells": [
    {
      "cell_type": "markdown",
      "metadata": {
        "id": "view-in-github",
        "colab_type": "text"
      },
      "source": [
        "<a href=\"https://colab.research.google.com/github/jarvisx17/Transformer/blob/main/transformer.ipynb\" target=\"_parent\"><img src=\"https://colab.research.google.com/assets/colab-badge.svg\" alt=\"Open In Colab\"/></a>"
      ]
    },
    {
      "cell_type": "markdown",
      "metadata": {
        "id": "gvP_7iee3RyW"
      },
      "source": [
        "# Language Translation with Transformers Models"
      ]
    },
    {
      "cell_type": "code",
      "source": [
        "from google.colab import drive\n",
        "drive.mount('/content/drive')"
      ],
      "metadata": {
        "colab": {
          "base_uri": "https://localhost:8080/"
        },
        "id": "QwLP-wiG7CVB",
        "outputId": "e26db435-7737-47e5-a56b-f18c7fbd4381"
      },
      "execution_count": null,
      "outputs": [
        {
          "output_type": "stream",
          "name": "stdout",
          "text": [
            "Mounted at /content/drive\n"
          ]
        }
      ]
    },
    {
      "cell_type": "markdown",
      "metadata": {
        "toc": true,
        "id": "yQ67KOC263DV"
      },
      "source": [
        "<h1>Table of Contents<span class=\"tocSkip\"></span></h1>\n",
        "<div class=\"toc\"><ul class=\"toc-item\"><li><span><a href=\"#Introduction\" data-toc-modified-id=\"Introduction-1\"><span class=\"toc-item-num\">1&nbsp;&nbsp;</span>Introduction</a></span><ul class=\"toc-item\"><li><span><a href=\"#Motivation\" data-toc-modified-id=\"Motivation-1.1\"><span class=\"toc-item-num\">1.1&nbsp;&nbsp;</span>Motivation</a></span></li><li><span><a href=\"#Approach\" data-toc-modified-id=\"Approach-1.2\"><span class=\"toc-item-num\">1.2&nbsp;&nbsp;</span>Approach</a></span></li><li><span><a href=\"#Steps\" data-toc-modified-id=\"Steps-1.3\"><span class=\"toc-item-num\">1.3&nbsp;&nbsp;</span>Steps</a></span></li></ul></li><li><span><a href=\"#Importing-dependencies\" data-toc-modified-id=\"Importing-dependencies-2\"><span class=\"toc-item-num\">2&nbsp;&nbsp;</span>Importing dependencies</a></span><ul class=\"toc-item\"><li><span><a href=\"#Check-Tensorflow-version-and-verify-we-are-using-GPU\" data-toc-modified-id=\"Check-Tensorflow-version-and-verify-we-are-using-GPU-2.1\"><span class=\"toc-item-num\">2.1&nbsp;&nbsp;</span>Check Tensorflow version and verify we are using GPU</a></span></li></ul></li><li><span><a href=\"#Download-the-datasets\" data-toc-modified-id=\"Download-the-datasets-3\"><span class=\"toc-item-num\">3&nbsp;&nbsp;</span>Download the datasets</a></span><ul class=\"toc-item\"><li><span><a href=\"#Helpful-functions\" data-toc-modified-id=\"Helpful-functions-3.1\"><span class=\"toc-item-num\">3.1&nbsp;&nbsp;</span>Helpful functions</a></span></li><li><span><a href=\"#Define-the-url-paths-for-our-data-downloads-and-create-data-directory\" data-toc-modified-id=\"Define-the-url-paths-for-our-data-downloads-and-create-data-directory-3.2\"><span class=\"toc-item-num\">3.2&nbsp;&nbsp;</span>Define the url paths for our data downloads and create data directory</a></span></li><li><span><a href=\"#Download-the-data\" data-toc-modified-id=\"Download-the-data-3.3\"><span class=\"toc-item-num\">3.3&nbsp;&nbsp;</span>Download the data</a></span><ul class=\"toc-item\"><li><span><a href=\"#Save-the-files-to-./data\" data-toc-modified-id=\"Save-the-files-to-./data-3.3.1\"><span class=\"toc-item-num\">3.3.1&nbsp;&nbsp;</span>Save the files to <code>./data</code></a></span></li><li><span><a href=\"#Extract-the-data\" data-toc-modified-id=\"Extract-the-data-3.3.2\"><span class=\"toc-item-num\">3.3.2&nbsp;&nbsp;</span>Extract the data</a></span></li><li><span><a href=\"#Remove-the-compressed-files\" data-toc-modified-id=\"Remove-the-compressed-files-3.3.3\"><span class=\"toc-item-num\">3.3.3&nbsp;&nbsp;</span>Remove the compressed files</a></span></li></ul></li></ul></li><li><span><a href=\"#Data-preprocessing\" data-toc-modified-id=\"Data-preprocessing-4\"><span class=\"toc-item-num\">4&nbsp;&nbsp;</span>Data preprocessing</a></span><ul class=\"toc-item\"><li><span><a href=\"#Loading-files\" data-toc-modified-id=\"Loading-files-4.1\"><span class=\"toc-item-num\">4.1&nbsp;&nbsp;</span>Loading files</a></span></li><li><span><a href=\"#Cleaning-data\" data-toc-modified-id=\"Cleaning-data-4.2\"><span class=\"toc-item-num\">4.2&nbsp;&nbsp;</span>Cleaning data</a></span><ul class=\"toc-item\"><li><span><a href=\"#Process-non-breaking-prefixes-in-corpus,-and-remove-consecutive-spaces\" data-toc-modified-id=\"Process-non-breaking-prefixes-in-corpus,-and-remove-consecutive-spaces-4.2.1\"><span class=\"toc-item-num\">4.2.1&nbsp;&nbsp;</span>Process non-breaking prefixes in corpus, and remove consecutive spaces</a></span></li></ul></li><li><span><a href=\"#Tokenizing-Text\" data-toc-modified-id=\"Tokenizing-Text-4.3\"><span class=\"toc-item-num\">4.3&nbsp;&nbsp;</span>Tokenizing Text</a></span></li><li><span><a href=\"#The-vocabulary-size-will-be-used-to-build-the-start-and-end-tokens\" data-toc-modified-id=\"The-vocabulary-size-will-be-used-to-build-the-start-and-end-tokens-4.4\"><span class=\"toc-item-num\">4.4&nbsp;&nbsp;</span>The vocabulary size will be used to build the <code>start</code> and <code>end</code> tokens</a></span></li><li><span><a href=\"#Remove-very-long-sentences\" data-toc-modified-id=\"Remove-very-long-sentences-4.5\"><span class=\"toc-item-num\">4.5&nbsp;&nbsp;</span>Remove very long sentences</a></span></li><li><span><a href=\"#Input-/-Output-creation\" data-toc-modified-id=\"Input-/-Output-creation-4.6\"><span class=\"toc-item-num\">4.6&nbsp;&nbsp;</span>Input / Output creation</a></span></li><li><span><a href=\"#Create-the-datasets\" data-toc-modified-id=\"Create-the-datasets-4.7\"><span class=\"toc-item-num\">4.7&nbsp;&nbsp;</span>Create the datasets</a></span></li></ul></li><li><span><a href=\"#Model-Building\" data-toc-modified-id=\"Model-Building-5\"><span class=\"toc-item-num\">5&nbsp;&nbsp;</span>Model Building</a></span><ul class=\"toc-item\"><li><ul class=\"toc-item\"><li><span><a href=\"#Model-Composition\" data-toc-modified-id=\"Model-Composition-5.0.1\"><span class=\"toc-item-num\">5.0.1&nbsp;&nbsp;</span>Model Composition</a></span></li></ul></li><li><span><a href=\"#Positional-Encoding\" data-toc-modified-id=\"Positional-Encoding-5.1\"><span class=\"toc-item-num\">5.1&nbsp;&nbsp;</span>Positional Encoding</a></span></li><li><span><a href=\"#Self-Attention\" data-toc-modified-id=\"Self-Attention-5.2\"><span class=\"toc-item-num\">5.2&nbsp;&nbsp;</span>Self-Attention</a></span><ul class=\"toc-item\"><li><ul class=\"toc-item\"><li><span><a href=\"#Linear-Transformation\" data-toc-modified-id=\"Linear-Transformation-5.2.0.1\"><span class=\"toc-item-num\">5.2.0.1&nbsp;&nbsp;</span>Linear Transformation</a></span></li></ul></li><li><span><a href=\"#Calculate-the-self-attention:\" data-toc-modified-id=\"Calculate-the-self-attention:-5.2.1\"><span class=\"toc-item-num\">5.2.1&nbsp;&nbsp;</span>Calculate the self-attention:</a></span></li><li><span><a href=\"#Multi-Head-Self-Attention\" data-toc-modified-id=\"Multi-Head-Self-Attention-5.2.2\"><span class=\"toc-item-num\">5.2.2&nbsp;&nbsp;</span>Multi-Head Self-Attention</a></span></li><li><span><a href=\"#Attention-Masks\" data-toc-modified-id=\"Attention-Masks-5.2.3\"><span class=\"toc-item-num\">5.2.3&nbsp;&nbsp;</span>Attention Masks</a></span><ul class=\"toc-item\"><li><span><a href=\"#Padding-Mask\" data-toc-modified-id=\"Padding-Mask-5.2.3.1\"><span class=\"toc-item-num\">5.2.3.1&nbsp;&nbsp;</span>Padding Mask</a></span></li><li><span><a href=\"#Look-Ahead-Mask\" data-toc-modified-id=\"Look-Ahead-Mask-5.2.3.2\"><span class=\"toc-item-num\">5.2.3.2&nbsp;&nbsp;</span>Look-Ahead Mask</a></span></li></ul></li><li><span><a href=\"#Attention-computation\" data-toc-modified-id=\"Attention-computation-5.2.4\"><span class=\"toc-item-num\">5.2.4&nbsp;&nbsp;</span>Attention computation</a></span></li><li><span><a href=\"#Multi-head-attention-sublayer\" data-toc-modified-id=\"Multi-head-attention-sublayer-5.2.5\"><span class=\"toc-item-num\">5.2.5&nbsp;&nbsp;</span>Multi-head attention sublayer</a></span></li></ul></li><li><span><a href=\"#Encoder\" data-toc-modified-id=\"Encoder-5.3\"><span class=\"toc-item-num\">5.3&nbsp;&nbsp;</span>Encoder</a></span><ul class=\"toc-item\"><li><span><a href=\"#EncoderLayer-Class\" data-toc-modified-id=\"EncoderLayer-Class-5.3.1\"><span class=\"toc-item-num\">5.3.1&nbsp;&nbsp;</span>EncoderLayer Class</a></span></li><li><span><a href=\"#Encoder-Class\" data-toc-modified-id=\"Encoder-Class-5.3.2\"><span class=\"toc-item-num\">5.3.2&nbsp;&nbsp;</span>Encoder Class</a></span></li></ul></li><li><span><a href=\"#Decoder\" data-toc-modified-id=\"Decoder-5.4\"><span class=\"toc-item-num\">5.4&nbsp;&nbsp;</span>Decoder</a></span><ul class=\"toc-item\"><li><span><a href=\"#DecoderLayer-Class\" data-toc-modified-id=\"DecoderLayer-Class-5.4.1\"><span class=\"toc-item-num\">5.4.1&nbsp;&nbsp;</span>DecoderLayer Class</a></span></li><li><span><a href=\"#Decoder-Class\" data-toc-modified-id=\"Decoder-Class-5.4.2\"><span class=\"toc-item-num\">5.4.2&nbsp;&nbsp;</span>Decoder Class</a></span></li></ul></li><li><span><a href=\"#Transformer\" data-toc-modified-id=\"Transformer-5.5\"><span class=\"toc-item-num\">5.5&nbsp;&nbsp;</span>Transformer</a></span><ul class=\"toc-item\"><li><span><a href=\"#Transformer-Class\" data-toc-modified-id=\"Transformer-Class-5.5.1\"><span class=\"toc-item-num\">5.5.1&nbsp;&nbsp;</span>Transformer Class</a></span></li></ul></li></ul></li><li><span><a href=\"#Training\" data-toc-modified-id=\"Training-6\"><span class=\"toc-item-num\">6&nbsp;&nbsp;</span>Training</a></span><ul class=\"toc-item\"><li><span><a href=\"#Define-Hyper-parameter-values\" data-toc-modified-id=\"Define-Hyper-parameter-values-6.1\"><span class=\"toc-item-num\">6.1&nbsp;&nbsp;</span>Define Hyper-parameter values</a></span></li><li><span><a href=\"#Define-the-loss-function\" data-toc-modified-id=\"Define-the-loss-function-6.2\"><span class=\"toc-item-num\">6.2&nbsp;&nbsp;</span>Define the loss function</a></span></li><li><span><a href=\"#Create-a-custom-learning-rate-schedule\" data-toc-modified-id=\"Create-a-custom-learning-rate-schedule-6.3\"><span class=\"toc-item-num\">6.3&nbsp;&nbsp;</span>Create a custom learning rate schedule</a></span><ul class=\"toc-item\"><li><span><a href=\"#Plot-the-learning-rate\" data-toc-modified-id=\"Plot-the-learning-rate-6.3.1\"><span class=\"toc-item-num\">6.3.1&nbsp;&nbsp;</span>Plot the learning rate</a></span></li></ul></li><li><span><a href=\"#Model-checkpoints\" data-toc-modified-id=\"Model-checkpoints-6.4\"><span class=\"toc-item-num\">6.4&nbsp;&nbsp;</span>Model checkpoints</a></span></li><li><span><a href=\"#Run-the-training\" data-toc-modified-id=\"Run-the-training-6.5\"><span class=\"toc-item-num\">6.5&nbsp;&nbsp;</span>Run the training</a></span></li></ul></li><li><span><a href=\"#Evaluating\" data-toc-modified-id=\"Evaluating-7\"><span class=\"toc-item-num\">7&nbsp;&nbsp;</span>Evaluating</a></span><ul class=\"toc-item\"><li><ul class=\"toc-item\"><li><span><a href=\"#Translate-function\" data-toc-modified-id=\"Translate-function-7.0.1\"><span class=\"toc-item-num\">7.0.1&nbsp;&nbsp;</span>Translate function</a></span></li></ul></li><li><span><a href=\"#Let's-translate\" data-toc-modified-id=\"Let's-translate-7.1\"><span class=\"toc-item-num\">7.1&nbsp;&nbsp;</span>Let's translate</a></span></li></ul></li><li><span><a href=\"#Results\" data-toc-modified-id=\"Results-8\"><span class=\"toc-item-num\">8&nbsp;&nbsp;</span>Results</a></span></li><li><span><a href=\"#Future-Work\" data-toc-modified-id=\"Future-Work-9\"><span class=\"toc-item-num\">9&nbsp;&nbsp;</span>Future Work</a></span></li><li><span><a href=\"#Summary\" data-toc-modified-id=\"Summary-10\"><span class=\"toc-item-num\">10&nbsp;&nbsp;</span>Summary</a></span></li></ul></div>"
      ]
    },
    {
      "cell_type": "markdown",
      "metadata": {
        "id": "Vl4vPqA4DcJZ"
      },
      "source": [
        "## Introduction\n"
      ]
    },
    {
      "cell_type": "markdown",
      "metadata": {
        "id": "trCZZUC063Dk"
      },
      "source": [
        "### Motivation"
      ]
    },
    {
      "cell_type": "markdown",
      "metadata": {
        "id": "BEBN5yVu63Dm"
      },
      "source": [
        "I undertook this project in order to better understand how `Transformer Models` work. I became interested in the technology when I set out to work on a language translation model using an `RNN`. However, in learning about `RNN`s and `LSTM`s I came across `Transformers`. As I started to learn more I realiazed that I needed shift to this model for my project.\n",
        "\n",
        "Since the paper [Attention is all you need](https://arxiv.org/abs/1706.03762) was published in 2017, introducing transformers,  they and their many variants have become the models of choice for `Natural Language Processing` - `NLP`. They are used for to solve many types sequence to sequence problems including language translation, information retrieval, text classification, document summarization, image captioning, and genome analysis. More recently they are showing great results in `image recognition` and `object detection`.\n",
        "\n",
        "The transformer continues to evolve with new variants such as BERT, GPT-2, GPT-3, and others. And research continues on how to improve them.\n",
        "\n"
      ]
    },
    {
      "cell_type": "markdown",
      "metadata": {
        "id": "I3dUx5nu63Dr"
      },
      "source": [
        "### Approach\n",
        "\n",
        "The model is build from scratch following the method used in the original [Attention is all you need](https://arxiv.org/abs/1706.03762) paper. I also used a number of articles, which I will cite, to better learn and understand the details of the transformer\n",
        "\n",
        "As this model is built using the `Tensorflow` framework, I leveraged their transformer [tutorial](https://www.tensorflow.org/tutorials/text/transformer) for code inspiration.\n",
        "\n",
        "I also relied heavily on Jay Alammar's excellent blog post [The Illustrated Transformer](http://jalammar.github.io/illustrated-transformer/). It's kinda become the standard go-to for the visual representation and description of transformers.\n",
        "\n",
        "Another great blog post is [What Are Transformer Models in Machine Learning?](https://lionbridge.ai/articles/what-are-transformer-models-in-machine-learning/) by Rahul Agarwal.\n",
        "\n",
        "No doubt that you too will find many other great articles."
      ]
    },
    {
      "cell_type": "markdown",
      "metadata": {
        "id": "Tz4rItSS63Dv"
      },
      "source": [
        "### Steps\n",
        "\n",
        "1. We start by loading all of the dependencies\n",
        "2. Download the and extract data\n",
        "3. Do some data preprocessing\n",
        "4. Tokenize the data\n",
        "5. Prep data for embedding\n",
        "6. Explain and code Positional Encoding\n",
        "7. Explain and code Self-attention\n",
        "8. Explain and code the Encoder\n",
        "9. Explain and code the Decoder\n",
        "10. Explain and code the Transformer\n",
        "11. Train the transformer is explaination\n",
        "12. Expalain how the model does inferencing.\n"
      ]
    },
    {
      "cell_type": "markdown",
      "metadata": {
        "id": "m9JJ7FBw84tG"
      },
      "source": [
        "## Importing dependencies"
      ]
    },
    {
      "cell_type": "code",
      "execution_count": null,
      "metadata": {
        "colab": {
          "base_uri": "https://localhost:8080/"
        },
        "id": "7bi5h91M3EC0",
        "outputId": "1f4e40a0-7d81-42b0-bccf-1696be47227c"
      },
      "outputs": [
        {
          "output_type": "stream",
          "name": "stdout",
          "text": [
            "Drive already mounted at /content/drive/; to attempt to forcibly remount, call drive.mount(\"/content/drive/\", force_remount=True).\n"
          ]
        }
      ],
      "source": [
        "import os\n",
        "import sys\n",
        "import tarfile\n",
        "import zipfile as zf\n",
        "import requests as rq\n",
        "\n",
        "import numpy as np\n",
        "import matplotlib.pyplot as plt\n",
        "%matplotlib inline\n",
        "import math\n",
        "import re\n",
        "import time\n",
        "from google.colab import drive\n",
        "drive.mount('/content/drive/')"
      ]
    },
    {
      "cell_type": "code",
      "execution_count": null,
      "metadata": {
        "id": "2oGNiOFjQYPW"
      },
      "outputs": [],
      "source": [
        "os.chdir('drive/My Drive')\n",
        "ROOT = os.getcwd()\n",
        "os.chdir(ROOT + '/Colab Notebooks')"
      ]
    },
    {
      "cell_type": "code",
      "execution_count": null,
      "metadata": {
        "id": "Z_zxs_3d3lK2",
        "colab": {
          "base_uri": "https://localhost:8080/"
        },
        "outputId": "7386f5a1-9562-40be-88ca-77d38533729a"
      },
      "outputs": [
        {
          "output_type": "stream",
          "name": "stdout",
          "text": [
            "Colab only includes TensorFlow 2.x; %tensorflow_version has no effect.\n"
          ]
        }
      ],
      "source": [
        "try:\n",
        "    %tensorflow_version 2.x\n",
        "except:\n",
        "    pass\n",
        "import tensorflow as tf\n",
        "\n",
        "from tensorflow.keras import layers\n",
        "import tensorflow_datasets as tfds"
      ]
    },
    {
      "cell_type": "markdown",
      "metadata": {
        "id": "aaOAIH2QUNR1"
      },
      "source": [
        "### Check Tensorflow version and verify we are using GPU"
      ]
    },
    {
      "cell_type": "code",
      "execution_count": null,
      "metadata": {
        "colab": {
          "base_uri": "https://localhost:8080/"
        },
        "id": "IeCUyFKx05j0",
        "outputId": "c23b5e91-30c5-4ac4-8d53-595e1111f7ba"
      },
      "outputs": [
        {
          "output_type": "stream",
          "name": "stdout",
          "text": [
            "TensorFlow Version: 2.9.2\n",
            "Using CUDA: True\n",
            "Using GPU: [PhysicalDevice(name='/physical_device:GPU:0', device_type='GPU')]\n",
            "Num GPUs Available:  1\n"
          ]
        }
      ],
      "source": [
        "print(f'TensorFlow Version: {tf.__version__}')\n",
        "print(f'Using CUDA: {tf.test.is_built_with_cuda()}')\n",
        "print(f'Using GPU: {tf.config.list_physical_devices(\"GPU\")}')\n",
        "physical_devices = tf.config.experimental.list_physical_devices('GPU')\n",
        "print(\"Num GPUs Available: \", len(physical_devices))\n",
        "\n",
        "tf.config.experimental.set_memory_growth(physical_devices[0], True)"
      ]
    },
    {
      "cell_type": "markdown",
      "metadata": {
        "id": "M-SfYEYK63EH"
      },
      "source": [
        "## Download the datasets\n",
        "In this section we download the datasets and supporting files using the `Requests` module. We then extract the corpuses from the tar file to the data directory. We also download two zip files which are also extracted to the data directory.\n",
        "\n",
        "The dataset comes from the `European Parliament Proceedings Parallel Corpus 1996-2011` found at the [`Statistical Machine Translation`](http://www.statmt.org/europarl/) website. Specifically, we use the [`French-English parallel corpus`](http://www.statmt.org/europarl/v7/fr-en.tgz) . The following description is cited from their site.\n",
        "\n",
        ">\"*The Europarl parallel corpus is extracted from the proceedings of the European Parliament. It includes versions in 21 European languages: Romanic (French, Italian, Spanish, Portuguese, Romanian), Germanic (English, Dutch, German, Danish, Swedish), Slavik (Bulgarian, Czech, Polish, Slovak, Slovene), Finni-Ugric (Finnish, Hungarian, Estonian), Baltic (Latvian, Lithuanian), and Greek.*\"\n",
        "\n",
        "The two zip files contain lists of non-breaking prefixes in French and english. These will be applied in the preprocessing of the datasets. The Urls can be found in the code.\n"
      ]
    },
    {
      "cell_type": "markdown",
      "metadata": {
        "id": "5BYVMjrkRFpg"
      },
      "source": [
        "### Helpful functions\n",
        "The first function simply extracts our datasets from the tarball. The second one removes the tar and zip files after their contents has been extracted."
      ]
    },
    {
      "cell_type": "code",
      "execution_count": null,
      "metadata": {
        "id": "esWTmxHeTPdb"
      },
      "outputs": [],
      "source": [
        "#https://stackoverflow.com/questions/6058786/i-want-to-extract-a-tgz-file-and-extract-any-subdirectories-that-have-files-tha\n",
        "def extract(tar_url, extract_path='.'):\n",
        "    ''' Fetch tar file and extract to specified path\n",
        "    '''\n",
        "    tar = tarfile.open(tar_url, 'r')\n",
        "    for item in tar:\n",
        "        tar.extract(item, extract_path)\n",
        "        if item.name.find(\".tgz\") != -1 or item.name.find(\".tar\") != -1:\n",
        "            extract(item.name, \"./\" + item.name[:item.name.rfind('/')])\n"
      ]
    },
    {
      "cell_type": "code",
      "execution_count": null,
      "metadata": {
        "id": "Vpi0IWEHuGrP"
      },
      "outputs": [],
      "source": [
        "def remove_files(dir, filelist):\n",
        "    '''Remove files in filelist from dir\n",
        "    '''\n",
        "    for f in filelist:\n",
        "        print(f'Removing file: {f}')\n",
        "        os.remove(os.path.join(dir, f))"
      ]
    },
    {
      "cell_type": "markdown",
      "metadata": {
        "id": "IRwgFtXq63EN"
      },
      "source": [
        "### Define the url paths for our data downloads and create data directory"
      ]
    },
    {
      "cell_type": "code",
      "execution_count": null,
      "metadata": {
        "id": "Emz3okSbRG78"
      },
      "outputs": [],
      "source": [
        "EN_FR_URL = 'http://www.statmt.org/europarl/v7/fr-en.tgz'\n",
        "PRE_EN_URL = 'https://sds-platform-private.s3-us-east-2.amazonaws.com/uploads/P85-Non-Breaking-Prefix-en.zip'\n",
        "PRE_FR_URL = 'https://sds-platform-private.s3-us-east-2.amazonaws.com/uploads/P85-Non-Breaking-Prefix-fr.zip'"
      ]
    },
    {
      "cell_type": "code",
      "execution_count": null,
      "metadata": {
        "id": "sGfUdXlrXvOc"
      },
      "outputs": [],
      "source": [
        "# Create data directory if necessary\n",
        "if os.path.isdir('../data') is False:\n",
        "    os.mkdir('../data')"
      ]
    },
    {
      "cell_type": "markdown",
      "metadata": {
        "id": "Bs2Pr7lF63EQ"
      },
      "source": [
        "### Download the data\n",
        "* Use the requests library to download the files\n",
        "* Write the files to the data directory\n",
        "* Extract the data from the files\n",
        "* Remove the compressed files from data folder\n"
      ]
    },
    {
      "cell_type": "code",
      "execution_count": null,
      "metadata": {
        "id": "29RmxrHKa03C"
      },
      "outputs": [],
      "source": [
        "r_en_fr = rq.get(EN_FR_URL, stream=True)\n",
        "r_pr_en = rq.get(PRE_EN_URL, stream=True)\n",
        "r_pr_fr = rq.get(PRE_FR_URL, stream=True)"
      ]
    },
    {
      "cell_type": "markdown",
      "metadata": {
        "id": "p430OP3B63ES"
      },
      "source": [
        "#### Save the files to `./data`"
      ]
    },
    {
      "cell_type": "code",
      "execution_count": null,
      "metadata": {
        "id": "nGNBgg9Qc9oH"
      },
      "outputs": [],
      "source": [
        "with open('../data/fr-en.tgz', 'wb') as fr_en:\n",
        "    for chunk in r_en_fr.iter_content(chunk_size=1024):\n",
        "        if chunk:\n",
        "            fr_en.write(chunk)"
      ]
    },
    {
      "cell_type": "code",
      "execution_count": null,
      "metadata": {
        "id": "D1Z05p_RemyQ"
      },
      "outputs": [],
      "source": [
        "with open('../data/P85-Non-Breaking-Prefix-en.zip', 'wb') as pre_en:\n",
        "    for chunk in r_pr_en.iter_content(chunk_size=1024):\n",
        "        if chunk:\n",
        "            pre_en.write(chunk)"
      ]
    },
    {
      "cell_type": "code",
      "execution_count": null,
      "metadata": {
        "id": "Ic4MF-F-fDc1"
      },
      "outputs": [],
      "source": [
        "with open('../data/P85-Non-Breaking-Prefix-fr.zip', 'wb') as pre_fr:\n",
        "    for chunk in r_pr_fr.iter_content(chunk_size=1024):\n",
        "        if chunk:\n",
        "            pre_fr.write(chunk)"
      ]
    },
    {
      "cell_type": "markdown",
      "metadata": {
        "id": "3RnGaW3563EV"
      },
      "source": [
        "#### Extract the data"
      ]
    },
    {
      "cell_type": "code",
      "execution_count": null,
      "metadata": {
        "id": "58ijRr1Zg9WQ"
      },
      "outputs": [],
      "source": [
        "extract('../data/fr-en.tgz', extract_path='../data')"
      ]
    },
    {
      "cell_type": "code",
      "execution_count": null,
      "metadata": {
        "colab": {
          "base_uri": "https://localhost:8080/"
        },
        "id": "8PT76buWphzb",
        "outputId": "4dbffecd-adde-4099-b070-b9c58486f034"
      },
      "outputs": [
        {
          "output_type": "stream",
          "name": "stdout",
          "text": [
            "File Name                                             Modified             Size\n",
            "P85-Non-Breaking-Prefix.en                     2019-11-29 10:20:32          110\n",
            "__MACOSX/._P85-Non-Breaking-Prefix.en          2019-11-29 10:20:32          761\n"
          ]
        }
      ],
      "source": [
        "import zipfile as zf\n",
        "with zf.ZipFile('../data/P85-Non-Breaking-Prefix-en.zip') as archive:\n",
        "    archive.printdir()\n",
        "    archive.extract('P85-Non-Breaking-Prefix.en', '../data/')"
      ]
    },
    {
      "cell_type": "code",
      "execution_count": null,
      "metadata": {
        "colab": {
          "base_uri": "https://localhost:8080/"
        },
        "id": "AKBuyshLphEn",
        "outputId": "6b5a5866-30a7-4a88-f381-472dce3e3a11"
      },
      "outputs": [
        {
          "output_type": "stream",
          "name": "stdout",
          "text": [
            "File Name                                             Modified             Size\n",
            "P85-Non-Breaking-Prefix.fr                     2019-11-29 10:20:58          121\n",
            "__MACOSX/._P85-Non-Breaking-Prefix.fr          2019-11-29 10:20:58          576\n"
          ]
        }
      ],
      "source": [
        "with zf.ZipFile('../data/P85-Non-Breaking-Prefix-fr.zip') as archive:\n",
        "    archive.printdir()\n",
        "    archive.extract('P85-Non-Breaking-Prefix.fr', '../data/')"
      ]
    },
    {
      "cell_type": "markdown",
      "metadata": {
        "id": "b6EkqcG763EZ"
      },
      "source": [
        "#### Remove the compressed files"
      ]
    },
    {
      "cell_type": "code",
      "execution_count": null,
      "metadata": {
        "colab": {
          "base_uri": "https://localhost:8080/"
        },
        "id": "1FucZYnxto3W",
        "outputId": "991a5326-b97f-448d-8b1c-7e7a702a1cf1"
      },
      "outputs": [
        {
          "output_type": "stream",
          "name": "stdout",
          "text": [
            "Removing file: P85-Non-Breaking-Prefix-en.zip\n",
            "Removing file: P85-Non-Breaking-Prefix-fr.zip\n",
            "Removing file: fr-en.tgz\n"
          ]
        }
      ],
      "source": [
        "filelist = ['P85-Non-Breaking-Prefix-en.zip', 'P85-Non-Breaking-Prefix-fr.zip', 'fr-en.tgz']\n",
        "remove_files('../data', filelist)"
      ]
    },
    {
      "cell_type": "markdown",
      "metadata": {
        "id": "ITN6_EtO372t"
      },
      "source": [
        "## Data preprocessing"
      ]
    },
    {
      "cell_type": "markdown",
      "metadata": {
        "id": "CMXOrfUu4M-8"
      },
      "source": [
        "### Loading files\n",
        "\n",
        "Now we assign the files to variables so that we can start the data preprocessing."
      ]
    },
    {
      "cell_type": "code",
      "execution_count": null,
      "metadata": {
        "id": "LtR77eMg4xmZ"
      },
      "outputs": [],
      "source": [
        "with open(ROOT + \"/data/europarl-v7.fr-en.en\",\n",
        "          mode='r',\n",
        "          encoding='utf-8') as f:\n",
        "    europarl_en = f.read()\n",
        "\n",
        "with open(ROOT + \"/data/europarl-v7.fr-en.fr\",\n",
        "          mode='r',\n",
        "          encoding='utf-8') as f:\n",
        "    europarl_fr = f.read()\n",
        "\n",
        "with open(ROOT + \"/data/P85-Non-Breaking-Prefix.en\",\n",
        "          mode='r',\n",
        "          encoding='utf-8') as f:\n",
        "    non_breaking_prefix_en = f.read()\n",
        "\n",
        "with open(ROOT + \"/data/P85-Non-Breaking-Prefix.fr\",\n",
        "          mode='r',\n",
        "          encoding='utf-8') as f:\n",
        "    non_breaking_prefix_fr = f.read()"
      ]
    },
    {
      "cell_type": "markdown",
      "metadata": {
        "id": "q9xgTFuQ4-JY"
      },
      "source": [
        "### Cleaning data"
      ]
    },
    {
      "cell_type": "markdown",
      "metadata": {
        "id": "fq0OjX0M-hvZ"
      },
      "source": [
        "The first step in preparing the data is to create two `lists of non-breaking prefixes` from the two files that were downloaded. These non-breaking prefixes indicate words that do not mark the end of a sentence when encountered with a period.\n",
        "Getting the `lists of non-breaking prefixes` as a clean list of words with a period at the end so it is easier to use."
      ]
    },
    {
      "cell_type": "code",
      "execution_count": null,
      "metadata": {
        "id": "pzPOmGWS4_k5",
        "colab": {
          "base_uri": "https://localhost:8080/"
        },
        "outputId": "34a6ae69-c134-4d9e-d6f4-8e42c1a20126"
      },
      "outputs": [
        {
          "output_type": "stream",
          "name": "stdout",
          "text": [
            "Before adding space and period:\n",
            "['st', 'a.m', 'p.m', 'vs', 'i.e', 'e.g']\n",
            "\n",
            "After adding space and period:\n",
            "[' st.', ' a.m.', ' p.m.', ' vs.', ' i.e.', ' e.g.']\n"
          ]
        }
      ],
      "source": [
        "# Split into a list\n",
        "non_breaking_prefix_en = non_breaking_prefix_en.split(\"\\n\")\n",
        "print('Before adding space and period:')\n",
        "print(non_breaking_prefix_en[len(non_breaking_prefix_en)-6:])\n",
        "print()\n",
        "\n",
        "# Add a space to the front and a period to the end\n",
        "non_breaking_prefix_en = [' ' + pref + '.' for pref in non_breaking_prefix_en]\n",
        "print('After adding space and period:')\n",
        "print(non_breaking_prefix_en[len(non_breaking_prefix_en)-6:])\n",
        "\n",
        "# Do the same for the French file\n",
        "non_breaking_prefix_fr = non_breaking_prefix_fr.split(\"\\n\")\n",
        "non_breaking_prefix_fr = [' ' + pref + '.' for pref in non_breaking_prefix_fr]"
      ]
    },
    {
      "cell_type": "markdown",
      "metadata": {
        "id": "3q7Dds5D-xxW"
      },
      "source": [
        "#### Process non-breaking prefixes in corpus, and remove consecutive spaces\n",
        "We take the following steps to prepare the corpus.\n",
        "1. Iterate over the non-breaking prefix lists in order to find occurances in the corpus.\n",
        "2. Add `$$$` to the end of each prefix so that a\\they are easy to fine.\n",
        "3. Find all occurances of periods immediately followed by an alpha-numeric character and add `$$$` between the period and the character.\n",
        "4. Remove all occurances of `.$$$`. So that there are no longer any non-breaking periods.\n",
        "5. Replace consecutive spaces with a single space.\n",
        "6. Split the corpus into a list."
      ]
    },
    {
      "cell_type": "code",
      "execution_count": null,
      "metadata": {
        "id": "spWxh3L9-yVw"
      },
      "outputs": [],
      "source": [
        "corpus_en = europarl_en\n",
        "\n",
        "# Step 1 & 2\n",
        "for prefix in non_breaking_prefix_en:\n",
        "    corpus_en = corpus_en.replace(prefix, prefix + '$$$')\n",
        "\n",
        "# Step 3\n",
        "corpus_en = re.sub(r\"\\.(?=[0-9]|[a-z]|[A-Z])\", \".$$$\", corpus_en)\n",
        "\n",
        "# Step 4\n",
        "corpus_en = re.sub(r\".\\$\\$\\$\", '', corpus_en)\n",
        "\n",
        "# Step 5\n",
        "corpus_en = re.sub(r\"  +\", \" \", corpus_en)\n",
        "\n",
        "# Step 6\n",
        "corpus_en = corpus_en.split('\\n')\n",
        "\n",
        "# Repeat all steps for the French corpus.\n",
        "corpus_fr = europarl_fr\n",
        "for prefix in non_breaking_prefix_fr:\n",
        "    corpus_fr = corpus_fr.replace(prefix, prefix + '$$$')\n",
        "\n",
        "corpus_fr = re.sub(r\"\\.(?=[0-9]|[a-z]|[A-Z])\", \".$$$\", corpus_fr)\n",
        "corpus_fr = re.sub(r\".\\$\\$\\$\", '', corpus_fr)\n",
        "corpus_fr = re.sub(r\"  +\", \" \", corpus_fr)\n",
        "corpus_fr = corpus_fr.split('\\n')"
      ]
    },
    {
      "cell_type": "markdown",
      "metadata": {
        "id": "tRADLSal-963"
      },
      "source": [
        "### Tokenizing Text"
      ]
    },
    {
      "cell_type": "markdown",
      "metadata": {
        "id": "sKJ1iqBJ63Ei"
      },
      "source": [
        "Use Tensorflow-datasets' `SubWordEncoder` to create a tokenizer from the corpus. Tokenizing is a type of preprocessing that decomposes parts of a given text into basic units. It encodes the units of text into a numerical representation which can be used for computation. The tokenizer will produce a vocabulary size of *$2^{13}$* or `8,192 tokens`."
      ]
    },
    {
      "cell_type": "code",
      "execution_count": null,
      "metadata": {
        "id": "_wlMqYm4_BkN"
      },
      "outputs": [],
      "source": [
        "# Tokenizer for English\n",
        "tokenizer_en = tfds.deprecated.text.SubwordTextEncoder.build_from_corpus(\n",
        "    corpus_en, target_vocab_size=2**13)\n",
        "\n",
        "# Tokenizer for French\n",
        "tokenizer_fr = tfds.deprecated.text.SubwordTextEncoder.build_from_corpus(\n",
        "    corpus_fr, target_vocab_size=2**13)"
      ]
    },
    {
      "cell_type": "markdown",
      "metadata": {
        "id": "2XBKSxrQ63Ek"
      },
      "source": [
        "### The vocabulary size will be used to build the `start` and `end` tokens"
      ]
    },
    {
      "cell_type": "markdown",
      "metadata": {
        "id": "Jj8arK3I63El"
      },
      "source": [
        "`Start-of-sentence` and `end-of-sentence` tokens signal to the algorithm when a sentence starts and ends. Here the size of the vocabulary is used to created them."
      ]
    },
    {
      "cell_type": "code",
      "execution_count": null,
      "metadata": {
        "id": "y0V816DV_RYY"
      },
      "outputs": [],
      "source": [
        "# Begin with the vocab_size + 2 as the base for the sos and eos tokens\n",
        "VOCAB_SIZE_EN = tokenizer_en.vocab_size + 2 # = 8190\n",
        "VOCAB_SIZE_FR = tokenizer_fr.vocab_size + 2 # = 8171"
      ]
    },
    {
      "cell_type": "code",
      "execution_count": null,
      "metadata": {
        "id": "rSYzhGZc_Tk9"
      },
      "outputs": [],
      "source": [
        "# Create the inputs and outputs by iterrating over the corpus and adding the tokens to each sentence\n",
        "inputs = [[VOCAB_SIZE_EN-2] + tokenizer_en.encode(sentence) + [VOCAB_SIZE_EN-1]\n",
        "          for sentence in corpus_en]\n",
        "\n",
        "outputs = [[VOCAB_SIZE_FR-2] + tokenizer_fr.encode(sentence) + [VOCAB_SIZE_FR-1]\n",
        "           for sentence in corpus_fr]"
      ]
    },
    {
      "cell_type": "markdown",
      "metadata": {
        "id": "2nNbOO_6_ZHI"
      },
      "source": [
        "### Remove very long sentences"
      ]
    },
    {
      "cell_type": "markdown",
      "metadata": {
        "id": "JU0mCTNR63En"
      },
      "source": [
        "We will limit the length of the sentences to some maximum. This will help to speed up computation. To do so, iterate over the input and output lists using `Python's enumerate() function` in order to filter and capture the indexes of long sentences. We then use the indexes to delete the long sentences."
      ]
    },
    {
      "cell_type": "code",
      "execution_count": null,
      "metadata": {
        "id": "eWTnuxul_f2I"
      },
      "outputs": [],
      "source": [
        "MAX_LENGTH = 40\n",
        "# Use enumerate to capture indexes\n",
        "idx_to_remove = [count for count, sent in enumerate(inputs)\n",
        "                 if len(sent) > MAX_LENGTH]\n",
        "\n",
        "# Remove long sentences by index\n",
        "for idx in reversed(idx_to_remove):\n",
        "    del inputs[idx]\n",
        "    del outputs[idx]\n",
        "\n",
        "# Rinse and repeate!\n",
        "idx_to_remove = [count for count, sent in enumerate(outputs)\n",
        "                 if len(sent) > MAX_LENGTH]\n",
        "\n",
        "for idx in reversed(idx_to_remove):\n",
        "    del inputs[idx]\n",
        "    del outputs[idx]"
      ]
    },
    {
      "cell_type": "markdown",
      "metadata": {
        "id": "BVZj1yLm_pCt"
      },
      "source": [
        "### Input / Output creation"
      ]
    },
    {
      "cell_type": "markdown",
      "metadata": {
        "id": "TFLtUUmI_4cc"
      },
      "source": [
        "As we train with batches, we need each input to have the same length. We pad with the appropriate token, and we will make sure this padding token doesn't interfere with our training later. `Keras' pad_sequences() method` is perfect for this. We add zeros to the end as needed where sentences are less than `MAX_LENGTH`. Recall that the `end-of-sentence` tokens will signal the true end of the sentences."
      ]
    },
    {
      "cell_type": "code",
      "execution_count": null,
      "metadata": {
        "id": "j2RAcIcm_siD"
      },
      "outputs": [],
      "source": [
        "inputs = tf.keras.preprocessing.sequence.pad_sequences(inputs,\n",
        "                                                       value=0,\n",
        "                                                       padding='post',\n",
        "                                                       maxlen=MAX_LENGTH)\n",
        "\n",
        "outputs = tf.keras.preprocessing.sequence.pad_sequences(outputs,\n",
        "                                                        value=0,\n",
        "                                                        padding='post',\n",
        "                                                        maxlen=MAX_LENGTH)"
      ]
    },
    {
      "cell_type": "markdown",
      "metadata": {
        "id": "YA3xGXd-63Eq"
      },
      "source": [
        "### Create the datasets"
      ]
    },
    {
      "cell_type": "markdown",
      "metadata": {
        "id": "f6gvtMV063Er"
      },
      "source": [
        "Passing our data into `Dataset.from_tensor_slices()` converts the data to tensorflow tensors. We pass both the English and French lists, which are sliced into tensors."
      ]
    },
    {
      "cell_type": "markdown",
      "metadata": {
        "id": "IJg9Ail663Es"
      },
      "source": [
        "We define the `BATCH_SIZE` and the `BUFFER_SIZE`. Care must be taken when choosing the batch size. If it's too large you will quickly exhaust GPU memory and get the dreaded `OOM` error. 64 seems to work fine on `Google Colab` and `Kaggle` but not on `Paperspace Gradient`, or my `ASUS ZenBook`"
      ]
    },
    {
      "cell_type": "markdown",
      "metadata": {
        "id": "4u7fUZq_63Es"
      },
      "source": [
        "Care must also be taken when choosing the size of the shuffle buffer. According to the `Tensorflow` documentation - \"*For perfect shuffling, a buffer size greater than or equal to the full size of the dataset is required*.\""
      ]
    },
    {
      "cell_type": "code",
      "execution_count": null,
      "metadata": {
        "id": "snu8JluxABcV"
      },
      "outputs": [],
      "source": [
        "BATCH_SIZE = 64\n",
        "BUFFER_SIZE = 20000\n",
        "\n",
        "dataset = tf.data.Dataset.from_tensor_slices((inputs, outputs))\n",
        "\n",
        "dataset = dataset.cache()\n",
        "dataset = dataset.shuffle(BUFFER_SIZE).batch(BATCH_SIZE)\n",
        "dataset = dataset.prefetch(tf.data.experimental.AUTOTUNE)"
      ]
    },
    {
      "cell_type": "markdown",
      "metadata": {
        "id": "uzT2MXrdAGQm"
      },
      "source": [
        "## Model Building"
      ]
    },
    {
      "cell_type": "markdown",
      "metadata": {
        "id": "1ZXAID4p63Ev"
      },
      "source": [
        "#### Model Composition\n",
        "The model is made op of the following basic components:\n",
        "* Positional Encoders\n",
        "* Self-Attention Layers\n",
        "* Point-wise Feed Forward Networks layers\n",
        "\n",
        "With these componants we create th multi-layer encoder and decoder. Everything is expalined in the sections to follow.\n",
        "\n",
        "Below is the image illustrating the `transformer architecture`. It shows the parts that together constitute the model. There is a mulit-layer encoder. The output of the encoder is passed to the decoder. And the output of the decoder is the model output.\n",
        "\n",
        "Note the embedding and positional encoding prior to the encoder and decoder inputs. While not technically part of the model, these steps are necessary. Also note the linear transformation an softmax function that is performed on the decoder outputs.\n",
        "\n",
        "Continue to read and these will all be explained.\n",
        "\n",
        "<img src='img/transformer-arch.png' width='500'>\n",
        "<div align=\"center\" >Image from http://jalammar.github.io/illustrated-transformer/</div>\n"
      ]
    },
    {
      "cell_type": "markdown",
      "metadata": {
        "id": "NpP2OQMuAVdj"
      },
      "source": [
        "### Positional Encoding"
      ]
    },
    {
      "cell_type": "markdown",
      "metadata": {
        "id": "cwVBmy0563Ex"
      },
      "source": [
        "Unlike sequential algorithms like `RNN`s and `LSTM`, transformers don't have a mechanism buit in to capture the relative positions of words in a sentence. This is important because the distance between words provides crucial contextual information. This is where positional encoding steps in.\n",
        "\n",
        "Positional encoding is not part of the architecture of the model. It is actually part of the preprocessing. The positional encoding vector is generated to be the same size as the embedding vector for the each word. After calculation, the positional encoding vector is added to the embedding vector. The pattern that is 'injected' into the embedding vector allows the algorithm to learn this spacial information.\n",
        "\n",
        "So how does it work?\n",
        "\n",
        "Notice in the formula shown below that PE is a function of the position of the word in the sequence ($pos$), and the embedding ($i$).  First, an angle is calculated using the formula $pos\\,/\\,10000^{2i\\,/\\,dmodel}$. Then, either take the sine or cosine of the angle. That gives the value for the word at position $pos$ and embedding index $i$. $pos$ holds constant for the word as the embedding index, $i$ increases, giving a unique pattern for that word.\n",
        "\n",
        "Upon going to the next word $pos$ increments. This shifts the pattern to the right slightly. The $PE$ formula applies the sine function for even embedding indexes ($i$) and the cosine function for odd embedding indexes. That is why you see an interleving pattern (chekerboard) in the figure below.\n",
        "\n",
        "So why this formula. The authors of the [paper](https://arxiv.org/abs/1706.03762) explain it this way:\n",
        "\n",
        "> We chose this function because we hypothesized it would allow the model to easily learn to attend by relative positions, since for any fixed offset $k$, $PE_{pos+k}$ can be represented as a linear function of $PE_{pos}$.\n",
        "\n",
        "Mathematical explaination from the below mentioned [Reddit](https://www.reddit.com/r/MachineLearning/comments/6jdi87/r_question_about_positional_encodings_used_in/) post.\n",
        "> If k is fixed, than sin(k/a) and cos(k/a) are constant and PE_{pos+k} is some matrix which depends on k times PE_pos.\n",
        "\n",
        "> $\\begin{align}\n",
        "PE_{pos+k,2i} &= sin\\left(\\frac{pos}{a} + \\frac{k}{a}\\right)\\\\\n",
        "              &= cos\\left(\\frac{pos}{a}\\right)sin\\left(\\frac{k}{a}\\right) + sin\\left(\\frac{pos}{a}\\right)cos\\left(\\frac{k}{a}\\right)\\\\\n",
        "              &= (PE_{pos,2i+1})\\, u + (PE_{pos,2i})\\, v \\\\\n",
        "              &= (PE_{pos,2i}, PE_{pos,2i+1})\\, (v, u)\\\\\n",
        "\\end{align}$\n",
        "\n",
        "Here is another great explaination given be Steven Smit in his [blog](https://stevensmit.me/taking-a-look-at-transformer-architecture/):\n",
        "\n",
        "> One of the reasons for using sine and cosine functions is that they are periodic and so whether the model is learning on a sequence of length 5, or of length 500, the encodings will always have the same range ([-1, 1]).\n",
        "\n",
        "> Another, perhaps more important reason, is that they allow the model to “learn to attend by relative positions”. This follows because “for any fixed offset $k$, $PE_{pos+k}$ can be represented as a linear function of $PE_{pos$}$.” If you want a derivation of this property, look no further than this comment on [Reddit](https://www.reddit.com/r/MachineLearning/comments/6jdi87/r_question_about_positional_encodings_used_in/).\n",
        "\n",
        "> This means the model is provided with information to learn the relative proximity between words in the sequence, for any proximity (“fixed k”).\n",
        "\n",
        "Note that the residual connections within the transformer help to reinforced the positional encoding layer to layer.\n"
      ]
    },
    {
      "cell_type": "markdown",
      "metadata": {
        "id": "vJFGGgJrAcOv"
      },
      "source": [
        "Positional encoding formula:\n",
        "\n",
        "$PE_{(pos,2i)} =\\sin(pos/10000^{2i/dmodel})$\n",
        "\n",
        "$PE_{(pos,2i+1)} =\\cos(pos/10000^{2i/dmodel})$"
      ]
    },
    {
      "cell_type": "code",
      "execution_count": null,
      "metadata": {
        "id": "mhnFhTtJAPCz"
      },
      "outputs": [],
      "source": [
        "class PositionalEncoding(layers.Layer):\n",
        "\n",
        "    def __init__(self):\n",
        "        super(PositionalEncoding, self).__init__()\n",
        "\n",
        "    def get_angles(self, pos, i, d_model):\n",
        "        '''\n",
        "        pos     - (seq_length, 1) matrix\n",
        "        i       - (1, d_model) matrix\n",
        "        d_model - the size of the embedding vectors\n",
        "        '''\n",
        "        angles = 1 / np.power(10000., (2*(i//2)) / np.float32(d_model))\n",
        "        return pos * angles\n",
        "\n",
        "    def call(self, inputs):\n",
        "        '''\n",
        "        inputs - the word embeddings - (batch_size, seq_length, d_model)\n",
        "        '''\n",
        "        seq_length = inputs.shape.as_list()[-2]\n",
        "        d_model = inputs.shape.as_list()[-1]\n",
        "\n",
        "        angles = self.get_angles(np.arange(seq_length)[:, np.newaxis],\n",
        "                                 np.arange(d_model)[np.newaxis, :],\n",
        "                                 d_model)\n",
        "\n",
        "        # Interleve the results of sine and cosine funtions along the embedding vectors\n",
        "        angles[:, 0::2] = np.sin(angles[:, 0::2])\n",
        "        angles[:, 1::2] = np.cos(angles[:, 1::2])\n",
        "\n",
        "        # Add dimension for batch_size\n",
        "        pos_encoding = angles[np.newaxis, ...]\n",
        "        return inputs + tf.cast(pos_encoding, tf.float32)"
      ]
    },
    {
      "cell_type": "code",
      "execution_count": null,
      "metadata": {
        "id": "P5eMYpHe3IiP"
      },
      "outputs": [],
      "source": [
        "if os.path.isdir('../img') is False:\n",
        "    os.mkdir('../img')"
      ]
    },
    {
      "cell_type": "code",
      "execution_count": null,
      "metadata": {
        "colab": {
          "base_uri": "https://localhost:8080/",
          "height": 283
        },
        "id": "PFy9GFgndCth",
        "outputId": "aa28c5db-e62f-434e-969b-35f6c8755cc6"
      },
      "outputs": [
        {
          "output_type": "display_data",
          "data": {
            "text/plain": [
              "<Figure size 432x288 with 2 Axes>"
            ],
            "image/png": "[encoded data removed]"
          },
          "metadata": {
            "needs_background": "light"
          }
        }
      ],
      "source": [
        "pos_encoding = PositionalEncoding().call(tf.zeros([1, 40, 128], tf.float32))\n",
        "\n",
        "plt.pcolormesh(pos_encoding[0], cmap='RdBu')\n",
        "plt.xlabel('Depth')\n",
        "plt.xlim((0, 128))\n",
        "plt.ylabel('Position')\n",
        "plt.colorbar()\n",
        "plt.savefig('../img/pos_enc.png')\n",
        "plt.show()"
      ]
    },
    {
      "cell_type": "markdown",
      "metadata": {
        "id": "ox6N8z38A1o6"
      },
      "source": [
        "### Self-Attention\n",
        "This is the special sauce in the transformer! It solves the problems of parallelization and loss of contextual information for words that are distant from each other within a sequence. These were issues with seq2seq models such as `RNN`s and `LSTM`s.\n",
        "\n",
        "The main cause of these issues within those models is that they needed to process each word in a sequence one by one. This meant that they took longer to train. What if we could process all of the words in parallel?\n",
        "\n",
        "The other issue is the way that context and structure is derived. Those models start by passing the first word (token) to an encoder and calculating a new `state` with a random starting state. Then in the next time step use the next word and the previous state to create a new state. This process is repeated until all words are exhausted at which point a fixed length context vector is generated. The context vector is then passed to the decoder for output generation.\n",
        "\n",
        "The problem is that by the time the final context vector is computed, contextual information about the earlier states can be loss because the earlier computations do not have access to the later words. In addition the fixed sized context vector may not be large enough to retain all of the information.\n",
        "\n",
        "So how does the transformer solve these problems?\n",
        "\n",
        "The transformer's encoders and decoders consume the entire sequence and process all words (embedding) in parallel. Because of this parallelization, training time is reduced. Second, this parallel processing means that the context can be computed from all the words together, resulting in a more complete context.\n",
        "\n",
        "##### Linear Transformation\n",
        "The first thing that happens when a sequence of embeddings is passed to the transformer's inputs (encoder and decoder) is that each embedding experiences three separate linear transformations resulting in three vectors - `query`, `key`, and `value`. These transformations occur when the input vectors (embedding) are multiplied by 3 weight matrices. The proper weights are learned through training. The image below represents a vector of seq_length 2 and embedding size of 4.\n",
        "\n",
        "Why three linear transformations?\n",
        "\n",
        "Since each `weight matrix` is initialized with random weights, the resultant vectors each learn some different information about the embedding (word) being processed. This is important when calculating the attention score since we don't want to just derive the dot product of the vector with itself.\n",
        "\n",
        "<img src='img/self-attention-matrix-calculation.png' width='250'>\n",
        "<div align=\"center\" style=\"font-weight:bold\">Fig 2: Linear Transformation</div>\n",
        "<div align=\"center\" >Image from http://jalammar.github.io/illustrated-transformer/</div>\n",
        "\n",
        "Now that we have these 3 vectors for each embedding in the sequence we can calculate the `attention score`. The attention score measure the strength of the relationship between a word in the sequence with all the other words.\n",
        "\n",
        "#### Calculate the self-attention:\n",
        "1. Take the query vector for a word and calculate it's `dot product` with the transpose of the `key vector` of each word in the sequence - including itself. This is the `attention score` or `attention weight`.\n",
        "2. Then divide each of the results by the square root of the dimension of the key vector. This is the `scaled attention score`.\n",
        "3. Pass the them through a `softmax` function, so that values are contained between 0 and 1.\n",
        "4. Take each of the `value vectors` and calculate the `dot product` with the output of the `sofmax` function.\n",
        "5. Add all the `wighted value vectors` together.\n",
        "\n",
        "Notice in the figure below that we are doing matrix operations on `seq_length x embedding_size` matrices. This shows a toy example of two word with embedding size of 3.\n",
        "\n",
        "<div align=\"center\" style=\"font-weight:bold\">Attention calculation </div>\n",
        "\n",
        "<img src='img/self-attention-matrix-calculation-2.png' width='500'>\n",
        "<div align=\"center\" style=\"font-weight:bold\">Fig 3: Attention</div>\n",
        "<div align=\"center\" >Image from http://jalammar.github.io/illustrated-transformer/</div>\n",
        "\n",
        "The `dot product` results in a `seq_length x seq_length` matrix. Think `correlation matrix` where the relationships between any two members can be found by their intersections. In this case the members are words and their intersections are `attention scores`.\n",
        "\n",
        "Multiplying the `value matrix` `attention matrix` results once again in a `seq_length x embedding_size` matrix. This matrix holds the `contextual information` for each embedding.\n",
        "\n",
        "#### Multi-Head Self-Attention\n",
        "\n",
        "What I described above is `single-head self-attention`. In practice we use `multi-head self-attention`. With `multi-head self-attention`, each word is processed by several attention heads. In the original paper they used eight, which is what I use here.\n",
        "\n",
        "<img src='img/attention-arch.png' width='250'>\n",
        "<div align=\"center\" style=\"font-weight:bold\">Fig 4: Mutli-Head attention</div>\n",
        "<div align=\"center\" >Image from https://arxiv.org/pdf/1706.03762.pdf</div>\n",
        "\n",
        "For `multi-head self-attention`, the `query`, `key`, and `value` vectors are divided by the number of heads, and each segment is passed through a different head. This results in eight vectors which are then concatenated together and transformed by multiplying with another weight matrix so that the resultant vector is the size of the input embedding vector.\n",
        "\n",
        "<img src='img/transformer_attention_heads_weight_matrix_o.png' width='500'>\n",
        "<div align=\"center\" style=\"font-weight:bold\">Fig 5: Concatanation of attention vectors</div>\n",
        "<div align=\"center\" >Image from http://jalammar.github.io/illustrated-transformer/</div>\n",
        "\n",
        "From the [paper](https://arxiv.org/pdf/1706.03762.pdf):\n",
        "\n",
        "> Multi-head attention allows the model to jointly attend to information from different representation\n",
        "subspaces at different positions. With a single attention head, averaging inhibits this.\n",
        "\n",
        "> $\\begin{align}\n",
        "MultiHead(Q, K, V ) &= Concat(head1, ..., headh)W^O\\\\\n",
        "where, head_i &= Attention(QW^Q_i, KW^K_i, VW^V_i)\n",
        "\\end{align}$\n",
        "\n",
        "> In this work we employ h = 8 parallel attention layers, or heads. For each of these we use\n",
        "$d_k = d_v =\\, ^{d_{model}}/_h = 64$. Due to the reduced dimension of each head, the total computational cost\n",
        "is similar to that of single-head attention with full dimensionality\n",
        "\n",
        "#### Attention Masks\n",
        "\n",
        "Prior to the `softmax` function we need to apply a mask to the `attention score`. The mask will be either a `padding mask` or a combination of the `padding mask` and a `look-ahead mask`.\n",
        "\n",
        "##### Padding Mask\n",
        "\n",
        "The sequences that are the input to the `encoder` and the `decoder` must be of the same length. Because sentences are of varying length, one must either truncate the sentence, or pad the sentence so that they are all of a specified length. As a result, the padding might be interpreted as meaningful by the `attention` mechanism l eading to\n",
        "unreliable learning.\n",
        "\n",
        "To mitigate this effect a `padding mask` is applied so that when added to the `attention score` the values in the padded positions become so small as to be ignored. This is acheived by setting the positions in the mask to a value close to `negative infinity`.\n",
        "\n",
        "##### Look-Ahead Mask\n",
        "\n",
        "Transformers are `autoregressive models`. They look at at all of previous input in a sequence in order to predict the next output (`token`). But because, unlike `RNN`s, they recieve the entire sequence at once there needs to be a way to limit attention for any position so that only the portion of the sequence that comes before it is attended to. This is because it is desired that the model infer the next position without having a peak. If it were able to look at the next position, then it would just copy it.\n",
        "\n",
        "That's what the `look-ahead mask` accomplishes. All of the `attention scores` for words that occur to the right of a `query` word in the sequence are masked. This limits the `query` word to attend to itself and all words to the left in the sequence.\n",
        "\n",
        "The `look-ahead mask` is only applied to the decoder. More on that later.\n",
        "\n",
        "**How does it works?**\n",
        "\n",
        "1. Create a mask where the values for the upper right triangle above the diagnal are all ones and the rest zeros.\n",
        "2. Multiply the mask by $-1e9$.\n",
        "3. Add the mask to the `attention matrix`.\n",
        "\n",
        "<img src='img/Look-ahead-mask.png' width='1000'>\n",
        "\n",
        "<div align=\"center\" style=\"font-weight:bold\">Fig 6: Look-Ahead Mask implementation</div>\n",
        "\n",
        "After applying `softmax` to the `attention matrix`, all of those extremely small values will become zero. So how does that matter?\n",
        "\n",
        "In the toy `attention matrix` in the figure, I've labeled both axises $T_1,...,T_n$. The columns represent the token (word) `keys` and the rows are the token `queries`. We query for attention along the rows. The attention score for any query $T_i$, are the values in it's row with respect to the `key` columns $[T_1,...,T_n]$. Notice that the top most `query`, $T_1$ can only get the score for the left most `key` $T_1$. There is no meaningful imformation for $T_2 - T_5$  (values too low). The `query` $T_2$ has access to the set of `key`s $(T_2$, $T_1)$. And so on, until $T_5$, the last word, which has access to the entire sequence.\n",
        "\n",
        "There is one more thing. The attention mask is not applied alone. Remember that there is also padding to account for. Therefore, the `look-ahead mask` is applied along with the `padding mask`."
      ]
    },
    {
      "cell_type": "markdown",
      "metadata": {
        "id": "cVcKOK5OA5LA"
      },
      "source": [
        "#### Attention computation"
      ]
    },
    {
      "cell_type": "markdown",
      "metadata": {
        "id": "8Ag4g6KfBFBz"
      },
      "source": [
        "This is the attention formula.\n",
        "\n",
        "$Attention(Q, K, V ) = \\text{softmax}\\left(\\dfrac{QK^T}{\\sqrt{d_k}}\\right)V $\n",
        "\n",
        "**Attention with mask**\n",
        "\n",
        "And this is what it looks like when applying the mask.\n",
        "\n",
        "$Attention(Q, K, V, M ) = \\text{softmax}\\left(\\dfrac{QK^T}{\\sqrt{d_k}}+M\\right)V $\n",
        "\n",
        "<img src='img/attention-dot-product.png' width='250'>\n",
        "<div align=\"center\" style=\"font-weight:bold\">Fig 7: Attention Dot Product</div>\n",
        "<div align=\"center\" >Image from https://arxiv.org/pdf/1706.03762.pdf</div>\n"
      ]
    },
    {
      "cell_type": "code",
      "execution_count": null,
      "metadata": {
        "id": "pOl6_WF2A3WG"
      },
      "outputs": [],
      "source": [
        "#\n",
        "# Calculate attention\n",
        "#\n",
        "def scaled_dot_product_attention(queries, keys, values, mask):\n",
        "    '''\n",
        "    Takes three vectors and mask\n",
        "    Returns the attention and attention weights\n",
        "    '''\n",
        "    # The steps describe above under 'Calculate the Attention'\n",
        "    # Step 1\n",
        "    product = tf.matmul(queries, keys, transpose_b=True)\n",
        "\n",
        "    # Step 2\n",
        "    keys_dim = tf.cast(tf.shape(keys)[-1], tf.float32)\n",
        "    scaled_product = product / tf.math.sqrt(keys_dim)\n",
        "\n",
        "    if mask is not None:\n",
        "        scaled_product += (mask * -1e9)\n",
        "\n",
        "    # step 4\n",
        "    attention_weights =tf.nn.softmax(scaled_product, axis=-1)\n",
        "\n",
        "    # Step 5\n",
        "    attention = tf.matmul(attention_weights, values)\n",
        "\n",
        "    return attention, attention_weights"
      ]
    },
    {
      "cell_type": "markdown",
      "metadata": {
        "id": "L2SvfuWLBWM7"
      },
      "source": [
        "#### Multi-head attention sublayer"
      ]
    },
    {
      "cell_type": "markdown",
      "metadata": {
        "id": "-tdVB9DN63E7"
      },
      "source": [
        "This is where everything discussed previously gets implemented. Here is a summary of what it does.\n",
        "\n",
        "1. Instantiates 4 `dense layers`\n",
        "2. Passes the input through 3 dense layer, creating 3 `linear transformations` resulting in the `query`, `key`, and `value` vectors.\n",
        "3. Split each vector by number of heads.\n",
        "4. Pass the vectors to the `scaled_dot_product_attention()` function and calculate the attentions per head\n",
        "5. Concatenate the attention resulting from each head.\n",
        "6. Pass result through a final dense layer which reshapes the `attention vector` back to (batch_size, seq_length, d_model)\n",
        "7. Return the `attention vector` and the `attention weights`\n",
        "\n",
        "\n",
        "The `MultiHeadAttention` class accepts the `number of heads` as an argument when an object is instantiated.\n",
        "The call method accepts three tensors with dimension of (batch_size, seq_length, d_model) as input. In each encoder layer this is the same tensor. In the decoder where a layer contains two attention layers, for the first attention layer it's the same tensor.  For the second `attention layer` the `key` and `value` tensors are the output of the encoder, and the `query` tensor is the output of the first `attention layer` of the decoder."
      ]
    },
    {
      "cell_type": "code",
      "execution_count": null,
      "metadata": {
        "id": "2otZB4ibBW1O"
      },
      "outputs": [],
      "source": [
        "class MultiHeadAttention(layers.Layer):\n",
        "\n",
        "    # nb_proj is the number of heads\n",
        "    def __init__(self, nb_proj):\n",
        "        super(MultiHeadAttention, self).__init__()\n",
        "        self.nb_proj = nb_proj\n",
        "\n",
        "    def build(self, input_shape):\n",
        "        self.d_model = input_shape[-1]\n",
        "        assert self.d_model % self.nb_proj == 0\n",
        "\n",
        "        # Calculate the head dimensions.\n",
        "        self.d_proj = self.d_model // self.nb_proj\n",
        "\n",
        "        # These layers contain the weights for the linear transformations\n",
        "        self.query_lin = layers.Dense(units=self.d_model)\n",
        "        self.key_lin = layers.Dense(units=self.d_model)\n",
        "        self.value_lin = layers.Dense(units=self.d_model)\n",
        "\n",
        "        # Used to transform after concatenating the weighted value vectors\n",
        "        self.final_lin = layers.Dense(units=self.d_model)\n",
        "\n",
        "    # This method splits the query, key, and value vectors by the number of heads\n",
        "    def split_proj(self, inputs, batch_size): # inputs: (batch_size, seq_length, d_model)\n",
        "        shape = (batch_size,\n",
        "                 -1,\n",
        "                 self.nb_proj,\n",
        "                 self.d_proj)\n",
        "\n",
        "        # Reshape the tensor to account for the multiple heads and reduced vector dimension\n",
        "        splited_inputs = tf.reshape(inputs, shape=shape) # (batch_size, seq_length, nb_proj, d_proj)\n",
        "\n",
        "        # Reconfigure the axeses.\n",
        "        return tf.transpose(splited_inputs, perm=[0, 2, 1, 3]) # (batch_size, nb_proj, seq_length, d_proj)\n",
        "\n",
        "    def call(self, queries, keys, values, mask):\n",
        "        '''\n",
        "        If this is the first attention layer of the encoder, then all vector inputs are the same vector.\n",
        "        For later layers, this is the output of the previous layer.\n",
        "        For the decoder, keys and values are the output of the encoder.\n",
        "            The queries is the inferred words up to this time step.\n",
        "        '''\n",
        "        batch_size = tf.shape(queries)[0]\n",
        "\n",
        "        # Initialize the weight matrices\n",
        "        queries = self.query_lin(queries)\n",
        "        keys = self.key_lin(keys)\n",
        "        values = self.value_lin(values)\n",
        "\n",
        "        # Split the vectors by number of heads\n",
        "        queries = self.split_proj(queries, batch_size)\n",
        "        keys = self.split_proj(keys, batch_size)\n",
        "        values = self.split_proj(values, batch_size)\n",
        "\n",
        "        # Get attention and weights\n",
        "        attention, attention_weights = scaled_dot_product_attention(queries,\n",
        "                                                                    keys,\n",
        "                                                                    values,\n",
        "                                                                    mask)\n",
        "        # Flip dims 1 and 2\n",
        "        attention = tf.transpose(attention, perm=[0, 2, 1, 3])\n",
        "\n",
        "        # Concat all the attention vectors\n",
        "        concat_attention = tf.reshape(attention,\n",
        "                                      shape=(batch_size, -1, self.d_model))\n",
        "\n",
        "        # Transform the concated vectors to reshape back to (batch_size, seq_length, d_model)\n",
        "        outputs = self.final_lin(concat_attention)\n",
        "\n",
        "        return outputs, attention_weights"
      ]
    },
    {
      "cell_type": "markdown",
      "metadata": {
        "id": "pvrv4FkiBkzD"
      },
      "source": [
        "### Encoder"
      ]
    },
    {
      "cell_type": "markdown",
      "metadata": {
        "id": "HvUvEOuJ63E9"
      },
      "source": [
        "Having understood all that we have covered so far, we should be in good shape to understand what follows.\n",
        "\n",
        "The `encoder` is made up of one or more `encoder layers`. Each `encoder layer` is made up of two sub-layers. The first the `attention layer`, followed by the `point-wise feed forward layer`. The ouput of an `encoder layer` is the input to the next.\n",
        "\n",
        "<img src='img/encoder-2.png' width='450'>\n",
        "<div align=\"center\" style=\"font-weight:bold\">Fig 8: Encoder Architecture</div>\n",
        "<div align=\"center\" >Image from https://arxiv.org/pdf/1706.03762.pdf</div>\n",
        "\n",
        "\n",
        "The role of the encoding layer is to process the input and encode the `contextual` and `structural` information of the sequence. It accounts for how one word relates to another within the sequence and the strength of that relationship. This contextual information is processed at each layer, with the ouput of one being the input of the next. Because of this, it is necessary to assure that the input and output matrices are of the same shape. The final ouput then is passed as the input to the `decoder`.\n",
        "\n",
        "Regarding the `attention layers` in the encoder, this is what the paper says.\n",
        "\n",
        "> The encoder contains self-attention layers. In a self-attention layer all of the keys, values\n",
        "and queries come from the same place, in this case, the output of the previous layer in the\n",
        "encoder. Each position in the encoder can attend to all positions in the previous layer of the\n",
        "encoder"
      ]
    },
    {
      "cell_type": "markdown",
      "metadata": {
        "id": "9UwbOQg463E-"
      },
      "source": [
        "#### EncoderLayer Class\n",
        "\n",
        "The three main components of `EncoderLayer Class` are the implementation of the `multi-head attention` sub-layer, followed by a `normalization` sub-layer, a `point-wise feed forward layer`, and another `normalization` sub-layer. It also includes the residual connection that sums the `attention layer's` input with its output before normalization.\n",
        "\n",
        "The same occurs in the `FNN` where the normalized output of the `attention layer` (the input to the FNN) is added to the output of the `FNN` before normalization. The normalized output of the `FNN` is the input to the next `encoder layer`, or in the case of the last layer, the input to the decoder.\n",
        "\n",
        "To be clear, the `point-wise feed forward layer` consists of two `dense layers` with a `relu activation function` in between them.\n",
        "\n",
        "The EncoderLayer take as arguments on object instantiation the number of nodes for the `dense layers`, the number of heads for the `attention layer`, and the dropout rate.\n",
        "\n",
        "Also note that to calculate attention in the encoder only a `padding mask` is used.\n",
        "\n",
        "A summary of what this layer is doing follows.\n",
        "\n",
        "1. Creates the `attention layer` by instantiating a `multi-head attention` object, a `dropout` object, and the `normalization` object.\n",
        "2. Creates the `point-wise feedforward network` layer by instantiating two `dense` objects, a `dropout` object, and the `normalization` object.\n",
        "3. Takes as arguments the input of shape (batch_size, seq_length, d_model), the mask, and a boolean for the dropout.\n",
        "4. Pass the input and mask to the `multi-head attention` object to get the attention calculation\n",
        "5. Pass attention through dropout.\n",
        "6. Add the input to the attention and normalize.\n",
        "7. Pass the `normalized attention` thwough the `FNN`\n",
        "8. Pass through dropout.\n",
        "9. Add at the `normalized attention` to the `normalized output`.\n",
        "10. Return the output with shape (batch_size, seq_length, d_model).\n",
        "\n"
      ]
    },
    {
      "cell_type": "code",
      "execution_count": null,
      "metadata": {
        "id": "pN5n9QJ0Blho"
      },
      "outputs": [],
      "source": [
        "class EncoderLayer(layers.Layer):\n",
        "\n",
        "    def __init__(self, FFN_units, nb_proj, dropout_rate):\n",
        "        '''\n",
        "        FFN-units    - # of nodes for the point wise feed forward layer\n",
        "        nb_proj      - # of heads\n",
        "        dropout_rate - The dropout rate for the layers\n",
        "        '''\n",
        "        super(EncoderLayer, self).__init__()\n",
        "        self.FFN_units = FFN_units\n",
        "        self.nb_proj = nb_proj\n",
        "        self.dropout_rate = dropout_rate\n",
        "\n",
        "    # This is a tensorflow layers method. Automatically called by __call__\n",
        "    # to automatically build the layers.\n",
        "    def build(self, input_shape):\n",
        "\n",
        "        self.d_model = input_shape[-1]\n",
        "\n",
        "        # Multi-head attention\n",
        "        self.multi_head_attention = MultiHeadAttention(self.nb_proj)\n",
        "        self.dropout_1 = layers.Dropout(rate=self.dropout_rate)\n",
        "        self.norm_1 = layers.LayerNormalization(epsilon=1e-6)\n",
        "\n",
        "        # Point wise feed forward\n",
        "        self.dense_1 = layers.Dense(units=self.FFN_units, activation=\"relu\")\n",
        "        self.dense_2 = layers.Dense(units=self.d_model)\n",
        "        self.dropout_2 = layers.Dropout(rate=self.dropout_rate)\n",
        "        self.norm_2 = layers.LayerNormalization(epsilon=1e-6)\n",
        "\n",
        "    def call(self, inputs, mask, training):\n",
        "        '''\n",
        "        inputs   -> Input tensor of shape (batch_size, seq_length, d_model)\n",
        "        mask     -> Padding mask to ignore padding zeros as data\n",
        "        training -> Boolean - If 1, then use dropout, else not\n",
        "        '''\n",
        "        # Attention sub-layer\n",
        "        # Retain only the attention. Don't need to return weights in this layer.\n",
        "        attention, _ = self.multi_head_attention(inputs,\n",
        "                                                 inputs,\n",
        "                                                 inputs,\n",
        "                                                 mask)\n",
        "        attention = self.dropout_1(attention, training=training)\n",
        "        attention = self.norm_1(attention + inputs)\n",
        "\n",
        "        # Point-Wise Feed Forward sub-layer\n",
        "        outputs = self.dense_1(attention)\n",
        "        outputs = self.dense_2(outputs)\n",
        "        outputs = self.dropout_2(outputs, training=training)\n",
        "        outputs = self.norm_2(outputs + attention)\n",
        "\n",
        "        # Returns tensor of shape (batch_size, seq_length, d_model)\n",
        "        return outputs"
      ]
    },
    {
      "cell_type": "markdown",
      "metadata": {
        "id": "me9FOCiT63E_"
      },
      "source": [
        "#### Encoder Class"
      ]
    },
    {
      "cell_type": "markdown",
      "metadata": {
        "id": "Tp36YVWv63E_"
      },
      "source": [
        "The `full encoder` is a `stack of encoding layers`. This class implements the `encoder stack`. In addition to that, it also implements `embedding` and `positional encoding`. The output is the output of the `encoder stack`.\n",
        "\n",
        "Here is a summary of what the encoder is doing.\n",
        "\n",
        "1. Creates an `embedding layer`\n",
        "2. Initializes the `positional encoding` object\n",
        "3. Creates a `dropout layer`\n",
        "4. Creates number of `encoding layers` specified by `nb_layers`\n",
        "5. Takes a (batch_size, seq_length) shape input, an `attention mask`, and a boolean\n",
        "6. Passes the input through the `embedding layer` and produces a tensor of shape (batch_size, seq_length, d_model)\n",
        "7. Creates the `positional encoding vectors`\n",
        "8. Adds the `positional encoding vectors` to the `embedding vectors`\n",
        "9. Passes the resulting input tensor, the mask, and the training boolean to the `encoding layer stack`\n",
        "10. Iterates over the `encoding layer stack`\n",
        "11. Returns an output tensor of shape (batch_size, seq_length, d_model)\n",
        "\n",
        "In the code you will see this sequence:\n",
        "```Python\n",
        "   outputs = self.embedding(inputs)\n",
        "   outputs *= tf.math.sqrt(tf.cast(self.d_model, tf.float32))\n",
        "   outputs = self.pos_encoding(outputs)\n",
        "```\n",
        "The explaination for the multiplication given [here](https://towardsdatascience.com/how-to-code-the-transformer-in-pytorch-24db27c8f9ec)\n",
        "> The reason we increase the embedding values before addition is to make the positional encoding relatively smaller. This means the original meaning in the embedding vector won’t be lost when we add them together."
      ]
    },
    {
      "cell_type": "code",
      "execution_count": null,
      "metadata": {
        "id": "hPbsh_Q1BuD4"
      },
      "outputs": [],
      "source": [
        "class Encoder(layers.Layer):\n",
        "    '''\n",
        "    nb_layers    -> Number of encoder layers\n",
        "    FFN_units    -> Number of nodes in the FFN\n",
        "    nb_proj      -> Number of attention heads\n",
        "    dropout_rate -> Droput rate\n",
        "    vocab_size   -> The size of the vocabulary\n",
        "    d_model      -> Size of embedding vectors\n",
        "    name         -> Name of the layer\n",
        "    '''\n",
        "    def __init__(self,\n",
        "                 nb_layers,\n",
        "                 FFN_units,\n",
        "                 nb_proj,\n",
        "                 dropout_rate,\n",
        "                 vocab_size,\n",
        "                 d_model,\n",
        "                 name=\"encoder\"):\n",
        "        super(Encoder, self).__init__(name=name)\n",
        "\n",
        "        # Number of encoder layers\n",
        "        self.nb_layers = nb_layers\n",
        "        # Embedding dimension\n",
        "        self.d_model = d_model\n",
        "\n",
        "        # Initialize embedding, positional encoding, droppout, and encoding layers\n",
        "        self.embedding = layers.Embedding(vocab_size, d_model)\n",
        "        self.pos_encoding = PositionalEncoding()\n",
        "        self.dropout = layers.Dropout(rate=dropout_rate)\n",
        "        self.enc_layers = [EncoderLayer(FFN_units,\n",
        "                                        nb_proj,\n",
        "                                        dropout_rate)\n",
        "                           for _ in range(nb_layers)]\n",
        "\n",
        "    def call(self, inputs, mask, training):\n",
        "        '''\n",
        "        inputs   -> Tokenized input of shape (batch_size, seq_length)\n",
        "        mask     -> Attention mask\n",
        "        training -> Boolean\n",
        "        '''\n",
        "        outputs = self.embedding(inputs)\n",
        "        outputs *= tf.math.sqrt(tf.cast(self.d_model, tf.float32))\n",
        "        outputs = self.pos_encoding(outputs)\n",
        "        outputs = self.dropout(outputs, training)\n",
        "\n",
        "        # Forward pass\n",
        "        for i in range(self.nb_layers):\n",
        "            outputs = self.enc_layers[i](outputs, mask, training)\n",
        "\n",
        "        # Returns tensor of shape (batch_size, seq_length, d_model)\n",
        "        return outputs"
      ]
    },
    {
      "cell_type": "markdown",
      "metadata": {
        "id": "Qq9tQ79iBz4d"
      },
      "source": [
        "### Decoder"
      ]
    },
    {
      "cell_type": "markdown",
      "metadata": {
        "id": "l81lYgKH63FC"
      },
      "source": [
        "Like the encoder, the `decoder` is a `stack of decoder layers`. Each layer consists of three sub-layers - a `masked multi-head self-attention sub-layer`, a second `multi-head self-attention sub-layer`, and a `point-wise feed forward network sub-layer`.\n",
        "\n",
        "The `masked multi-head self-attention layer` is where the `look-ahead mask` is employed. This is the part of the decoder architecture that differs most from the encoder. The other two sub-layers are almost exactly like those of the encoder.\n",
        "\n",
        "So how does this `masked multi-head self-attention` work exactly? Hold on 'till we get the training section. For now just know that when training the model, the input to this first sub-layer is the target sequence. But for now, here is something from the paper.\n",
        "\n",
        "> Similarly, self-attention layers in the decoder allow each position in the decoder to attend to\n",
        "all positions in the decoder up to and including that position. We need to prevent leftward\n",
        "information flow in the decoder to preserve the auto-regressive property. We implement this\n",
        "inside of scaled dot-product attention by masking out (setting to −∞) all values in the input\n",
        "of the softmax which correspond to illegal connections.\n",
        "\n",
        "The second `attention sub-layer` is known as the `encoder-decoder attention sub-layer`. This is because it receives it's inputs both from the encoder output and from the `masked multi-head self-attention`.\n",
        "\n",
        "From the paper.\n",
        "\n",
        "> In \"encoder-decoder attention\" layers, the queries come from the previous decoder layer,\n",
        "and the memory keys and values come from the output of the encoder. This allows every\n",
        "position in the decoder to attend over all positions in the input sequence. This mimics the\n",
        "typical encoder-decoder attention mechanisms in sequence-to-sequence models such as\n",
        "[38, 2, 9].\n",
        "\n",
        "In the figure you can see that the encoder receives as input it's output. Huh? More on that later. The input goes through embedding an positional encoding and is passed to the `masked multi-head self-attention` sub-layer. The output of this lower attention sub-layer then becomes the input to the `encoder-decoder attention` sub-layer. That then becomes the vector used for calculating the `query vector` at that level.\n",
        "\n",
        "The output from the encoder is passed to the decoder at this level and becomes the vector used to calculate the `key vector` and the `value vector`. From there its just like the encoder.\n",
        "\n",
        "Note that the output of the decoder undergoes a linear transformation which then has `softmax` applied to it. More to come.\n",
        "\n",
        "<img src='img/decoder-arch-2.png' width='450'>\n",
        "<div align=\"center\" style=\"font-weight:bold\">Fig 9: Decoder Architecture</div>\n",
        "<div align=\"center\" >Image from https://arxiv.org/pdf/1706.03762.pdf</div>\n",
        "\n",
        "\n",
        "Also, like the encoder, there exist `residual` connections that connect sub-layer inputs to sub-layer outputs at the `normalization` sub-layers."
      ]
    },
    {
      "cell_type": "markdown",
      "metadata": {
        "id": "C0OVE0Xv63FC"
      },
      "source": [
        "#### DecoderLayer Class\n",
        "As mentioned previously, a decoder layer consists of three stacked sub-layers. The first two are `multi-head self-attention layers`, and the final is an FNN. This class implements the decoder layer. This is the summary of what it does.\n",
        "\n",
        "1. On instantiation it takes the number of nodes for the FNN, the number of heads, and the dropout rate.\n",
        "2. Creates the `masked multi-head self-attention` sub-layer with a `droput layer`, and a `nomaliztion layer`\n",
        "3. Creates the `encoder-decoder multi-head self-attention` sub-layer with a `droput layer`, and a `nomaliztion layer`\n",
        "4. Creates the `point-wise FNN` sub-layer with two dense layers, a `droput layer`, and a `nomaliztion layer`\n",
        "5. It accepts as input a decoder layer output, the encoder output, the `look-ahead mask`, the `padding mask`, and a boolean\n",
        "6. When training the first decoder layer takes the full target sequence as input. For inferencing, it takes the final output of the decoder. It also takes the look-ahead mask.\n",
        "7. Apply dropout to the attention vector\n",
        "8. Add the input to the attention vector\n",
        "9. Normalize\n",
        "10. The output (attention vector) of the first attention layer is passed as the first argument to the second attention layer along with two instances of the encoder output, and the padding mask.\n",
        "11. Apply dropout to the attention vector\n",
        "12. Add the first attention vector to the new attention vector\n",
        "13. Normalize\n",
        "14. Pass the updated attention vector into the FNN\n",
        "15. Apply dropout\n",
        "16. Add the second attention vector to the output\n",
        "17. Normalize\n",
        "18. Return tensor of shape (batch_size, seq_length, d_model)\n"
      ]
    },
    {
      "cell_type": "code",
      "execution_count": null,
      "metadata": {
        "id": "ZwVMzyl9B36B"
      },
      "outputs": [],
      "source": [
        "class DecoderLayer(layers.Layer):\n",
        "    '''\n",
        "    FFN-units    -> # of nodes for the point wise feed forward layer\n",
        "    nb_proj      -> # of heads\n",
        "    dropout_rate -> The dropout rate for the layers\n",
        "    '''\n",
        "    def __init__(self, FFN_units, nb_proj, dropout_rate):\n",
        "        super(DecoderLayer, self).__init__()\n",
        "        self.FFN_units = FFN_units\n",
        "        self.nb_proj = nb_proj\n",
        "        self.dropout_rate = dropout_rate\n",
        "\n",
        "    def build(self, input_shape):\n",
        "        self.d_model = input_shape[-1]\n",
        "\n",
        "        # Masked Multi-head attention layer\n",
        "        self.multi_head_attention_1 = MultiHeadAttention(self.nb_proj)\n",
        "        self.dropout_1 = layers.Dropout(rate=self.dropout_rate)\n",
        "        self.norm_1 = layers.LayerNormalization(epsilon=1e-6)\n",
        "\n",
        "        # encoder-decoder Multi-head attention\n",
        "        self.multi_head_attention_2 = MultiHeadAttention(self.nb_proj)\n",
        "        self.dropout_2 = layers.Dropout(rate=self.dropout_rate)\n",
        "        self.norm_2 = layers.LayerNormalization(epsilon=1e-6)\n",
        "\n",
        "        # Feed foward\n",
        "        self.dense_1 = layers.Dense(units=self.FFN_units,\n",
        "                                    activation=\"relu\")\n",
        "        self.dense_2 = layers.Dense(units=self.d_model)\n",
        "        self.dropout_3 = layers.Dropout(rate=self.dropout_rate)\n",
        "        self.norm_3 = layers.LayerNormalization(epsilon=1e-6)\n",
        "\n",
        "    def call(self, inputs, enc_outputs, mask_1, mask_2, training):\n",
        "        '''\n",
        "        input       -> Decoder output\n",
        "        enc_outputs -> Encoder output\n",
        "        mask_1      -> Look-ahead mask\n",
        "        mask_2      -> Padding mask\n",
        "        training    -> Boolean for dropout\n",
        "        '''\n",
        "        # Masked Multi-head attention layer\n",
        "        # Return attention, attention weights\n",
        "        attention, attn_wt_1 = self.multi_head_attention_1(inputs,\n",
        "                                                           inputs,\n",
        "                                                           inputs,\n",
        "                                                           mask_1)\n",
        "        attention = self.dropout_1(attention, training)\n",
        "        attention = self.norm_1(attention + inputs)\n",
        "\n",
        "        # Encoder-Decoder Multi-head attention layer\n",
        "        # Return attention, attention weights\n",
        "        attention_2, attn_wt_2 = self.multi_head_attention_2(attention,\n",
        "                                                             enc_outputs,\n",
        "                                                             enc_outputs,\n",
        "                                                             mask_2)\n",
        "        attention_2 = self.dropout_2(attention_2, training)\n",
        "        attention_2 = self.norm_2(attention_2 + attention)\n",
        "\n",
        "        # FNN\n",
        "        outputs = self.dense_1(attention_2)\n",
        "        outputs = self.dense_2(outputs)\n",
        "        outputs = self.dropout_3(outputs, training)\n",
        "        outputs = self.norm_3(outputs + attention_2)\n",
        "\n",
        "        # Return attention vector, attention weights for each attention layer\n",
        "        return outputs, attn_wt_1, attn_wt_2"
      ]
    },
    {
      "cell_type": "markdown",
      "metadata": {
        "id": "pbhSCmqk63FE"
      },
      "source": [
        "#### Decoder Class"
      ]
    },
    {
      "cell_type": "markdown",
      "metadata": {
        "id": "IoL-xike63FE"
      },
      "source": [
        "The `full decoder` is a `stack of decoding layers`. This class implements the `decoder stack`. In addition to that, it also implements `embedding` and `positional encoding`. The output is the output of the `encoder stack`.\n",
        "\n",
        "Here is a summary of what the encoder is doing.\n",
        "\n",
        "1. Creates an `embedding layer`\n",
        "2. Initializes the `positional encoding` object\n",
        "3. Creates a `dropout layer`\n",
        "4. Creates number of `decoding layers` specified by `nb_layers`\n",
        "5. Takes a (batch_size, target_seq_length) shape input from decoder layer output, the encoder output, the look-ahead mask, the padding mask, and a boolean\n",
        "6. Passes the input through the `embedding layer` and produces a tensor of shape (batch_size, seq_length, d_model)\n",
        "7. Creates the `positional encoding vectors`\n",
        "8. Adds the `positional encoding vectors` to the `embedding vectors`\n",
        "9. Passes the resulting input tensor, the encoder output, the masks, and the training boolean to the `decoding layer stack`\n",
        "10. Iterates over the `decoding layer stack`\n",
        "11. Returns an output tensor of shape (batch_size, target_seq_length, d_model), and the attention weights\n",
        "\n",
        "In the code you will see this sequence:\n",
        "```Python\n",
        "   outputs = self.embedding(inputs)\n",
        "   outputs *= tf.math.sqrt(tf.cast(self.d_model, tf.float32))\n",
        "   outputs = self.pos_encoding(outputs)\n",
        "```\n",
        "The explaination for the multiplication given [here](https://towardsdatascience.com/how-to-code-the-transformer-in-pytorch-24db27c8f9ec)\n",
        "> The reason we increase the embedding values before addition is to make the positional encoding relatively smaller. This means the original meaning in the embedding vector won’t be lost when we add them together.\n"
      ]
    },
    {
      "cell_type": "code",
      "execution_count": null,
      "metadata": {
        "id": "Izh3aEmRCFMI"
      },
      "outputs": [],
      "source": [
        "class Decoder(layers.Layer):\n",
        "    '''\n",
        "    nb_layers    -> Number of encoder layers\n",
        "    FFN_units    -> Number of nodes in the FFN\n",
        "    nb_proj      -> Number of attention heads\n",
        "    dropout_rate -> Droput rate\n",
        "    vocab_size   -> The size of the vocabulary\n",
        "    d_model      -> Size of embedding vectors\n",
        "    name         -> Name of the layer\n",
        "    '''\n",
        "    def __init__(self,\n",
        "                 nb_layers,\n",
        "                 FFN_units,\n",
        "                 nb_proj,\n",
        "                 dropout_rate,\n",
        "                 vocab_size,\n",
        "                 d_model,\n",
        "                 name=\"decoder\"):\n",
        "        super(Decoder, self).__init__(name=name)\n",
        "        self.d_model = d_model\n",
        "        self.nb_layers = nb_layers\n",
        "\n",
        "        self.embedding = layers.Embedding(vocab_size, d_model)\n",
        "        self.pos_encoding = PositionalEncoding()\n",
        "        self.dropout = layers.Dropout(rate=dropout_rate)\n",
        "\n",
        "        # Initialize the decoder layers.\n",
        "        self.dec_layers = [DecoderLayer(FFN_units,\n",
        "                                        nb_proj,\n",
        "                                        dropout_rate)\n",
        "                           for i in range(nb_layers)]\n",
        "\n",
        "    def call(self, inputs, enc_outputs, mask_1, mask_2, training):\n",
        "        '''\n",
        "        input       -> Decoder output\n",
        "        enc_outputs -> Encoder output\n",
        "        mask_1      -> Look-ahead mask\n",
        "        mask_2      -> Padding mask\n",
        "        training    -> Boolean for dropout\n",
        "        '''\n",
        "        outputs = self.embedding(inputs)\n",
        "        outputs *= tf.math.sqrt(tf.cast(self.d_model, tf.float32))\n",
        "        outputs = self.pos_encoding(outputs)\n",
        "        outputs = self.dropout(outputs, training)\n",
        "\n",
        "        # Iterate over the decoder layers.\n",
        "        for i in range(self.nb_layers):\n",
        "\n",
        "            attention_weights = {}\n",
        "\n",
        "            # Block 1 and block2 are the attention weights from each attention head of the layer\n",
        "            outputs, block1, block2 = self.dec_layers[i](outputs, enc_outputs, mask_1, mask_2, training)\n",
        "\n",
        "            attention_weights['decoder_layer{}_block1'.format(i+1)] = block1\n",
        "            attention_weights['decoder_layer{}_block2'.format(i+1)] = block2\n",
        "\n",
        "\n",
        "        return outputs, attention_weights"
      ]
    },
    {
      "cell_type": "markdown",
      "metadata": {
        "id": "l-K9kCN563FF"
      },
      "source": [
        "### Transformer\n",
        "Finally the full transformer!\n",
        "\n",
        "The transformer is where all the pieces come together. We'll take a look at what the transformer class does."
      ]
    },
    {
      "cell_type": "markdown",
      "metadata": {
        "id": "dGbKrSvA63FF"
      },
      "source": [
        "#### Transformer Class\n",
        "\n",
        "These are the steps that occur in this class.\n",
        "\n",
        "1. Initialize the `encoder`\n",
        "2. Initialize the `decoder`\n",
        "3. Create the output linear layer with `vocab_size_dec` number of nodes\n",
        "4. Create the `padding` and `look-ahead masks`\n",
        "5. Pass arguments to the encoder and capture the output `attention matrix`\n",
        "6. Pass arguments to the decoder and capture the output `attention matrix`\n",
        "7. Pass the output of the decoder through the final dense layer and return output of shape (batch_size, tar_seq_len, target_vocab_size)\n",
        "8. Return `prediction` (batch_size, tar_seq_len, target_vocab_size), and `attention weight matrix`"
      ]
    },
    {
      "cell_type": "code",
      "execution_count": null,
      "metadata": {
        "id": "_BwKMyhLCK4X"
      },
      "outputs": [],
      "source": [
        "class Transformer(tf.keras.Model):\n",
        "    '''\n",
        "    vocab_size_enc -> Vocabulary size of the encoder input\n",
        "    vocab_size_dec -> Vocabulary size of the decoder input\n",
        "    d_model        -> Embedding size\n",
        "    nb_layers      -> Number of encoder and decoder layers\n",
        "    FFN_units      -> Noumber of nodes in the FNNs\n",
        "    nb_proj        -> Number of heads\n",
        "    dropout_rate   -> Dropout rate throught model\n",
        "    name           -> Layer name\n",
        "    '''\n",
        "    def __init__(self,\n",
        "                 vocab_size_enc,\n",
        "                 vocab_size_dec,\n",
        "                 d_model,\n",
        "                 nb_layers,\n",
        "                 FFN_units,\n",
        "                 nb_proj,\n",
        "                 dropout_rate,\n",
        "                 name=\"transformer\"):\n",
        "        super(Transformer, self).__init__(name=name)\n",
        "\n",
        "        self.encoder = Encoder(nb_layers,\n",
        "                               FFN_units,\n",
        "                               nb_proj,\n",
        "                               dropout_rate,\n",
        "                               vocab_size_enc,\n",
        "                               d_model)\n",
        "\n",
        "        self.decoder = Decoder(nb_layers,\n",
        "                               FFN_units,\n",
        "                               nb_proj,\n",
        "                               dropout_rate,\n",
        "                               vocab_size_dec,\n",
        "                               d_model)\n",
        "\n",
        "        self.last_linear = layers.Dense(units=vocab_size_dec, name=\"lin_ouput\")\n",
        "\n",
        "    def create_padding_mask(self, seq):\n",
        "\n",
        "        mask = tf.cast(tf.math.equal(seq, 0), tf.float32)\n",
        "        return mask[:, tf.newaxis, tf.newaxis, :]\n",
        "\n",
        "    def create_look_ahead_mask(self, seq):\n",
        "\n",
        "        seq_len = tf.shape(seq)[1]\n",
        "        look_ahead_mask = 1 - tf.linalg.band_part(tf.ones((seq_len, seq_len)), -1, 0)\n",
        "        return look_ahead_mask\n",
        "\n",
        "    def call(self, enc_inputs, dec_inputs, training):\n",
        "\n",
        "        enc_mask = self.create_padding_mask(enc_inputs)\n",
        "        dec_mask_1 = tf.maximum(\n",
        "            self.create_padding_mask(dec_inputs),\n",
        "            self.create_look_ahead_mask(dec_inputs)\n",
        "        )\n",
        "        dec_mask_2 = self.create_padding_mask(enc_inputs)\n",
        "\n",
        "        # encoder output\n",
        "        enc_outputs = self.encoder(enc_inputs, enc_mask, training)\n",
        "\n",
        "        # dec_outputs, attention_weights\n",
        "        dec_outputs, attention_weights = self.decoder(dec_inputs,\n",
        "                                                      enc_outputs,\n",
        "                                                      dec_mask_1,\n",
        "                                                      dec_mask_2,\n",
        "                                                      training)\n",
        "\n",
        "        # This is the prediction\n",
        "        outputs = self.last_linear(dec_outputs)\n",
        "\n",
        "        # Return prediction (batch_size, tar_seq_len, target_vocab_size), and attention_weight matrix\n",
        "        return outputs, attention_weights"
      ]
    },
    {
      "cell_type": "markdown",
      "metadata": {
        "id": "u7VuxHM0CZW2"
      },
      "source": [
        "## Training\n",
        "\n",
        "Before we train our model we'll need to do the following.\n",
        "\n",
        "1. Define the hper-parameters.\n",
        "2. Define the loss function\n",
        "3. Create a custom learning rate schedule\n",
        "4. Initialize the Atom Optimizer\n",
        "5. Initialize Checkpoint ant Checkpoint Mangager\n"
      ]
    },
    {
      "cell_type": "markdown",
      "metadata": {
        "id": "XKG7IIOR63FG"
      },
      "source": [
        "### Define Hyper-parameter values\n",
        "The values that we use a smaller than those proposed in the paper. We do this for computaional an time reasons. The values used in the [paper](https://arxiv.org/pdf/1706.03762.pdf) are commented out for reference."
      ]
    },
    {
      "cell_type": "code",
      "execution_count": null,
      "metadata": {
        "id": "r790wV40CYVr"
      },
      "outputs": [],
      "source": [
        "tf.keras.backend.clear_session()\n",
        "\n",
        "# Hyper-parameters\n",
        "D_MODEL = 128 # 512\n",
        "NB_LAYERS = 4 # 6\n",
        "FFN_UNITS = 512 # 2048\n",
        "NB_PROJ = 8 # 8\n",
        "DROPOUT_RATE = 0.1 # 0.1\n",
        "\n",
        "# Initialize the transformer\n",
        "transformer = Transformer(vocab_size_enc=VOCAB_SIZE_EN,\n",
        "                          vocab_size_dec=VOCAB_SIZE_FR,\n",
        "                          d_model=D_MODEL,\n",
        "                          nb_layers=NB_LAYERS,\n",
        "                          FFN_units=FFN_UNITS,\n",
        "                          nb_proj=NB_PROJ,\n",
        "                          dropout_rate=DROPOUT_RATE)"
      ]
    },
    {
      "cell_type": "markdown",
      "metadata": {
        "id": "CYJAaUMj63FH"
      },
      "source": [
        "### Define the loss function\n",
        "Because the sequences are padded we need to add a mask to the loss function. So, while we are using `sparse categorical cross-entropy` we wrap the loss function in order to apply the mask."
      ]
    },
    {
      "cell_type": "code",
      "execution_count": null,
      "metadata": {
        "id": "0ZeclFRxCkeQ"
      },
      "outputs": [],
      "source": [
        "loss_object = tf.keras.losses.SparseCategoricalCrossentropy(from_logits=True,\n",
        "                                                            reduction=\"none\")\n",
        "\n",
        "def loss_function(target, pred):\n",
        "    mask = tf.math.logical_not(tf.math.equal(target, 0))\n",
        "    loss_ = loss_object(target, pred)\n",
        "\n",
        "    mask = tf.cast(mask, dtype=loss_.dtype)\n",
        "    loss_ *= mask\n",
        "\n",
        "    return tf.reduce_mean(loss_)\n",
        "\n",
        "train_loss = tf.keras.metrics.Mean(name=\"train_loss\")\n",
        "train_accuracy = tf.keras.metrics.SparseCategoricalAccuracy(name=\"train_accuracy\")"
      ]
    },
    {
      "cell_type": "markdown",
      "metadata": {
        "id": "WGHaKbp463FI"
      },
      "source": [
        "### Create a custom learning rate schedule\n",
        "The custom learning rate schedule is specified in the '[Attention is all you need](https://arxiv.org/pdf/1706.03762.pdf)' paper. This is that implementation."
      ]
    },
    {
      "cell_type": "code",
      "execution_count": null,
      "metadata": {
        "id": "8aiiwrnxCqWh"
      },
      "outputs": [],
      "source": [
        "class CustomSchedule(tf.keras.optimizers.schedules.LearningRateSchedule):\n",
        "\n",
        "    def __init__(self, d_model, warmup_steps=4000):\n",
        "        super(CustomSchedule, self).__init__()\n",
        "\n",
        "        self.d_model = tf.cast(d_model, tf.float32)\n",
        "        self.warmup_steps = warmup_steps\n",
        "\n",
        "    def __call__(self, step):\n",
        "        arg1 = tf.math.rsqrt(step)\n",
        "        arg2 = step * (self.warmup_steps**-1.5)\n",
        "\n",
        "        return tf.math.rsqrt(self.d_model) * tf.math.minimum(arg1, arg2)\n",
        "\n",
        "leaning_rate = CustomSchedule(D_MODEL)\n",
        "\n",
        "# Use the Atom Optimizer\n",
        "optimizer = tf.keras.optimizers.Adam(leaning_rate,\n",
        "                                     beta_1=0.9,\n",
        "                                     beta_2=0.98,\n",
        "                                     epsilon=1e-9)"
      ]
    },
    {
      "cell_type": "markdown",
      "metadata": {
        "id": "AlJATSGV63FJ"
      },
      "source": [
        "#### Plot the learning rate"
      ]
    },
    {
      "cell_type": "code",
      "execution_count": null,
      "metadata": {
        "colab": {
          "base_uri": "https://localhost:8080/",
          "height": 279
        },
        "id": "5dQY-W4Fj6J_",
        "outputId": "49de6220-45da-46d5-ff16-801d441e3cb3"
      },
      "outputs": [
        {
          "output_type": "display_data",
          "data": {
            "text/plain": [
              "<Figure size 432x288 with 1 Axes>"
            ],
            "image/png": "[encoded data removed]"
          },
          "metadata": {
            "needs_background": "light"
          }
        }
      ],
      "source": [
        "plt.plot(leaning_rate(tf.range(40000, dtype=tf.float32)))\n",
        "plt.ylabel(\"Learning Rate\")\n",
        "plt.xlabel(\"Train Step\")\n",
        "plt.savefig(ROOT + '/data/lr.png')"
      ]
    },
    {
      "cell_type": "markdown",
      "metadata": {
        "id": "WhTXx78Q63FJ"
      },
      "source": [
        "### Model checkpoints\n",
        "We prepare the to save and restore checkpoints."
      ]
    },
    {
      "cell_type": "code",
      "execution_count": null,
      "metadata": {
        "id": "V-xv-P2_56wh"
      },
      "outputs": [],
      "source": [
        "if os.path.isdir('../ckpt') is False:\n",
        "    os.mkdir('../ckpt')"
      ]
    },
    {
      "cell_type": "code",
      "execution_count": null,
      "metadata": {
        "id": "wQr8BMWNCsMk"
      },
      "outputs": [],
      "source": [
        "checkpoint_path = ROOT + \"/ckpt/\"\n",
        "\n",
        "ckpt = tf.train.Checkpoint(transformer=transformer,\n",
        "                           optimizer=optimizer)\n",
        "\n",
        "ckpt_manager = tf.train.CheckpointManager(ckpt, checkpoint_path, max_to_keep=5)\n",
        "\n",
        "if ckpt_manager.latest_checkpoint:\n",
        "    ckpt.restore(ckpt_manager.latest_checkpoint)\n",
        "    print(\"Latest checkpoint restored!!\")"
      ]
    },
    {
      "cell_type": "markdown",
      "metadata": {
        "id": "Qr4K1Wq963FK"
      },
      "source": [
        "### Run the training\n",
        "\n",
        "To train the model we provide as input to the encoder a batch of the source sequences. We also provide to the decoder a batch of target sequences that begin with the `start-of-sentence` token. This has the effect of shifting the sequence to the right.\n",
        "\n",
        "The transformer will go through everything discussed above.\n",
        "1. The encoder will encode the batch of sequences, capturing the important `contextual` and `structural` information. This continues through all the layers of the encoder.\n",
        "2. The decoder will calculate attention at the `masked multi-head self-attention` layer. Because for each word the mask is applied to those words that come after, only the previous words are considered when calcualting attention.\n",
        "3. At the `encoder-decoder attention` layer, the `attention matrix` that is the ouput of the `masked attention` layer is transformed and used for the `query`, and the output (memory) of the encoder is transformed twice and used for the `key` and value.\n",
        "4. At this layer the decoder is learning to map the target words to the encoding.\n",
        "5. This process is repeated for all the layers of the decoder until the final ouput.\n",
        "6. The final output is a list of probabilities for each word in the vocabulary.\n",
        "7. Calculate the `loss function` and `perform back propagation` and adjust the weights.\n",
        "8. Rinse and repeat."
      ]
    },
    {
      "cell_type": "code",
      "execution_count": null,
      "metadata": {
        "id": "iyD7rZmzCxiJ",
        "colab": {
          "base_uri": "https://localhost:8080/"
        },
        "outputId": "6180ed15-115f-45c0-9e23-31ab550395b4"
      },
      "outputs": [
        {
          "output_type": "stream",
          "name": "stdout",
          "text": [
            "Start of epoch 1\n",
            "Epoch 1 Batch 0 Loss 5.4084 Accuracy 0.0000\n",
            "Epoch 1 Batch 50 Loss 5.4664 Accuracy 0.0007\n",
            "Epoch 1 Batch 100 Loss 5.4259 Accuracy 0.0109\n",
            "Epoch 1 Batch 150 Loss 5.3637 Accuracy 0.0159\n",
            "Epoch 1 Batch 200 Loss 5.2770 Accuracy 0.0185\n",
            "Epoch 1 Batch 250 Loss 5.1837 Accuracy 0.0212\n",
            "Epoch 1 Batch 300 Loss 5.0830 Accuracy 0.0246\n",
            "Epoch 1 Batch 350 Loss 4.9687 Accuracy 0.0293\n",
            "Epoch 1 Batch 400 Loss 4.8644 Accuracy 0.0346\n",
            "Epoch 1 Batch 450 Loss 4.7691 Accuracy 0.0398\n",
            "Epoch 1 Batch 500 Loss 4.6766 Accuracy 0.0447\n",
            "Epoch 1 Batch 550 Loss 4.5967 Accuracy 0.0495\n",
            "Epoch 1 Batch 600 Loss 4.5215 Accuracy 0.0542\n",
            "Epoch 1 Batch 650 Loss 4.4468 Accuracy 0.0586\n",
            "Epoch 1 Batch 700 Loss 4.3758 Accuracy 0.0627\n",
            "Epoch 1 Batch 750 Loss 4.3077 Accuracy 0.0666\n",
            "Epoch 1 Batch 800 Loss 4.2431 Accuracy 0.0702\n",
            "Epoch 1 Batch 850 Loss 4.1816 Accuracy 0.0735\n",
            "Epoch 1 Batch 900 Loss 4.1222 Accuracy 0.0767\n",
            "Epoch 1 Batch 950 Loss 4.0657 Accuracy 0.0797\n",
            "Epoch 1 Batch 1000 Loss 4.0138 Accuracy 0.0826\n",
            "Epoch 1 Batch 1050 Loss 3.9632 Accuracy 0.0854\n",
            "Epoch 1 Batch 1100 Loss 3.9150 Accuracy 0.0881\n",
            "Epoch 1 Batch 1150 Loss 3.8694 Accuracy 0.0907\n",
            "Epoch 1 Batch 1200 Loss 3.8269 Accuracy 0.0932\n",
            "Epoch 1 Batch 1250 Loss 3.7858 Accuracy 0.0957\n",
            "Epoch 1 Batch 1300 Loss 3.7471 Accuracy 0.0980\n",
            "Epoch 1 Batch 1350 Loss 3.7114 Accuracy 0.1002\n",
            "Epoch 1 Batch 1400 Loss 3.6761 Accuracy 0.1024\n",
            "Epoch 1 Batch 1450 Loss 3.6423 Accuracy 0.1045\n",
            "Epoch 1 Batch 1500 Loss 3.6089 Accuracy 0.1066\n",
            "Epoch 1 Batch 1550 Loss 3.5783 Accuracy 0.1086\n",
            "Epoch 1 Batch 1600 Loss 3.5485 Accuracy 0.1105\n",
            "Epoch 1 Batch 1650 Loss 3.5196 Accuracy 0.1123\n",
            "Epoch 1 Batch 1700 Loss 3.4932 Accuracy 0.1142\n",
            "Epoch 1 Batch 1750 Loss 3.4659 Accuracy 0.1161\n",
            "Epoch 1 Batch 1800 Loss 3.4407 Accuracy 0.1179\n",
            "Epoch 1 Batch 1850 Loss 3.4152 Accuracy 0.1197\n",
            "Epoch 1 Batch 1900 Loss 3.3912 Accuracy 0.1213\n",
            "Epoch 1 Batch 1950 Loss 3.3676 Accuracy 0.1230\n",
            "Epoch 1 Batch 2000 Loss 3.3455 Accuracy 0.1246\n",
            "Epoch 1 Batch 2050 Loss 3.3245 Accuracy 0.1262\n",
            "Epoch 1 Batch 2100 Loss 3.3036 Accuracy 0.1277\n",
            "Epoch 1 Batch 2150 Loss 3.2832 Accuracy 0.1292\n",
            "Epoch 1 Batch 2200 Loss 3.2630 Accuracy 0.1306\n",
            "Epoch 1 Batch 2250 Loss 3.2444 Accuracy 0.1321\n",
            "Epoch 1 Batch 2300 Loss 3.2257 Accuracy 0.1335\n",
            "Epoch 1 Batch 2350 Loss 3.2085 Accuracy 0.1349\n",
            "Epoch 1 Batch 2400 Loss 3.1917 Accuracy 0.1363\n",
            "Epoch 1 Batch 2450 Loss 3.1750 Accuracy 0.1377\n",
            "Epoch 1 Batch 2500 Loss 3.1587 Accuracy 0.1391\n",
            "Epoch 1 Batch 2550 Loss 3.1429 Accuracy 0.1405\n",
            "Epoch 1 Batch 2600 Loss 3.1266 Accuracy 0.1418\n",
            "Epoch 1 Batch 2650 Loss 3.1110 Accuracy 0.1432\n",
            "Epoch 1 Batch 2700 Loss 3.0958 Accuracy 0.1446\n",
            "Epoch 1 Batch 2750 Loss 3.0806 Accuracy 0.1459\n",
            "Epoch 1 Batch 2800 Loss 3.0655 Accuracy 0.1473\n",
            "Epoch 1 Batch 2850 Loss 3.0508 Accuracy 0.1487\n",
            "Epoch 1 Batch 2900 Loss 3.0364 Accuracy 0.1500\n",
            "Epoch 1 Batch 2950 Loss 3.0215 Accuracy 0.1513\n",
            "Epoch 1 Batch 3000 Loss 3.0071 Accuracy 0.1525\n",
            "Epoch 1 Batch 3050 Loss 2.9930 Accuracy 0.1538\n",
            "Epoch 1 Batch 3100 Loss 2.9796 Accuracy 0.1550\n",
            "Epoch 1 Batch 3150 Loss 2.9663 Accuracy 0.1563\n",
            "Epoch 1 Batch 3200 Loss 2.9523 Accuracy 0.1575\n",
            "Epoch 1 Batch 3250 Loss 2.9393 Accuracy 0.1588\n",
            "Epoch 1 Batch 3300 Loss 2.9264 Accuracy 0.1600\n",
            "Epoch 1 Batch 3350 Loss 2.9132 Accuracy 0.1613\n",
            "Epoch 1 Batch 3400 Loss 2.9003 Accuracy 0.1625\n",
            "Epoch 1 Batch 3450 Loss 2.8877 Accuracy 0.1637\n",
            "Epoch 1 Batch 3500 Loss 2.8752 Accuracy 0.1650\n",
            "Epoch 1 Batch 3550 Loss 2.8630 Accuracy 0.1662\n",
            "Epoch 1 Batch 3600 Loss 2.8500 Accuracy 0.1674\n",
            "Epoch 1 Batch 3650 Loss 2.8373 Accuracy 0.1686\n",
            "Epoch 1 Batch 3700 Loss 2.8248 Accuracy 0.1698\n",
            "Epoch 1 Batch 3750 Loss 2.8125 Accuracy 0.1711\n",
            "Epoch 1 Batch 3800 Loss 2.8004 Accuracy 0.1723\n",
            "Epoch 1 Batch 3850 Loss 2.7884 Accuracy 0.1735\n",
            "Epoch 1 Batch 3900 Loss 2.7766 Accuracy 0.1747\n",
            "Epoch 1 Batch 3950 Loss 2.7650 Accuracy 0.1760\n",
            "Epoch 1 Batch 4000 Loss 2.7539 Accuracy 0.1771\n",
            "Epoch 1 Batch 4050 Loss 2.7427 Accuracy 0.1783\n",
            "Epoch 1 Batch 4100 Loss 2.7318 Accuracy 0.1794\n",
            "Epoch 1 Batch 4150 Loss 2.7209 Accuracy 0.1805\n",
            "Epoch 1 Batch 4200 Loss 2.7097 Accuracy 0.1817\n",
            "Epoch 1 Batch 4250 Loss 2.6989 Accuracy 0.1828\n",
            "Epoch 1 Batch 4300 Loss 2.6882 Accuracy 0.1840\n",
            "Epoch 1 Batch 4350 Loss 2.6774 Accuracy 0.1852\n",
            "Epoch 1 Batch 4400 Loss 2.6669 Accuracy 0.1864\n",
            "Epoch 1 Batch 4450 Loss 2.6565 Accuracy 0.1877\n",
            "Epoch 1 Batch 4500 Loss 2.6459 Accuracy 0.1890\n",
            "Epoch 1 Batch 4550 Loss 2.6358 Accuracy 0.1902\n",
            "Epoch 1 Batch 4600 Loss 2.6252 Accuracy 0.1915\n",
            "Epoch 1 Batch 4650 Loss 2.6146 Accuracy 0.1928\n",
            "Epoch 1 Batch 4700 Loss 2.6041 Accuracy 0.1940\n",
            "Epoch 1 Batch 4750 Loss 2.5937 Accuracy 0.1953\n",
            "Epoch 1 Batch 4800 Loss 2.5834 Accuracy 0.1966\n",
            "Epoch 1 Batch 4850 Loss 2.5730 Accuracy 0.1978\n",
            "Epoch 1 Batch 4900 Loss 2.5629 Accuracy 0.1991\n",
            "Epoch 1 Batch 4950 Loss 2.5531 Accuracy 0.2003\n",
            "Epoch 1 Batch 5000 Loss 2.5434 Accuracy 0.2015\n",
            "Epoch 1 Batch 5050 Loss 2.5335 Accuracy 0.2028\n",
            "Epoch 1 Batch 5100 Loss 2.5238 Accuracy 0.2040\n",
            "Epoch 1 Batch 5150 Loss 2.5141 Accuracy 0.2053\n",
            "Epoch 1 Batch 5200 Loss 2.5047 Accuracy 0.2066\n",
            "Epoch 1 Batch 5250 Loss 2.4950 Accuracy 0.2078\n",
            "Epoch 1 Batch 5300 Loss 2.4860 Accuracy 0.2090\n",
            "Epoch 1 Batch 5350 Loss 2.4769 Accuracy 0.2103\n",
            "Epoch 1 Batch 5400 Loss 2.4674 Accuracy 0.2115\n",
            "Epoch 1 Batch 5450 Loss 2.4584 Accuracy 0.2127\n",
            "Epoch 1 Batch 5500 Loss 2.4494 Accuracy 0.2139\n",
            "Epoch 1 Batch 5550 Loss 2.4404 Accuracy 0.2152\n",
            "Epoch 1 Batch 5600 Loss 2.4316 Accuracy 0.2164\n",
            "Epoch 1 Batch 5650 Loss 2.4231 Accuracy 0.2176\n",
            "Epoch 1 Batch 5700 Loss 2.4143 Accuracy 0.2187\n",
            "Epoch 1 Batch 5750 Loss 2.4057 Accuracy 0.2199\n",
            "Epoch 1 Batch 5800 Loss 2.3971 Accuracy 0.2211\n",
            "Epoch 1 Batch 5850 Loss 2.3889 Accuracy 0.2223\n",
            "Epoch 1 Batch 5900 Loss 2.3807 Accuracy 0.2234\n",
            "Epoch 1 Batch 5950 Loss 2.3728 Accuracy 0.2245\n",
            "Epoch 1 Batch 6000 Loss 2.3649 Accuracy 0.2256\n",
            "Epoch 1 Batch 6050 Loss 2.3571 Accuracy 0.2267\n",
            "Epoch 1 Batch 6100 Loss 2.3493 Accuracy 0.2278\n",
            "Epoch 1 Batch 6150 Loss 2.3414 Accuracy 0.2288\n",
            "Epoch 1 Batch 6200 Loss 2.3338 Accuracy 0.2299\n",
            "Epoch 1 Batch 6250 Loss 2.3261 Accuracy 0.2310\n",
            "Epoch 1 Batch 6300 Loss 2.3185 Accuracy 0.2321\n",
            "Epoch 1 Batch 6350 Loss 2.3110 Accuracy 0.2332\n",
            "Epoch 1 Batch 6400 Loss 2.3036 Accuracy 0.2342\n",
            "Epoch 1 Batch 6450 Loss 2.2960 Accuracy 0.2352\n",
            "Epoch 1 Batch 6500 Loss 2.2888 Accuracy 0.2362\n",
            "Epoch 1 Batch 6550 Loss 2.2816 Accuracy 0.2372\n",
            "Epoch 1 Batch 6600 Loss 2.2746 Accuracy 0.2383\n",
            "Epoch 1 Batch 6650 Loss 2.2673 Accuracy 0.2393\n",
            "Epoch 1 Batch 6700 Loss 2.2601 Accuracy 0.2402\n",
            "Epoch 1 Batch 6750 Loss 2.2531 Accuracy 0.2412\n",
            "Epoch 1 Batch 6800 Loss 2.2461 Accuracy 0.2422\n",
            "Epoch 1 Batch 6850 Loss 2.2392 Accuracy 0.2432\n",
            "Epoch 1 Batch 6900 Loss 2.2322 Accuracy 0.2441\n",
            "Epoch 1 Batch 6950 Loss 2.2255 Accuracy 0.2451\n",
            "Epoch 1 Batch 7000 Loss 2.2188 Accuracy 0.2460\n",
            "Epoch 1 Batch 7050 Loss 2.2122 Accuracy 0.2470\n",
            "Epoch 1 Batch 7100 Loss 2.2057 Accuracy 0.2479\n",
            "Epoch 1 Batch 7150 Loss 2.1993 Accuracy 0.2488\n",
            "Epoch 1 Batch 7200 Loss 2.1929 Accuracy 0.2497\n",
            "Epoch 1 Batch 7250 Loss 2.1866 Accuracy 0.2506\n",
            "Epoch 1 Batch 7300 Loss 2.1805 Accuracy 0.2514\n",
            "Epoch 1 Batch 7350 Loss 2.1744 Accuracy 0.2522\n",
            "Epoch 1 Batch 7400 Loss 2.1684 Accuracy 0.2529\n",
            "Epoch 1 Batch 7450 Loss 2.1624 Accuracy 0.2537\n",
            "Epoch 1 Batch 7500 Loss 2.1563 Accuracy 0.2544\n",
            "Epoch 1 Batch 7550 Loss 2.1503 Accuracy 0.2552\n",
            "Epoch 1 Batch 7600 Loss 2.1442 Accuracy 0.2559\n",
            "Epoch 1 Batch 7650 Loss 2.1381 Accuracy 0.2566\n",
            "Epoch 1 Batch 7700 Loss 2.1322 Accuracy 0.2574\n",
            "Epoch 1 Batch 7750 Loss 2.1264 Accuracy 0.2581\n",
            "Epoch 1 Batch 7800 Loss 2.1205 Accuracy 0.2589\n",
            "Epoch 1 Batch 7850 Loss 2.1146 Accuracy 0.2596\n",
            "Epoch 1 Batch 7900 Loss 2.1087 Accuracy 0.2603\n",
            "Epoch 1 Batch 7950 Loss 2.1029 Accuracy 0.2610\n",
            "Epoch 1 Batch 8000 Loss 2.0970 Accuracy 0.2617\n",
            "Epoch 1 Batch 8050 Loss 2.0912 Accuracy 0.2624\n",
            "Epoch 1 Batch 8100 Loss 2.0854 Accuracy 0.2630\n",
            "Epoch 1 Batch 8150 Loss 2.0797 Accuracy 0.2637\n",
            "Epoch 1 Batch 8200 Loss 2.0741 Accuracy 0.2644\n",
            "Epoch 1 Batch 8250 Loss 2.0685 Accuracy 0.2651\n",
            "Epoch 1 Batch 8300 Loss 2.0631 Accuracy 0.2658\n",
            "Epoch 1 Batch 8350 Loss 2.0577 Accuracy 0.2665\n",
            "Epoch 1 Batch 8400 Loss 2.0523 Accuracy 0.2672\n",
            "Epoch 1 Batch 8450 Loss 2.0470 Accuracy 0.2680\n",
            "Epoch 1 Batch 8500 Loss 2.0414 Accuracy 0.2687\n",
            "Epoch 1 Batch 8550 Loss 2.0362 Accuracy 0.2693\n",
            "Epoch 1 Batch 8600 Loss 2.0311 Accuracy 0.2700\n",
            "Epoch 1 Batch 8650 Loss 2.0258 Accuracy 0.2707\n",
            "Epoch 1 Batch 8700 Loss 2.0207 Accuracy 0.2714\n",
            "Epoch 1 Batch 8750 Loss 2.0155 Accuracy 0.2720\n",
            "Epoch 1 Batch 8800 Loss 2.0105 Accuracy 0.2727\n",
            "Epoch 1 Batch 8850 Loss 2.0052 Accuracy 0.2734\n",
            "Epoch 1 Batch 8900 Loss 2.0000 Accuracy 0.2741\n",
            "Epoch 1 Batch 8950 Loss 1.9950 Accuracy 0.2748\n",
            "Epoch 1 Batch 9000 Loss 1.9900 Accuracy 0.2754\n",
            "Epoch 1 Batch 9050 Loss 1.9850 Accuracy 0.2761\n",
            "Epoch 1 Batch 9100 Loss 1.9799 Accuracy 0.2768\n",
            "Epoch 1 Batch 9150 Loss 1.9752 Accuracy 0.2774\n",
            "Epoch 1 Batch 9200 Loss 1.9704 Accuracy 0.2781\n",
            "Epoch 1 Batch 9250 Loss 1.9655 Accuracy 0.2787\n",
            "Epoch 1 Batch 9300 Loss 1.9609 Accuracy 0.2794\n",
            "Epoch 1 Batch 9350 Loss 1.9562 Accuracy 0.2800\n",
            "Epoch 1 Batch 9400 Loss 1.9516 Accuracy 0.2806\n",
            "Epoch 1 Batch 9450 Loss 1.9471 Accuracy 0.2813\n",
            "Epoch 1 Batch 9500 Loss 1.9424 Accuracy 0.2819\n",
            "Epoch 1 Batch 9550 Loss 1.9379 Accuracy 0.2824\n",
            "Epoch 1 Batch 9600 Loss 1.9336 Accuracy 0.2830\n",
            "Epoch 1 Batch 9650 Loss 1.9293 Accuracy 0.2836\n",
            "Epoch 1 Batch 9700 Loss 1.9251 Accuracy 0.2841\n",
            "Epoch 1 Batch 9750 Loss 1.9208 Accuracy 0.2847\n",
            "Epoch 1 Batch 9800 Loss 1.9166 Accuracy 0.2853\n",
            "Epoch 1 Batch 9850 Loss 1.9126 Accuracy 0.2858\n",
            "Epoch 1 Batch 9900 Loss 1.9084 Accuracy 0.2864\n",
            "Epoch 1 Batch 9950 Loss 1.9043 Accuracy 0.2869\n",
            "Epoch 1 Batch 10000 Loss 1.9003 Accuracy 0.2875\n",
            "Epoch 1 Batch 10050 Loss 1.8963 Accuracy 0.2880\n",
            "Epoch 1 Batch 10100 Loss 1.8923 Accuracy 0.2885\n",
            "Epoch 1 Batch 10150 Loss 1.8884 Accuracy 0.2891\n",
            "Epoch 1 Batch 10200 Loss 1.8846 Accuracy 0.2896\n",
            "Epoch 1 Batch 10250 Loss 1.8807 Accuracy 0.2901\n",
            "Epoch 1 Batch 10300 Loss 1.8767 Accuracy 0.2906\n",
            "Epoch 1 Batch 10350 Loss 1.8726 Accuracy 0.2912\n",
            "Epoch 1 Batch 10400 Loss 1.8688 Accuracy 0.2918\n",
            "Epoch 1 Batch 10450 Loss 1.8649 Accuracy 0.2923\n",
            "Epoch 1 Batch 10500 Loss 1.8612 Accuracy 0.2928\n",
            "Epoch 1 Batch 10550 Loss 1.8574 Accuracy 0.2933\n",
            "Epoch 1 Batch 10600 Loss 1.8537 Accuracy 0.2938\n",
            "Epoch 1 Batch 10650 Loss 1.8499 Accuracy 0.2943\n",
            "Epoch 1 Batch 10700 Loss 1.8462 Accuracy 0.2949\n",
            "Epoch 1 Batch 10750 Loss 1.8426 Accuracy 0.2954\n",
            "Epoch 1 Batch 10800 Loss 1.8390 Accuracy 0.2959\n",
            "Epoch 1 Batch 10850 Loss 1.8354 Accuracy 0.2964\n",
            "Epoch 1 Batch 10900 Loss 1.8317 Accuracy 0.2969\n",
            "Epoch 1 Batch 10950 Loss 1.8282 Accuracy 0.2974\n",
            "Epoch 1 Batch 11000 Loss 1.8246 Accuracy 0.2979\n",
            "Epoch 1 Batch 11050 Loss 1.8210 Accuracy 0.2983\n",
            "Epoch 1 Batch 11100 Loss 1.8176 Accuracy 0.2988\n",
            "Epoch 1 Batch 11150 Loss 1.8141 Accuracy 0.2993\n",
            "Epoch 1 Batch 11200 Loss 1.8107 Accuracy 0.2997\n",
            "Epoch 1 Batch 11250 Loss 1.8072 Accuracy 0.3002\n",
            "Epoch 1 Batch 11300 Loss 1.8037 Accuracy 0.3007\n",
            "Epoch 1 Batch 11350 Loss 1.8002 Accuracy 0.3011\n",
            "Epoch 1 Batch 11400 Loss 1.7968 Accuracy 0.3016\n",
            "Epoch 1 Batch 11450 Loss 1.7933 Accuracy 0.3020\n",
            "Epoch 1 Batch 11500 Loss 1.7899 Accuracy 0.3025\n",
            "Epoch 1 Batch 11550 Loss 1.7864 Accuracy 0.3030\n",
            "Epoch 1 Batch 11600 Loss 1.7830 Accuracy 0.3034\n",
            "Epoch 1 Batch 11650 Loss 1.7796 Accuracy 0.3039\n",
            "Epoch 1 Batch 11700 Loss 1.7763 Accuracy 0.3043\n",
            "Epoch 1 Batch 11750 Loss 1.7729 Accuracy 0.3048\n",
            "Epoch 1 Batch 11800 Loss 1.7696 Accuracy 0.3052\n",
            "Epoch 1 Batch 11850 Loss 1.7663 Accuracy 0.3057\n",
            "Epoch 1 Batch 11900 Loss 1.7630 Accuracy 0.3061\n",
            "Epoch 1 Batch 11950 Loss 1.7598 Accuracy 0.3065\n",
            "Epoch 1 Batch 12000 Loss 1.7565 Accuracy 0.3070\n",
            "Epoch 1 Batch 12050 Loss 1.7533 Accuracy 0.3074\n",
            "Epoch 1 Batch 12100 Loss 1.7501 Accuracy 0.3079\n",
            "Epoch 1 Batch 12150 Loss 1.7470 Accuracy 0.3083\n",
            "Epoch 1 Batch 12200 Loss 1.7439 Accuracy 0.3088\n",
            "Epoch 1 Batch 12250 Loss 1.7408 Accuracy 0.3092\n",
            "Epoch 1 Batch 12300 Loss 1.7377 Accuracy 0.3097\n",
            "Epoch 1 Batch 12350 Loss 1.7346 Accuracy 0.3101\n",
            "Epoch 1 Batch 12400 Loss 1.7316 Accuracy 0.3105\n",
            "Epoch 1 Batch 12450 Loss 1.7286 Accuracy 0.3110\n",
            "Epoch 1 Batch 12500 Loss 1.7256 Accuracy 0.3114\n",
            "Epoch 1 Batch 12550 Loss 1.7227 Accuracy 0.3118\n",
            "Epoch 1 Batch 12600 Loss 1.7197 Accuracy 0.3123\n",
            "Epoch 1 Batch 12650 Loss 1.7168 Accuracy 0.3127\n",
            "Epoch 1 Batch 12700 Loss 1.7138 Accuracy 0.3132\n",
            "Epoch 1 Batch 12750 Loss 1.7110 Accuracy 0.3136\n",
            "Epoch 1 Batch 12800 Loss 1.7080 Accuracy 0.3140\n",
            "Epoch 1 Batch 12850 Loss 1.7051 Accuracy 0.3144\n",
            "Epoch 1 Batch 12900 Loss 1.7023 Accuracy 0.3148\n",
            "Epoch 1 Batch 12950 Loss 1.6995 Accuracy 0.3152\n",
            "Epoch 1 Batch 13000 Loss 1.6968 Accuracy 0.3157\n",
            "Epoch 1 Batch 13050 Loss 1.6940 Accuracy 0.3161\n",
            "Epoch 1 Batch 13100 Loss 1.6913 Accuracy 0.3165\n",
            "Epoch 1 Batch 13150 Loss 1.6886 Accuracy 0.3169\n",
            "Epoch 1 Batch 13200 Loss 1.6859 Accuracy 0.3173\n",
            "Epoch 1 Batch 13250 Loss 1.6833 Accuracy 0.3177\n",
            "Epoch 1 Batch 13300 Loss 1.6806 Accuracy 0.3181\n",
            "Epoch 1 Batch 13350 Loss 1.6780 Accuracy 0.3186\n",
            "Epoch 1 Batch 13400 Loss 1.6753 Accuracy 0.3189\n",
            "Epoch 1 Batch 13450 Loss 1.6727 Accuracy 0.3193\n",
            "Epoch 1 Batch 13500 Loss 1.6700 Accuracy 0.3197\n",
            "Epoch 1 Batch 13550 Loss 1.6675 Accuracy 0.3201\n",
            "Epoch 1 Batch 13600 Loss 1.6649 Accuracy 0.3205\n",
            "Epoch 1 Batch 13650 Loss 1.6623 Accuracy 0.3209\n",
            "Epoch 1 Batch 13700 Loss 1.6598 Accuracy 0.3213\n",
            "Epoch 1 Batch 13750 Loss 1.6573 Accuracy 0.3217\n",
            "Epoch 1 Batch 13800 Loss 1.6548 Accuracy 0.3221\n",
            "Epoch 1 Batch 13850 Loss 1.6522 Accuracy 0.3225\n",
            "Epoch 1 Batch 13900 Loss 1.6498 Accuracy 0.3229\n",
            "Epoch 1 Batch 13950 Loss 1.6473 Accuracy 0.3233\n",
            "Epoch 1 Batch 14000 Loss 1.6448 Accuracy 0.3237\n",
            "Epoch 1 Batch 14050 Loss 1.6424 Accuracy 0.3240\n",
            "Epoch 1 Batch 14100 Loss 1.6402 Accuracy 0.3244\n",
            "Epoch 1 Batch 14150 Loss 1.6382 Accuracy 0.3247\n",
            "Epoch 1 Batch 14200 Loss 1.6363 Accuracy 0.3249\n",
            "Epoch 1 Batch 14250 Loss 1.6346 Accuracy 0.3252\n",
            "Epoch 1 Batch 14300 Loss 1.6331 Accuracy 0.3254\n",
            "Epoch 1 Batch 14350 Loss 1.6316 Accuracy 0.3256\n",
            "Epoch 1 Batch 14400 Loss 1.6301 Accuracy 0.3258\n",
            "Epoch 1 Batch 14450 Loss 1.6287 Accuracy 0.3259\n",
            "Epoch 1 Batch 14500 Loss 1.6275 Accuracy 0.3261\n",
            "Epoch 1 Batch 14550 Loss 1.6262 Accuracy 0.3263\n",
            "Epoch 1 Batch 14600 Loss 1.6250 Accuracy 0.3264\n",
            "Epoch 1 Batch 14650 Loss 1.6237 Accuracy 0.3266\n",
            "Epoch 1 Batch 14700 Loss 1.6225 Accuracy 0.3267\n",
            "Epoch 1 Batch 14750 Loss 1.6212 Accuracy 0.3268\n",
            "Epoch 1 Batch 14800 Loss 1.6201 Accuracy 0.3270\n",
            "Epoch 1 Batch 14850 Loss 1.6190 Accuracy 0.3271\n",
            "Epoch 1 Batch 14900 Loss 1.6178 Accuracy 0.3273\n",
            "Epoch 1 Batch 14950 Loss 1.6167 Accuracy 0.3274\n",
            "Epoch 1 Batch 15000 Loss 1.6156 Accuracy 0.3275\n",
            "Epoch 1 Batch 15050 Loss 1.6145 Accuracy 0.3276\n",
            "Epoch 1 Batch 15100 Loss 1.6133 Accuracy 0.3277\n",
            "Epoch 1 Batch 15150 Loss 1.6122 Accuracy 0.3279\n",
            "Epoch 1 Batch 15200 Loss 1.6111 Accuracy 0.3280\n",
            "Epoch 1 Batch 15250 Loss 1.6099 Accuracy 0.3281\n",
            "Epoch 1 Batch 15300 Loss 1.6087 Accuracy 0.3282\n",
            "Epoch 1 Batch 15350 Loss 1.6076 Accuracy 0.3283\n",
            "Epoch 1 Batch 15400 Loss 1.6064 Accuracy 0.3284\n",
            "Epoch 1 Batch 15450 Loss 1.6053 Accuracy 0.3285\n",
            "Epoch 1 Batch 15500 Loss 1.6041 Accuracy 0.3287\n",
            "Epoch 1 Batch 15550 Loss 1.6030 Accuracy 0.3288\n",
            "Epoch 1 Batch 15600 Loss 1.6017 Accuracy 0.3289\n",
            "Epoch 1 Batch 15650 Loss 1.6005 Accuracy 0.3291\n",
            "Epoch 1 Batch 15700 Loss 1.5992 Accuracy 0.3292\n",
            "Epoch 1 Batch 15750 Loss 1.5980 Accuracy 0.3293\n",
            "Epoch 1 Batch 15800 Loss 1.5968 Accuracy 0.3294\n",
            "Epoch 1 Batch 15850 Loss 1.5956 Accuracy 0.3296\n",
            "Epoch 1 Batch 15900 Loss 1.5944 Accuracy 0.3297\n",
            "Epoch 1 Batch 15950 Loss 1.5932 Accuracy 0.3298\n",
            "Epoch 1 Batch 16000 Loss 1.5920 Accuracy 0.3299\n",
            "Epoch 1 Batch 16050 Loss 1.5907 Accuracy 0.3301\n",
            "Epoch 1 Batch 16100 Loss 1.5895 Accuracy 0.3302\n",
            "Epoch 1 Batch 16150 Loss 1.5883 Accuracy 0.3303\n",
            "Epoch 1 Batch 16200 Loss 1.5871 Accuracy 0.3305\n",
            "Epoch 1 Batch 16250 Loss 1.5859 Accuracy 0.3306\n",
            "Epoch 1 Batch 16300 Loss 1.5846 Accuracy 0.3307\n",
            "Epoch 1 Batch 16350 Loss 1.5833 Accuracy 0.3308\n",
            "Epoch 1 Batch 16400 Loss 1.5820 Accuracy 0.3310\n",
            "Epoch 1 Batch 16450 Loss 1.5807 Accuracy 0.3311\n",
            "Epoch 1 Batch 16500 Loss 1.5795 Accuracy 0.3313\n",
            "Epoch 1 Batch 16550 Loss 1.5783 Accuracy 0.3314\n",
            "Epoch 1 Batch 16600 Loss 1.5771 Accuracy 0.3315\n",
            "Epoch 1 Batch 16650 Loss 1.5758 Accuracy 0.3316\n",
            "Epoch 1 Batch 16700 Loss 1.5745 Accuracy 0.3318\n",
            "Epoch 1 Batch 16750 Loss 1.5734 Accuracy 0.3319\n",
            "Epoch 1 Batch 16800 Loss 1.5722 Accuracy 0.3320\n",
            "Epoch 1 Batch 16850 Loss 1.5711 Accuracy 0.3321\n",
            "Epoch 1 Batch 16900 Loss 1.5699 Accuracy 0.3322\n",
            "Epoch 1 Batch 16950 Loss 1.5688 Accuracy 0.3323\n",
            "Epoch 1 Batch 17000 Loss 1.5678 Accuracy 0.3324\n",
            "Epoch 1 Batch 17050 Loss 1.5668 Accuracy 0.3325\n",
            "Epoch 1 Batch 17100 Loss 1.5657 Accuracy 0.3326\n",
            "Epoch 1 Batch 17150 Loss 1.5648 Accuracy 0.3328\n",
            "Epoch 1 Batch 17200 Loss 1.5638 Accuracy 0.3328\n",
            "Epoch 1 Batch 17250 Loss 1.5628 Accuracy 0.3329\n",
            "Epoch 1 Batch 17300 Loss 1.5617 Accuracy 0.3330\n",
            "Epoch 1 Batch 17350 Loss 1.5607 Accuracy 0.3331\n",
            "Epoch 1 Batch 17400 Loss 1.5597 Accuracy 0.3332\n",
            "Epoch 1 Batch 17450 Loss 1.5587 Accuracy 0.3333\n",
            "Epoch 1 Batch 17500 Loss 1.5577 Accuracy 0.3334\n",
            "Epoch 1 Batch 17550 Loss 1.5567 Accuracy 0.3335\n",
            "Epoch 1 Batch 17600 Loss 1.5557 Accuracy 0.3336\n",
            "Epoch 1 Batch 17650 Loss 1.5548 Accuracy 0.3336\n",
            "Epoch 1 Batch 17700 Loss 1.5539 Accuracy 0.3337\n",
            "Epoch 1 Batch 17750 Loss 1.5529 Accuracy 0.3338\n",
            "Epoch 1 Batch 17800 Loss 1.5519 Accuracy 0.3339\n",
            "Epoch 1 Batch 17850 Loss 1.5509 Accuracy 0.3340\n",
            "Epoch 1 Batch 17900 Loss 1.5499 Accuracy 0.3341\n",
            "Epoch 1 Batch 17950 Loss 1.5489 Accuracy 0.3341\n",
            "Epoch 1 Batch 18000 Loss 1.5479 Accuracy 0.3342\n",
            "Epoch 1 Batch 18050 Loss 1.5469 Accuracy 0.3343\n",
            "Epoch 1 Batch 18100 Loss 1.5459 Accuracy 0.3344\n",
            "Epoch 1 Batch 18150 Loss 1.5449 Accuracy 0.3344\n",
            "Epoch 1 Batch 18200 Loss 1.5439 Accuracy 0.3345\n",
            "Epoch 1 Batch 18250 Loss 1.5429 Accuracy 0.3346\n",
            "Epoch 1 Batch 18300 Loss 1.5419 Accuracy 0.3347\n",
            "Epoch 1 Batch 18350 Loss 1.5408 Accuracy 0.3348\n",
            "Epoch 1 Batch 18400 Loss 1.5397 Accuracy 0.3348\n",
            "Epoch 1 Batch 18450 Loss 1.5386 Accuracy 0.3349\n",
            "Epoch 1 Batch 18500 Loss 1.5376 Accuracy 0.3350\n",
            "Epoch 1 Batch 18550 Loss 1.5366 Accuracy 0.3351\n",
            "Epoch 1 Batch 18600 Loss 1.5356 Accuracy 0.3352\n",
            "Epoch 1 Batch 18650 Loss 1.5345 Accuracy 0.3352\n",
            "Saving checkpoint for epoch 1 at /content/drive/My Drive/ckpt/ckpt-1\n",
            "Time taken for 1 epoch: 6011.645282030106 secs\n",
            "\n",
            "Start of epoch 2\n",
            "Epoch 2 Batch 0 Loss 1.3172 Accuracy 0.3650\n",
            "Epoch 2 Batch 50 Loss 1.1774 Accuracy 0.3672\n",
            "Epoch 2 Batch 100 Loss 1.1647 Accuracy 0.3684\n",
            "Epoch 2 Batch 150 Loss 1.1526 Accuracy 0.3685\n",
            "Epoch 2 Batch 200 Loss 1.1483 Accuracy 0.3686\n",
            "Epoch 2 Batch 250 Loss 1.1477 Accuracy 0.3685\n",
            "Epoch 2 Batch 300 Loss 1.1466 Accuracy 0.3689\n",
            "Epoch 2 Batch 350 Loss 1.1457 Accuracy 0.3695\n",
            "Epoch 2 Batch 400 Loss 1.1476 Accuracy 0.3704\n",
            "Epoch 2 Batch 450 Loss 1.1487 Accuracy 0.3707\n",
            "Epoch 2 Batch 500 Loss 1.1442 Accuracy 0.3704\n",
            "Epoch 2 Batch 550 Loss 1.1446 Accuracy 0.3708\n",
            "Epoch 2 Batch 600 Loss 1.1458 Accuracy 0.3708\n",
            "Epoch 2 Batch 650 Loss 1.1463 Accuracy 0.3712\n",
            "Epoch 2 Batch 700 Loss 1.1463 Accuracy 0.3713\n",
            "Epoch 2 Batch 750 Loss 1.1471 Accuracy 0.3715\n",
            "Epoch 2 Batch 800 Loss 1.1481 Accuracy 0.3715\n",
            "Epoch 2 Batch 850 Loss 1.1486 Accuracy 0.3715\n",
            "Epoch 2 Batch 900 Loss 1.1487 Accuracy 0.3713\n",
            "Epoch 2 Batch 950 Loss 1.1479 Accuracy 0.3711\n",
            "Epoch 2 Batch 1000 Loss 1.1468 Accuracy 0.3710\n",
            "Epoch 2 Batch 1050 Loss 1.1463 Accuracy 0.3715\n",
            "Epoch 2 Batch 1100 Loss 1.1465 Accuracy 0.3718\n",
            "Epoch 2 Batch 1150 Loss 1.1462 Accuracy 0.3718\n",
            "Epoch 2 Batch 1200 Loss 1.1461 Accuracy 0.3718\n",
            "Epoch 2 Batch 1250 Loss 1.1457 Accuracy 0.3720\n",
            "Epoch 2 Batch 1300 Loss 1.1450 Accuracy 0.3718\n",
            "Epoch 2 Batch 1350 Loss 1.1443 Accuracy 0.3718\n",
            "Epoch 2 Batch 1400 Loss 1.1438 Accuracy 0.3717\n",
            "Epoch 2 Batch 1450 Loss 1.1436 Accuracy 0.3719\n",
            "Epoch 2 Batch 1500 Loss 1.1431 Accuracy 0.3720\n",
            "Epoch 2 Batch 1550 Loss 1.1429 Accuracy 0.3721\n",
            "Epoch 2 Batch 1600 Loss 1.1423 Accuracy 0.3722\n",
            "Epoch 2 Batch 1650 Loss 1.1418 Accuracy 0.3722\n",
            "Epoch 2 Batch 1700 Loss 1.1413 Accuracy 0.3723\n",
            "Epoch 2 Batch 1750 Loss 1.1408 Accuracy 0.3726\n",
            "Epoch 2 Batch 1800 Loss 1.1399 Accuracy 0.3727\n",
            "Epoch 2 Batch 1850 Loss 1.1390 Accuracy 0.3730\n",
            "Epoch 2 Batch 1900 Loss 1.1381 Accuracy 0.3732\n",
            "Epoch 2 Batch 1950 Loss 1.1370 Accuracy 0.3733\n",
            "Epoch 2 Batch 2000 Loss 1.1360 Accuracy 0.3736\n",
            "Epoch 2 Batch 2050 Loss 1.1355 Accuracy 0.3737\n",
            "Epoch 2 Batch 2100 Loss 1.1348 Accuracy 0.3737\n",
            "Epoch 2 Batch 2150 Loss 1.1344 Accuracy 0.3739\n",
            "Epoch 2 Batch 2200 Loss 1.1346 Accuracy 0.3741\n",
            "Epoch 2 Batch 2250 Loss 1.1346 Accuracy 0.3743\n",
            "Epoch 2 Batch 2300 Loss 1.1341 Accuracy 0.3744\n",
            "Epoch 2 Batch 2350 Loss 1.1338 Accuracy 0.3746\n",
            "Epoch 2 Batch 2400 Loss 1.1338 Accuracy 0.3749\n",
            "Epoch 2 Batch 2450 Loss 1.1332 Accuracy 0.3751\n",
            "Epoch 2 Batch 2500 Loss 1.1329 Accuracy 0.3754\n",
            "Epoch 2 Batch 2550 Loss 1.1328 Accuracy 0.3757\n",
            "Epoch 2 Batch 2600 Loss 1.1329 Accuracy 0.3761\n",
            "Epoch 2 Batch 2650 Loss 1.1329 Accuracy 0.3763\n",
            "Epoch 2 Batch 2700 Loss 1.1322 Accuracy 0.3766\n",
            "Epoch 2 Batch 2750 Loss 1.1315 Accuracy 0.3769\n",
            "Epoch 2 Batch 2800 Loss 1.1305 Accuracy 0.3773\n",
            "Epoch 2 Batch 2850 Loss 1.1300 Accuracy 0.3777\n",
            "Epoch 2 Batch 2900 Loss 1.1291 Accuracy 0.3780\n",
            "Epoch 2 Batch 2950 Loss 1.1282 Accuracy 0.3784\n",
            "Epoch 2 Batch 3000 Loss 1.1275 Accuracy 0.3787\n",
            "Epoch 2 Batch 3050 Loss 1.1268 Accuracy 0.3789\n",
            "Epoch 2 Batch 3100 Loss 1.1264 Accuracy 0.3791\n",
            "Epoch 2 Batch 3150 Loss 1.1257 Accuracy 0.3793\n",
            "Epoch 2 Batch 3200 Loss 1.1251 Accuracy 0.3795\n",
            "Epoch 2 Batch 3250 Loss 1.1244 Accuracy 0.3798\n",
            "Epoch 2 Batch 3300 Loss 1.1237 Accuracy 0.3800\n",
            "Epoch 2 Batch 3350 Loss 1.1229 Accuracy 0.3802\n",
            "Epoch 2 Batch 3400 Loss 1.1219 Accuracy 0.3803\n",
            "Epoch 2 Batch 3450 Loss 1.1209 Accuracy 0.3805\n",
            "Epoch 2 Batch 3500 Loss 1.1199 Accuracy 0.3807\n",
            "Epoch 2 Batch 3550 Loss 1.1190 Accuracy 0.3808\n",
            "Epoch 2 Batch 3600 Loss 1.1180 Accuracy 0.3811\n",
            "Epoch 2 Batch 3650 Loss 1.1171 Accuracy 0.3813\n",
            "Epoch 2 Batch 3700 Loss 1.1156 Accuracy 0.3816\n",
            "Epoch 2 Batch 3750 Loss 1.1145 Accuracy 0.3818\n",
            "Epoch 2 Batch 3800 Loss 1.1132 Accuracy 0.3821\n",
            "Epoch 2 Batch 3850 Loss 1.1120 Accuracy 0.3823\n",
            "Epoch 2 Batch 3900 Loss 1.1110 Accuracy 0.3826\n",
            "Epoch 2 Batch 3950 Loss 1.1100 Accuracy 0.3828\n",
            "Epoch 2 Batch 4000 Loss 1.1089 Accuracy 0.3830\n",
            "Epoch 2 Batch 4050 Loss 1.1078 Accuracy 0.3832\n",
            "Epoch 2 Batch 4100 Loss 1.1063 Accuracy 0.3834\n",
            "Epoch 2 Batch 4150 Loss 1.1050 Accuracy 0.3836\n",
            "Epoch 2 Batch 4200 Loss 1.1036 Accuracy 0.3839\n",
            "Epoch 2 Batch 4250 Loss 1.1023 Accuracy 0.3841\n",
            "Epoch 2 Batch 4300 Loss 1.1010 Accuracy 0.3845\n",
            "Epoch 2 Batch 4350 Loss 1.0998 Accuracy 0.3848\n",
            "Epoch 2 Batch 4400 Loss 1.0984 Accuracy 0.3852\n",
            "Epoch 2 Batch 4450 Loss 1.0970 Accuracy 0.3855\n",
            "Epoch 2 Batch 4500 Loss 1.0957 Accuracy 0.3859\n",
            "Epoch 2 Batch 4550 Loss 1.0943 Accuracy 0.3862\n",
            "Epoch 2 Batch 4600 Loss 1.0929 Accuracy 0.3867\n",
            "Epoch 2 Batch 4650 Loss 1.0913 Accuracy 0.3870\n",
            "Epoch 2 Batch 4700 Loss 1.0898 Accuracy 0.3874\n",
            "Epoch 2 Batch 4750 Loss 1.0882 Accuracy 0.3878\n",
            "Epoch 2 Batch 4800 Loss 1.0865 Accuracy 0.3883\n",
            "Epoch 2 Batch 4850 Loss 1.0849 Accuracy 0.3887\n",
            "Epoch 2 Batch 4900 Loss 1.0837 Accuracy 0.3891\n",
            "Epoch 2 Batch 4950 Loss 1.0824 Accuracy 0.3895\n",
            "Epoch 2 Batch 5000 Loss 1.0810 Accuracy 0.3898\n",
            "Epoch 2 Batch 5050 Loss 1.0794 Accuracy 0.3902\n",
            "Epoch 2 Batch 5100 Loss 1.0778 Accuracy 0.3907\n",
            "Epoch 2 Batch 5150 Loss 1.0763 Accuracy 0.3911\n",
            "Epoch 2 Batch 5200 Loss 1.0749 Accuracy 0.3915\n",
            "Epoch 2 Batch 5250 Loss 1.0735 Accuracy 0.3919\n",
            "Epoch 2 Batch 5300 Loss 1.0722 Accuracy 0.3922\n",
            "Epoch 2 Batch 5350 Loss 1.0708 Accuracy 0.3927\n",
            "Epoch 2 Batch 5400 Loss 1.0695 Accuracy 0.3931\n",
            "Epoch 2 Batch 5450 Loss 1.0681 Accuracy 0.3935\n",
            "Epoch 2 Batch 5500 Loss 1.0666 Accuracy 0.3939\n",
            "Epoch 2 Batch 5550 Loss 1.0654 Accuracy 0.3943\n",
            "Epoch 2 Batch 5600 Loss 1.0641 Accuracy 0.3948\n",
            "Epoch 2 Batch 5650 Loss 1.0628 Accuracy 0.3952\n",
            "Epoch 2 Batch 5700 Loss 1.0615 Accuracy 0.3956\n",
            "Epoch 2 Batch 5750 Loss 1.0601 Accuracy 0.3960\n",
            "Epoch 2 Batch 5800 Loss 1.0589 Accuracy 0.3964\n",
            "Epoch 2 Batch 5850 Loss 1.0578 Accuracy 0.3967\n",
            "Epoch 2 Batch 5900 Loss 1.0566 Accuracy 0.3971\n",
            "Epoch 2 Batch 5950 Loss 1.0554 Accuracy 0.3975\n",
            "Epoch 2 Batch 6000 Loss 1.0543 Accuracy 0.3978\n",
            "Epoch 2 Batch 6050 Loss 1.0532 Accuracy 0.3981\n",
            "Epoch 2 Batch 6100 Loss 1.0521 Accuracy 0.3985\n",
            "Epoch 2 Batch 6150 Loss 1.0510 Accuracy 0.3988\n"
          ]
        }
      ],
      "source": [
        "EPOCHS = 10\n",
        "for epoch in range(EPOCHS):\n",
        "    print(\"Start of epoch {}\".format(epoch+1))\n",
        "    start = time.time()\n",
        "\n",
        "    train_loss.reset_states()\n",
        "    train_accuracy.reset_states()\n",
        "\n",
        "    for (batch, (enc_inputs, targets)) in enumerate(dataset):\n",
        "\n",
        "        # Include the start token which shifts sequence to the right\n",
        "        dec_inputs = targets[:, :-1]\n",
        "\n",
        "        # Target without the start token. The end token is included to know when the\n",
        "        # model reaches the end of the sequence\n",
        "        dec_outputs_real = targets[:, 1:]\n",
        "\n",
        "        with tf.GradientTape() as tape:\n",
        "            predictions, _ = transformer(enc_inputs, dec_inputs, True)\n",
        "            loss = loss_function(dec_outputs_real, predictions)\n",
        "\n",
        "        # Calculate and apply the gradients\n",
        "        gradients = tape.gradient(loss, transformer.trainable_variables)\n",
        "        optimizer.apply_gradients(zip(gradients, transformer.trainable_variables))\n",
        "\n",
        "        train_loss(loss)\n",
        "        train_accuracy(dec_outputs_real, predictions)\n",
        "\n",
        "        if batch % 50 == 0:\n",
        "            print(\"Epoch {} Batch {} Loss {:.4f} Accuracy {:.4f}\".format(\n",
        "                epoch+1, batch, train_loss.result(), train_accuracy.result()))\n",
        "\n",
        "    ckpt_save_path = ckpt_manager.save()\n",
        "    print(\"Saving checkpoint for epoch {} at {}\".format(epoch+1,\n",
        "                                                        ckpt_save_path))\n",
        "    print(\"Time taken for 1 epoch: {} secs\\n\".format(time.time() - start))"
      ]
    },
    {
      "cell_type": "markdown",
      "metadata": {
        "id": "YRsHEemuC9m1"
      },
      "source": [
        "## Evaluating"
      ]
    },
    {
      "cell_type": "markdown",
      "metadata": {
        "id": "HsjkINx863FM"
      },
      "source": [
        "Now we are going to make some predictions.\n",
        "\n",
        "For predictions, we iterate over the model. In the first pass we input the sentence to be translated to the encoder while the decoder's input only contains the `start-of-sentence` token. From this the model generates a probability distribution. Hopefylly the highest probability results in choosing the correct first word in the translation.\n",
        "\n",
        "In the second iteration, the word that was predicted is added to the decoder's input, so that now the model tries to predict the next word based on having the `start-of-sentence` token and the first predicted word.\n",
        "\n",
        "We continue predicting and appending to the input until we reach the `end-of-sentence` token. That completes the sentence."
      ]
    },
    {
      "cell_type": "code",
      "execution_count": null,
      "metadata": {
        "id": "4YYj6pPsDA4y"
      },
      "outputs": [],
      "source": [
        "def evaluate(inp_sentence):\n",
        "    '''\n",
        "    Takes the input sentence.\n",
        "    '''\n",
        "    inp_sentence = [VOCAB_SIZE_EN-2] + tokenizer_en.encode(inp_sentence) + [VOCAB_SIZE_EN-1]\n",
        "\n",
        "    # Expand dims to account for batch_size\n",
        "    enc_input = tf.expand_dims(inp_sentence, axis=0)\n",
        "\n",
        "    # Start with the s-o-s\n",
        "    output = tf.expand_dims([VOCAB_SIZE_FR-2], axis=0)\n",
        "\n",
        "    for _ in range(MAX_LENGTH):\n",
        "        predictions, attention_weights = transformer(enc_input, output, False)\n",
        "\n",
        "        prediction = predictions[:, -1:, :]\n",
        "\n",
        "        # Get highest probability\n",
        "        predicted_id = tf.cast(tf.argmax(prediction, axis=-1), tf.int32)\n",
        "\n",
        "        # If e-o-s return\n",
        "        if predicted_id == VOCAB_SIZE_FR-1:\n",
        "            return tf.squeeze(output, axis=0), attention_weights\n",
        "\n",
        "        # Concat last prediction to decoder input\n",
        "        output = tf.concat([output, predicted_id], axis=-1)\n",
        "\n",
        "    return tf.squeeze(output, axis=0), attention_weights"
      ]
    },
    {
      "cell_type": "markdown",
      "metadata": {
        "id": "BAaYVL8V63FM"
      },
      "source": [
        "**Plot the attention weights for a decoder layer**"
      ]
    },
    {
      "cell_type": "code",
      "execution_count": null,
      "metadata": {
        "id": "DnUcjddyknkw"
      },
      "outputs": [],
      "source": [
        "def plot_attention_weights(attention, sentence, result, layer):\n",
        "    fig = plt.figure(figsize=(16, 8))\n",
        "    sentence = tokenizer_en.encode(sentence)\n",
        "    attention = tf.squeeze(attention[layer], axis=0)\n",
        "\n",
        "    for head in range(attention.shape[0]):\n",
        "\n",
        "        ax = fig.add_subplot(2, 4, head+1)\n",
        "\n",
        "        # plot the attention weights\n",
        "        ax.matshow(attention[head][:-1, :], cmap='viridis')\n",
        "        fontdict = {'fontsize': 10}\n",
        "\n",
        "        ax.set_xticks(range(len(sentence)+2))\n",
        "        ax.set_yticks(range(len(result)))\n",
        "        ax.set_ylim(len(result)-1.5, -0.5)\n",
        "        ax.set_xticklabels(\n",
        "            ['<start>']+[tokenizer_en.decode([i]) for i in sentence]+['<end>'],\n",
        "            fontdict=fontdict, rotation=90)\n",
        "\n",
        "        ax.set_yticklabels([tokenizer_fr.decode([i]) for i in result\n",
        "                            if i < VOCAB_SIZE_FR-2],\n",
        "                           fontdict=fontdict)\n",
        "\n",
        "        ax.set_xlabel('Head {}'.format(head+1))\n",
        "    plt.tight_layout()\n",
        "    plt.show()"
      ]
    },
    {
      "cell_type": "markdown",
      "metadata": {
        "id": "7qxiGxgV63FN"
      },
      "source": [
        "#### Translate function\n",
        "\n",
        "We use this function to test our translations. It calls the `evaluate` function to make the predictions and if given the decoder layer and block, produces a plot of the attention weights."
      ]
    },
    {
      "cell_type": "code",
      "execution_count": null,
      "metadata": {
        "id": "SrhHyv9gDE7C"
      },
      "outputs": [],
      "source": [
        "def translate(sentence, plot=''):\n",
        "    #output, attention_weights\n",
        "    output, attention_weights = evaluate(sentence) #.numpy()\n",
        "    print(f'wts shape: {attention_weights.keys()}')\n",
        "    output = output.numpy()\n",
        "\n",
        "    predicted_sentence = tokenizer_fr.decode(\n",
        "        [i for i in output if i < VOCAB_SIZE_FR-2]\n",
        "    )\n",
        "\n",
        "    print(\"Input: {}\".format(sentence))\n",
        "    print(\"Predicted translation: {}\".format(predicted_sentence))\n",
        "    if plot:\n",
        "        plot_attention_weights(attention_weights, sentence, output, plot)"
      ]
    },
    {
      "cell_type": "markdown",
      "metadata": {
        "id": "CX4tnflN63FO"
      },
      "source": [
        "### Let's translate\n",
        "\n",
        "Now we try some translations and see how it turns out. We also get to see what the attention looks like by plotting it.\n",
        "\n",
        "I verify the translations that follow by running the resultant french text through `Google translate`.\n",
        "\n",
        "---\n",
        "**Source: \"This is a really powerful tool!\"**\n",
        "\n",
        "**Translation: \"C'est un instrument très puissant\"**\n",
        "\n",
        "**Google: \"It is a very powerful instrument\"**\n",
        "\n",
        "This is very close."
      ]
    },
    {
      "cell_type": "code",
      "execution_count": null,
      "metadata": {
        "id": "j8UKmKo7DQsN"
      },
      "outputs": [],
      "source": [
        "translate(\"This is a really powerful tool!\", plot='decoder_layer4_block2')"
      ]
    },
    {
      "cell_type": "markdown",
      "metadata": {
        "id": "eGF_h1An63FP"
      },
      "source": [
        "---\n",
        "**Source: \"what is your name?\"**\n",
        "\n",
        "**Translation: \"Quel est votre nom ?\"**\n",
        "\n",
        "**Google: \"What is your name ?\"**\n",
        "\n",
        "Perfect."
      ]
    },
    {
      "cell_type": "code",
      "execution_count": null,
      "metadata": {
        "id": "XEiotEKyASW9"
      },
      "outputs": [],
      "source": [
        "translate(\"what is your name?\", plot='decoder_layer4_block2')"
      ]
    },
    {
      "cell_type": "markdown",
      "metadata": {
        "id": "XBoGmRuM63FQ"
      },
      "source": [
        "---\n",
        "**Source: \"You are beutiful.\"**\n",
        "\n",
        "**Translation: \"Vous êtes très sincère\"**\n",
        "\n",
        "**Google: \"You are very sincere\"**\n",
        "\n",
        "Almost. But notice that beautiful is misspelled, so it's sort of impressive that the translation is so close."
      ]
    },
    {
      "cell_type": "code",
      "execution_count": null,
      "metadata": {
        "id": "7b0P3kqH4nTn"
      },
      "outputs": [],
      "source": [
        "translate(\"You are beutiful.\", plot='decoder_layer4_block2')"
      ]
    },
    {
      "cell_type": "markdown",
      "metadata": {
        "id": "NCgPzxkX63FR"
      },
      "source": [
        "---\n",
        "**Source: \"I love you.\"**\n",
        "\n",
        "**Translation: \"Je vous aime\"**\n",
        "\n",
        "**Google: \"I like You\"**\n",
        "\n",
        "Well, in this case I'd say that Google got it wrong. The translation is correct."
      ]
    },
    {
      "cell_type": "code",
      "execution_count": null,
      "metadata": {
        "id": "ruYzB_AO5uKc"
      },
      "outputs": [],
      "source": [
        "translate(\"I love you.\", plot='decoder_layer4_block2')"
      ]
    },
    {
      "cell_type": "markdown",
      "metadata": {
        "id": "5ONtp_mF63FR"
      },
      "source": [
        "---\n",
        "**Source: \"How are you?\"**\n",
        "\n",
        "**Translation: \"Comment avez-vous\"**\n",
        "\n",
        "**Google: \"How did you\"**\n",
        "\n",
        "One word wrong."
      ]
    },
    {
      "cell_type": "code",
      "execution_count": null,
      "metadata": {
        "colab": {
          "base_uri": "https://localhost:8080/",
          "height": 625
        },
        "id": "eu3c0drscXik",
        "outputId": "74949fb5-6649-4275-f725-d06a717bfc1f"
      },
      "outputs": [
        {
          "name": "stdout",
          "output_type": "stream",
          "text": [
            "wts shape: dict_keys(['decoder_layer4_block1', 'decoder_layer4_block2'])\n",
            "Input: How are you?\n",
            "Predicted translation: Comment avez-vous ?\n"
          ]
        },
        {
          "data": {
            "image/png": "[encoded data removed]",
            "text/plain": [
              "<Figure size 1152x576 with 8 Axes>"
            ]
          },
          "metadata": {
            "needs_background": "light",
            "tags": []
          },
          "output_type": "display_data"
        }
      ],
      "source": [
        "translate(\"How are you?\", plot='decoder_layer4_block2')"
      ]
    },
    {
      "cell_type": "markdown",
      "metadata": {
        "id": "IS_i_pxJcl2S"
      },
      "source": [
        "## Results\n",
        "\n",
        "As a proof of concept the results were encouraging. We have to keep in mind that the model used here was a scaled-down version of the model specified in the paper. They used 6 encoder layers and 6 decoder layers. We used 4 and 4. They used an embedding size of 512 - we used 128. They used 2048 nodes in the FFNs - we used 512. We did this to save on computational cost.\n",
        "\n",
        "Based on these results, I have no doubt that increasing these hyper-parameter to match or exceed those used in the paper would cause the accuracy to improve greatly.  "
      ]
    },
    {
      "cell_type": "markdown",
      "metadata": {
        "id": "zyPAT60p63FS"
      },
      "source": [
        "## Future Work\n",
        "\n",
        "* Expand the model to match or exceed the model referenced in the original paper \"[Attention is all you need](https://arxiv.org/pdf/1706.03762.pdf)\".\n",
        "* Experiment with other varients of the transformer such as GPT-2 or BERT.\n",
        "* Ultimately to build a full two way language translation model using voice recognition, allowing two or more people speaking different languages to comunicate using their native languages."
      ]
    },
    {
      "cell_type": "markdown",
      "metadata": {
        "id": "2ESPszhY63FT"
      },
      "source": [
        "## Summary\n",
        "\n",
        "We built a `Transformer` based on the paper \"[Attention is all you need] We built it from scratch using the `Tensorflow` framework. We did this because it provides an opportunity to learn all of the hidden details of the model.\n",
        "\n",
        "So what did we learn?\n",
        "\n",
        "In Seq2Seq models\n"
      ]
    },
    {
      "cell_type": "code",
      "execution_count": null,
      "metadata": {
        "id": "gNG3bVHm63FT"
      },
      "outputs": [],
      "source": []
    }
  ],
  "metadata": {
    "accelerator": "GPU",
    "colab": {
      "provenance": [],
      "include_colab_link": true
    },
    "kernelspec": {
      "display_name": "Python 3",
      "language": "python",
      "name": "python3"
    },
    "language_info": {
      "codemirror_mode": {
        "name": "ipython",
        "version": 3
      },
      "file_extension": ".py",
      "mimetype": "text/x-python",
      "name": "python",
      "nbconvert_exporter": "python",
      "pygments_lexer": "ipython3",
      "version": "3.7.8"
    },
    "toc": {
      "base_numbering": 1,
      "nav_menu": {},
      "number_sections": true,
      "sideBar": true,
      "skip_h1_title": true,
      "title_cell": "Table of Contents",
      "title_sidebar": "Contents",
      "toc_cell": true,
      "toc_position": {},
      "toc_section_display": true,
      "toc_window_display": true
    }
  },
  "nbformat": 4,
  "nbformat_minor": 0
}
