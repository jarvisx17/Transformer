{
 "cells": [
  {
   "cell_type": "markdown",
   "metadata": {
    "id": "gvP_7iee3RyW"
   },
   "source": [
    "# Language Translation with Transformers Models"
   ]
  },
  {
   "cell_type": "markdown",
   "metadata": {},
   "source": [
    "![language](../language.jpg)"
   ]
  },
  {
   "cell_type": "markdown",
   "metadata": {
    "toc": true
   },
   "source": [
    "<h1>Table of Contents<span class=\"tocSkip\"></span></h1>\n",
    "<div class=\"toc\"><ul class=\"toc-item\"><li><span><a href=\"#Introduction\" data-toc-modified-id=\"Introduction-1\"><span class=\"toc-item-num\">1&nbsp;&nbsp;</span>Introduction</a></span><ul class=\"toc-item\"><li><span><a href=\"#Motivation\" data-toc-modified-id=\"Motivation-1.1\"><span class=\"toc-item-num\">1.1&nbsp;&nbsp;</span>Motivation</a></span></li><li><span><a href=\"#Approach\" data-toc-modified-id=\"Approach-1.2\"><span class=\"toc-item-num\">1.2&nbsp;&nbsp;</span>Approach</a></span></li><li><span><a href=\"#Steps\" data-toc-modified-id=\"Steps-1.3\"><span class=\"toc-item-num\">1.3&nbsp;&nbsp;</span>Steps</a></span></li></ul></li><li><span><a href=\"#Importing-dependencies\" data-toc-modified-id=\"Importing-dependencies-2\"><span class=\"toc-item-num\">2&nbsp;&nbsp;</span>Importing dependencies</a></span><ul class=\"toc-item\"><li><span><a href=\"#Check-Tensorflow-version-and-verify-we-are-using-GPU\" data-toc-modified-id=\"Check-Tensorflow-version-and-verify-we-are-using-GPU-2.1\"><span class=\"toc-item-num\">2.1&nbsp;&nbsp;</span>Check Tensorflow version and verify we are using GPU</a></span></li></ul></li><li><span><a href=\"#Download-the-datasets\" data-toc-modified-id=\"Download-the-datasets-3\"><span class=\"toc-item-num\">3&nbsp;&nbsp;</span>Download the datasets</a></span><ul class=\"toc-item\"><li><span><a href=\"#Helpful-functions\" data-toc-modified-id=\"Helpful-functions-3.1\"><span class=\"toc-item-num\">3.1&nbsp;&nbsp;</span>Helpful functions</a></span></li><li><span><a href=\"#Define-the-url-paths-for-our-data-downloads-and-create-data-directory\" data-toc-modified-id=\"Define-the-url-paths-for-our-data-downloads-and-create-data-directory-3.2\"><span class=\"toc-item-num\">3.2&nbsp;&nbsp;</span>Define the url paths for our data downloads and create data directory</a></span></li><li><span><a href=\"#Download-the-data\" data-toc-modified-id=\"Download-the-data-3.3\"><span class=\"toc-item-num\">3.3&nbsp;&nbsp;</span>Download the data</a></span><ul class=\"toc-item\"><li><span><a href=\"#Save-the-files-to-./data\" data-toc-modified-id=\"Save-the-files-to-./data-3.3.1\"><span class=\"toc-item-num\">3.3.1&nbsp;&nbsp;</span>Save the files to <code>./data</code></a></span></li><li><span><a href=\"#Extract-the-data\" data-toc-modified-id=\"Extract-the-data-3.3.2\"><span class=\"toc-item-num\">3.3.2&nbsp;&nbsp;</span>Extract the data</a></span></li><li><span><a href=\"#Remove-the-compressed-files\" data-toc-modified-id=\"Remove-the-compressed-files-3.3.3\"><span class=\"toc-item-num\">3.3.3&nbsp;&nbsp;</span>Remove the compressed files</a></span></li></ul></li></ul></li><li><span><a href=\"#Data-preprocessing\" data-toc-modified-id=\"Data-preprocessing-4\"><span class=\"toc-item-num\">4&nbsp;&nbsp;</span>Data preprocessing</a></span><ul class=\"toc-item\"><li><span><a href=\"#Loading-files\" data-toc-modified-id=\"Loading-files-4.1\"><span class=\"toc-item-num\">4.1&nbsp;&nbsp;</span>Loading files</a></span></li><li><span><a href=\"#Cleaning-data\" data-toc-modified-id=\"Cleaning-data-4.2\"><span class=\"toc-item-num\">4.2&nbsp;&nbsp;</span>Cleaning data</a></span><ul class=\"toc-item\"><li><span><a href=\"#Process-non-breaking-prefixes-in-corpus,-and-remove-consecutive-spaces\" data-toc-modified-id=\"Process-non-breaking-prefixes-in-corpus,-and-remove-consecutive-spaces-4.2.1\"><span class=\"toc-item-num\">4.2.1&nbsp;&nbsp;</span>Process non-breaking prefixes in corpus, and remove consecutive spaces</a></span></li></ul></li><li><span><a href=\"#Tokenizing-Text\" data-toc-modified-id=\"Tokenizing-Text-4.3\"><span class=\"toc-item-num\">4.3&nbsp;&nbsp;</span>Tokenizing Text</a></span></li><li><span><a href=\"#The-vocabulary-size-will-be-used-to-build-the-start-and-end-tokens\" data-toc-modified-id=\"The-vocabulary-size-will-be-used-to-build-the-start-and-end-tokens-4.4\"><span class=\"toc-item-num\">4.4&nbsp;&nbsp;</span>The vocabulary size will be used to build the <code>start</code> and <code>end</code> tokens</a></span></li><li><span><a href=\"#Remove-very-long-sentences\" data-toc-modified-id=\"Remove-very-long-sentences-4.5\"><span class=\"toc-item-num\">4.5&nbsp;&nbsp;</span>Remove very long sentences</a></span></li><li><span><a href=\"#Input-/-Output-creation\" data-toc-modified-id=\"Input-/-Output-creation-4.6\"><span class=\"toc-item-num\">4.6&nbsp;&nbsp;</span>Input / Output creation</a></span></li><li><span><a href=\"#Create-the-datasets\" data-toc-modified-id=\"Create-the-datasets-4.7\"><span class=\"toc-item-num\">4.7&nbsp;&nbsp;</span>Create the datasets</a></span></li></ul></li><li><span><a href=\"#Model-Building\" data-toc-modified-id=\"Model-Building-5\"><span class=\"toc-item-num\">5&nbsp;&nbsp;</span>Model Building</a></span><ul class=\"toc-item\"><li><ul class=\"toc-item\"><li><span><a href=\"#Model-Composition\" data-toc-modified-id=\"Model-Composition-5.0.1\"><span class=\"toc-item-num\">5.0.1&nbsp;&nbsp;</span>Model Composition</a></span></li></ul></li><li><span><a href=\"#Positional-Encoding\" data-toc-modified-id=\"Positional-Encoding-5.1\"><span class=\"toc-item-num\">5.1&nbsp;&nbsp;</span>Positional Encoding</a></span></li><li><span><a href=\"#Self-Attention\" data-toc-modified-id=\"Self-Attention-5.2\"><span class=\"toc-item-num\">5.2&nbsp;&nbsp;</span>Self-Attention</a></span><ul class=\"toc-item\"><li><ul class=\"toc-item\"><li><span><a href=\"#Linear-Transformation\" data-toc-modified-id=\"Linear-Transformation-5.2.0.1\"><span class=\"toc-item-num\">5.2.0.1&nbsp;&nbsp;</span>Linear Transformation</a></span></li></ul></li><li><span><a href=\"#Calculate-the-self-attention:\" data-toc-modified-id=\"Calculate-the-self-attention:-5.2.1\"><span class=\"toc-item-num\">5.2.1&nbsp;&nbsp;</span>Calculate the self-attention:</a></span></li><li><span><a href=\"#Multi-Head-Self-Attention\" data-toc-modified-id=\"Multi-Head-Self-Attention-5.2.2\"><span class=\"toc-item-num\">5.2.2&nbsp;&nbsp;</span>Multi-Head Self-Attention</a></span></li><li><span><a href=\"#Attention-Masks\" data-toc-modified-id=\"Attention-Masks-5.2.3\"><span class=\"toc-item-num\">5.2.3&nbsp;&nbsp;</span>Attention Masks</a></span><ul class=\"toc-item\"><li><span><a href=\"#Padding-Mask\" data-toc-modified-id=\"Padding-Mask-5.2.3.1\"><span class=\"toc-item-num\">5.2.3.1&nbsp;&nbsp;</span>Padding Mask</a></span></li><li><span><a href=\"#Look-Ahead-Mask\" data-toc-modified-id=\"Look-Ahead-Mask-5.2.3.2\"><span class=\"toc-item-num\">5.2.3.2&nbsp;&nbsp;</span>Look-Ahead Mask</a></span></li></ul></li><li><span><a href=\"#Attention-computation\" data-toc-modified-id=\"Attention-computation-5.2.4\"><span class=\"toc-item-num\">5.2.4&nbsp;&nbsp;</span>Attention computation</a></span></li><li><span><a href=\"#Multi-head-attention-sublayer\" data-toc-modified-id=\"Multi-head-attention-sublayer-5.2.5\"><span class=\"toc-item-num\">5.2.5&nbsp;&nbsp;</span>Multi-head attention sublayer</a></span></li></ul></li><li><span><a href=\"#Encoder\" data-toc-modified-id=\"Encoder-5.3\"><span class=\"toc-item-num\">5.3&nbsp;&nbsp;</span>Encoder</a></span><ul class=\"toc-item\"><li><span><a href=\"#EncoderLayer-Class\" data-toc-modified-id=\"EncoderLayer-Class-5.3.1\"><span class=\"toc-item-num\">5.3.1&nbsp;&nbsp;</span>EncoderLayer Class</a></span></li><li><span><a href=\"#Encoder-Class\" data-toc-modified-id=\"Encoder-Class-5.3.2\"><span class=\"toc-item-num\">5.3.2&nbsp;&nbsp;</span>Encoder Class</a></span></li></ul></li><li><span><a href=\"#Decoder\" data-toc-modified-id=\"Decoder-5.4\"><span class=\"toc-item-num\">5.4&nbsp;&nbsp;</span>Decoder</a></span><ul class=\"toc-item\"><li><span><a href=\"#DecoderLayer-Class\" data-toc-modified-id=\"DecoderLayer-Class-5.4.1\"><span class=\"toc-item-num\">5.4.1&nbsp;&nbsp;</span>DecoderLayer Class</a></span></li><li><span><a href=\"#Decoder-Class\" data-toc-modified-id=\"Decoder-Class-5.4.2\"><span class=\"toc-item-num\">5.4.2&nbsp;&nbsp;</span>Decoder Class</a></span></li></ul></li><li><span><a href=\"#Transformer\" data-toc-modified-id=\"Transformer-5.5\"><span class=\"toc-item-num\">5.5&nbsp;&nbsp;</span>Transformer</a></span><ul class=\"toc-item\"><li><span><a href=\"#Transformer-Class\" data-toc-modified-id=\"Transformer-Class-5.5.1\"><span class=\"toc-item-num\">5.5.1&nbsp;&nbsp;</span>Transformer Class</a></span></li></ul></li></ul></li><li><span><a href=\"#Training\" data-toc-modified-id=\"Training-6\"><span class=\"toc-item-num\">6&nbsp;&nbsp;</span>Training</a></span><ul class=\"toc-item\"><li><span><a href=\"#Define-Hyper-parameter-values\" data-toc-modified-id=\"Define-Hyper-parameter-values-6.1\"><span class=\"toc-item-num\">6.1&nbsp;&nbsp;</span>Define Hyper-parameter values</a></span></li><li><span><a href=\"#Define-the-loss-function\" data-toc-modified-id=\"Define-the-loss-function-6.2\"><span class=\"toc-item-num\">6.2&nbsp;&nbsp;</span>Define the loss function</a></span></li><li><span><a href=\"#Create-a-custom-learning-rate-schedule\" data-toc-modified-id=\"Create-a-custom-learning-rate-schedule-6.3\"><span class=\"toc-item-num\">6.3&nbsp;&nbsp;</span>Create a custom learning rate schedule</a></span><ul class=\"toc-item\"><li><span><a href=\"#Plot-the-learning-rate\" data-toc-modified-id=\"Plot-the-learning-rate-6.3.1\"><span class=\"toc-item-num\">6.3.1&nbsp;&nbsp;</span>Plot the learning rate</a></span></li></ul></li><li><span><a href=\"#Model-checkpoints\" data-toc-modified-id=\"Model-checkpoints-6.4\"><span class=\"toc-item-num\">6.4&nbsp;&nbsp;</span>Model checkpoints</a></span></li><li><span><a href=\"#Run-the-training\" data-toc-modified-id=\"Run-the-training-6.5\"><span class=\"toc-item-num\">6.5&nbsp;&nbsp;</span>Run the training</a></span></li></ul></li><li><span><a href=\"#Evaluating\" data-toc-modified-id=\"Evaluating-7\"><span class=\"toc-item-num\">7&nbsp;&nbsp;</span>Evaluating</a></span><ul class=\"toc-item\"><li><ul class=\"toc-item\"><li><span><a href=\"#Translate-function\" data-toc-modified-id=\"Translate-function-7.0.1\"><span class=\"toc-item-num\">7.0.1&nbsp;&nbsp;</span>Translate function</a></span></li></ul></li><li><span><a href=\"#Let's-translate\" data-toc-modified-id=\"Let's-translate-7.1\"><span class=\"toc-item-num\">7.1&nbsp;&nbsp;</span>Let's translate</a></span></li></ul></li><li><span><a href=\"#Results\" data-toc-modified-id=\"Results-8\"><span class=\"toc-item-num\">8&nbsp;&nbsp;</span>Results</a></span></li><li><span><a href=\"#Future-Work\" data-toc-modified-id=\"Future-Work-9\"><span class=\"toc-item-num\">9&nbsp;&nbsp;</span>Future Work</a></span></li><li><span><a href=\"#Summary\" data-toc-modified-id=\"Summary-10\"><span class=\"toc-item-num\">10&nbsp;&nbsp;</span>Summary</a></span></li></ul></div>"
   ]
  },
  {
   "cell_type": "markdown",
   "metadata": {
    "id": "Vl4vPqA4DcJZ"
   },
   "source": [
    "## Introduction\n"
   ]
  },
  {
   "cell_type": "markdown",
   "metadata": {},
   "source": [
    "### Motivation"
   ]
  },
  {
   "cell_type": "markdown",
   "metadata": {},
   "source": [
    "I undertook this project in order to better understand how `Transformer Models` work. I became interested in the technology when I set out to work on a language translation model using an `RNN`. However, in learning about `RNN`s and `LSTM`s I came across `Transformers`. As I started to learn more I realiazed that I needed shift to this model for my project.\n",
    "\n",
    "Since the paper [Attention is all you need](https://arxiv.org/abs/1706.03762) was published in 2017, introducing transformers,  they and their many variants have become the models of choice for `Natural Language Processing` - `NLP`. They are used for to solve many types sequence to sequence problems including language translation, information retrieval, text classification, document summarization, image captioning, and genome analysis. More recently they are showing great results in `image recognition` and `object detection`.\n",
    "\n",
    "The transformer continues to evolve with new variants such as BERT, GPT-2, GPT-3, and others. And research continues on how to improve them.\n",
    "\n"
   ]
  },
  {
   "cell_type": "markdown",
   "metadata": {},
   "source": [
    "### Approach\n",
    "\n",
    "The model is build from scratch following the method used in the original [Attention is all you need](https://arxiv.org/abs/1706.03762) paper. I also used a number of articles, which I will cite, to better learn and understand the details of the transformer\n",
    "\n",
    "As this model is built using the `Tensorflow` framework, I leveraged their transformer [tutorial](https://www.tensorflow.org/tutorials/text/transformer) for code inspiration.\n",
    "\n",
    "I also relied heavily on Jay Alammar's excellent blog post [The Illustrated Transformer](http://jalammar.github.io/illustrated-transformer/). It's kinda become the standard go-to for the visual representation and description of transformers.\n",
    "\n",
    "Another great blog post is [What Are Transformer Models in Machine Learning?](https://lionbridge.ai/articles/what-are-transformer-models-in-machine-learning/) by Rahul Agarwal.\n",
    "\n",
    "No doubt that you too will find many other great articles."
   ]
  },
  {
   "cell_type": "markdown",
   "metadata": {},
   "source": [
    "### Steps\n",
    "\n",
    "1. We start by loading all of the dependencies\n",
    "2. Download the and extract data\n",
    "3. Do some data preprocessing\n",
    "4. Tokenize the data\n",
    "5. Prep data for embedding\n",
    "6. Explain and code Positional Encoding\n",
    "7. Explain and code Self-attention\n",
    "8. Explain and code the Encoder\n",
    "9. Explain and code the Decoder\n",
    "10. Explain and code the Transformer\n",
    "11. Train the transformer is explaination\n",
    "12. Expalain how the model does inferencing.\n"
   ]
  },
  {
   "cell_type": "markdown",
   "metadata": {
    "id": "m9JJ7FBw84tG"
   },
   "source": [
    "## Importing dependencies"
   ]
  },
  {
   "cell_type": "code",
   "execution_count": 2,
   "metadata": {
    "colab": {
     "base_uri": "https://localhost:8080/"
    },
    "executionInfo": {
     "elapsed": 45144,
     "status": "ok",
     "timestamp": 1605120951646,
     "user": {
      "displayName": "Alvaro Henriquez",
      "photoUrl": "",
      "userId": "02782214734520853933"
     },
     "user_tz": 300
    },
    "id": "7bi5h91M3EC0",
    "outputId": "ee003ee8-4ba9-4579-d156-9573aa37d39b"
   },
   "outputs": [
    {
     "name": "stdout",
     "output_type": "stream",
     "text": [
      "Mounted at /content/drive/\n"
     ]
    }
   ],
   "source": [
    "import os\n",
    "import sys\n",
    "import tarfile\n",
    "import zipfile as zf\n",
    "import requests as rq\n",
    "\n",
    "import numpy as np\n",
    "import matplotlib.pyplot as plt\n",
    "%matplotlib inline\n",
    "import math\n",
    "import re\n",
    "import time\n",
    "from google.colab import drive\n",
    "drive.mount('/content/drive/')"
   ]
  },
  {
   "cell_type": "code",
   "execution_count": 3,
   "metadata": {
    "executionInfo": {
     "elapsed": 851,
     "status": "ok",
     "timestamp": 1605120959436,
     "user": {
      "displayName": "Alvaro Henriquez",
      "photoUrl": "",
      "userId": "02782214734520853933"
     },
     "user_tz": 300
    },
    "id": "2oGNiOFjQYPW"
   },
   "outputs": [],
   "source": [
    "os.chdir('drive/My Drive')\n",
    "ROOT = os.getcwd()\n",
    "os.chdir(ROOT + '/Colab Notebooks')"
   ]
  },
  {
   "cell_type": "code",
   "execution_count": 4,
   "metadata": {
    "executionInfo": {
     "elapsed": 2719,
     "status": "ok",
     "timestamp": 1605120967010,
     "user": {
      "displayName": "Alvaro Henriquez",
      "photoUrl": "",
      "userId": "02782214734520853933"
     },
     "user_tz": 300
    },
    "id": "Z_zxs_3d3lK2"
   },
   "outputs": [],
   "source": [
    "try:\n",
    "    %tensorflow_version 2.x\n",
    "except:\n",
    "    pass\n",
    "import tensorflow as tf\n",
    "\n",
    "from tensorflow.keras import layers\n",
    "import tensorflow_datasets as tfds"
   ]
  },
  {
   "cell_type": "markdown",
   "metadata": {
    "executionInfo": {
     "elapsed": 379,
     "status": "ok",
     "timestamp": 1605120967808,
     "user": {
      "displayName": "Alvaro Henriquez",
      "photoUrl": "",
      "userId": "02782214734520853933"
     },
     "user_tz": 300
    },
    "id": "aaOAIH2QUNR1"
   },
   "source": [
    "### Check Tensorflow version and verify we are using GPU"
   ]
  },
  {
   "cell_type": "code",
   "execution_count": 6,
   "metadata": {
    "colab": {
     "base_uri": "https://localhost:8080/"
    },
    "executionInfo": {
     "elapsed": 2157,
     "status": "ok",
     "timestamp": 1605121062939,
     "user": {
      "displayName": "Alvaro Henriquez",
      "photoUrl": "",
      "userId": "02782214734520853933"
     },
     "user_tz": 300
    },
    "id": "IeCUyFKx05j0",
    "outputId": "e6e09b07-79f0-4f3e-cb1e-8a82e2f8af0c"
   },
   "outputs": [
    {
     "name": "stdout",
     "output_type": "stream",
     "text": [
      "TensorFlow Version: 2.3.0\n",
      "Using CUDA: True\n",
      "Using GPU: [PhysicalDevice(name='/physical_device:GPU:0', device_type='GPU')]\n",
      "Num GPUs Available:  1\n"
     ]
    }
   ],
   "source": [
    "print(f'TensorFlow Version: {tf.__version__}')\n",
    "print(f'Using CUDA: {tf.test.is_built_with_cuda()}')\n",
    "print(f'Using GPU: {tf.config.list_physical_devices(\"GPU\")}')\n",
    "physical_devices = tf.config.experimental.list_physical_devices('GPU')\n",
    "print(\"Num GPUs Available: \", len(physical_devices))\n",
    "\n",
    "tf.config.experimental.set_memory_growth(physical_devices[0], True)"
   ]
  },
  {
   "cell_type": "markdown",
   "metadata": {},
   "source": [
    "## Download the datasets\n",
    "In this section we download the datasets and supporting files using the `Requests` module. We then extract the corpuses from the tar file to the data directory. We also download two zip files which are also extracted to the data directory.\n",
    "\n",
    "The dataset comes from the `European Parliament Proceedings Parallel Corpus 1996-2011` found at the [`Statistical Machine Translation`](http://www.statmt.org/europarl/) website. Specifically, we use the [`French-English parallel corpus`](http://www.statmt.org/europarl/v7/fr-en.tgz) . The following description is cited from their site.\n",
    "\n",
    ">\"*The Europarl parallel corpus is extracted from the proceedings of the European Parliament. It includes versions in 21 European languages: Romanic (French, Italian, Spanish, Portuguese, Romanian), Germanic (English, Dutch, German, Danish, Swedish), Slavik (Bulgarian, Czech, Polish, Slovak, Slovene), Finni-Ugric (Finnish, Hungarian, Estonian), Baltic (Latvian, Lithuanian), and Greek.*\"\n",
    "\n",
    "The two zip files contain lists of non-breaking prefixes in French and english. These will be applied in the preprocessing of the datasets. The Urls can be found in the code.\n"
   ]
  },
  {
   "cell_type": "markdown",
   "metadata": {
    "id": "5BYVMjrkRFpg"
   },
   "source": [
    "### Helpful functions\n",
    "The first function simply extracts our datasets from the tarball. The second one removes the tar and zip files after their contents has been extracted."
   ]
  },
  {
   "cell_type": "code",
   "execution_count": null,
   "metadata": {
    "id": "esWTmxHeTPdb"
   },
   "outputs": [],
   "source": [
    "#https://stackoverflow.com/questions/6058786/i-want-to-extract-a-tgz-file-and-extract-any-subdirectories-that-have-files-tha\n",
    "def extract(tar_url, extract_path='.'):\n",
    "    ''' Fetch tar file and extract to specified path\n",
    "    '''\n",
    "    tar = tarfile.open(tar_url, 'r')\n",
    "    for item in tar:\n",
    "        tar.extract(item, extract_path)\n",
    "        if item.name.find(\".tgz\") != -1 or item.name.find(\".tar\") != -1:\n",
    "            extract(item.name, \"./\" + item.name[:item.name.rfind('/')])\n"
   ]
  },
  {
   "cell_type": "code",
   "execution_count": null,
   "metadata": {
    "id": "Vpi0IWEHuGrP"
   },
   "outputs": [],
   "source": [
    "def remove_files(dir, filelist):\n",
    "    '''Remove files in filelist from dir\n",
    "    '''\n",
    "    for f in filelist:\n",
    "        print(f'Removing file: {f}')      \n",
    "        os.remove(os.path.join(dir, f))"
   ]
  },
  {
   "cell_type": "markdown",
   "metadata": {},
   "source": [
    "### Define the url paths for our data downloads and create data directory"
   ]
  },
  {
   "cell_type": "code",
   "execution_count": null,
   "metadata": {
    "id": "Emz3okSbRG78"
   },
   "outputs": [],
   "source": [
    "EN_FR_URL = 'http://www.statmt.org/europarl/v7/fr-en.tgz'\n",
    "PRE_EN_URL = 'https://sds-platform-private.s3-us-east-2.amazonaws.com/uploads/P85-Non-Breaking-Prefix-en.zip'\n",
    "PRE_FR_URL = 'https://sds-platform-private.s3-us-east-2.amazonaws.com/uploads/P85-Non-Breaking-Prefix-fr.zip'"
   ]
  },
  {
   "cell_type": "code",
   "execution_count": null,
   "metadata": {
    "id": "sGfUdXlrXvOc"
   },
   "outputs": [],
   "source": [
    "# Create data directory if necessary\n",
    "if os.path.isdir('../data') is False:\n",
    "    os.mkdir('../data')"
   ]
  },
  {
   "cell_type": "markdown",
   "metadata": {},
   "source": [
    "### Download the data \n",
    "* Use the requests library to download the files\n",
    "* Write the files to the data directory\n",
    "* Extract the data from the files\n",
    "* Remove the compressed files from data folder\n"
   ]
  },
  {
   "cell_type": "code",
   "execution_count": null,
   "metadata": {
    "id": "29RmxrHKa03C"
   },
   "outputs": [],
   "source": [
    "r_en_fr = rq.get(EN_FR_URL, stream=True)\n",
    "r_pr_en = rq.get(PRE_EN_URL, stream=True)\n",
    "r_pr_fr = rq.get(PRE_FR_URL, stream=True)"
   ]
  },
  {
   "cell_type": "markdown",
   "metadata": {},
   "source": [
    "#### Save the files to `./data`"
   ]
  },
  {
   "cell_type": "code",
   "execution_count": null,
   "metadata": {
    "id": "nGNBgg9Qc9oH"
   },
   "outputs": [],
   "source": [
    "with open('../data/fr-en.tgz', 'wb') as fr_en:\n",
    "    for chunk in r_en_fr.iter_content(chunk_size=1024):\n",
    "        if chunk:\n",
    "            fr_en.write(chunk)"
   ]
  },
  {
   "cell_type": "code",
   "execution_count": null,
   "metadata": {
    "id": "D1Z05p_RemyQ"
   },
   "outputs": [],
   "source": [
    "with open('../data/P85-Non-Breaking-Prefix-en.zip', 'wb') as pre_en:\n",
    "    for chunk in r_pr_en.iter_content(chunk_size=1024):\n",
    "        if chunk:\n",
    "            pre_en.write(chunk)"
   ]
  },
  {
   "cell_type": "code",
   "execution_count": null,
   "metadata": {
    "id": "Ic4MF-F-fDc1"
   },
   "outputs": [],
   "source": [
    "with open('../data/P85-Non-Breaking-Prefix-fr.zip', 'wb') as pre_fr:\n",
    "    for chunk in r_pr_fr.iter_content(chunk_size=1024):\n",
    "        if chunk:\n",
    "            pre_fr.write(chunk)"
   ]
  },
  {
   "cell_type": "markdown",
   "metadata": {},
   "source": [
    "#### Extract the data"
   ]
  },
  {
   "cell_type": "code",
   "execution_count": null,
   "metadata": {
    "id": "58ijRr1Zg9WQ"
   },
   "outputs": [],
   "source": [
    "extract('../data/fr-en.tgz', extract_path='../data')"
   ]
  },
  {
   "cell_type": "code",
   "execution_count": null,
   "metadata": {
    "colab": {
     "base_uri": "https://localhost:8080/"
    },
    "executionInfo": {
     "elapsed": 294,
     "status": "ok",
     "timestamp": 1604299581466,
     "user": {
      "displayName": "Alvaro Henriquez",
      "photoUrl": "",
      "userId": "02782214734520853933"
     },
     "user_tz": 300
    },
    "id": "8PT76buWphzb",
    "outputId": "125342be-7195-454a-8d25-fefeb42b26f4"
   },
   "outputs": [
    {
     "name": "stdout",
     "output_type": "stream",
     "text": [
      "File Name                                             Modified             Size\n",
      "P85-Non-Breaking-Prefix.en                     2019-11-29 10:20:32          110\n",
      "__MACOSX/._P85-Non-Breaking-Prefix.en          2019-11-29 10:20:32          761\n"
     ]
    }
   ],
   "source": [
    "import zipfile as zf\n",
    "with zf.ZipFile('../data/P85-Non-Breaking-Prefix-en.zip') as archive:\n",
    "    archive.printdir()\n",
    "    archive.extract('P85-Non-Breaking-Prefix.en', '../data/')"
   ]
  },
  {
   "cell_type": "code",
   "execution_count": null,
   "metadata": {
    "colab": {
     "base_uri": "https://localhost:8080/"
    },
    "executionInfo": {
     "elapsed": 554,
     "status": "ok",
     "timestamp": 1604299634399,
     "user": {
      "displayName": "Alvaro Henriquez",
      "photoUrl": "",
      "userId": "02782214734520853933"
     },
     "user_tz": 300
    },
    "id": "AKBuyshLphEn",
    "outputId": "3e4f8b43-66eb-46ce-9023-6197bf451d79"
   },
   "outputs": [
    {
     "name": "stdout",
     "output_type": "stream",
     "text": [
      "File Name                                             Modified             Size\n",
      "P85-Non-Breaking-Prefix.fr                     2019-11-29 10:20:58          121\n",
      "__MACOSX/._P85-Non-Breaking-Prefix.fr          2019-11-29 10:20:58          576\n"
     ]
    }
   ],
   "source": [
    "with zf.ZipFile('../data/P85-Non-Breaking-Prefix-fr.zip') as archive:\n",
    "    archive.printdir()\n",
    "    archive.extract('P85-Non-Breaking-Prefix.fr', '../data/')"
   ]
  },
  {
   "cell_type": "markdown",
   "metadata": {},
   "source": [
    "#### Remove the compressed files"
   ]
  },
  {
   "cell_type": "code",
   "execution_count": null,
   "metadata": {
    "colab": {
     "base_uri": "https://localhost:8080/"
    },
    "executionInfo": {
     "elapsed": 398,
     "status": "ok",
     "timestamp": 1604300153138,
     "user": {
      "displayName": "Alvaro Henriquez",
      "photoUrl": "",
      "userId": "02782214734520853933"
     },
     "user_tz": 300
    },
    "id": "1FucZYnxto3W",
    "outputId": "e4f91d7a-6818-41d7-8295-49b8c8685a1a"
   },
   "outputs": [
    {
     "name": "stdout",
     "output_type": "stream",
     "text": [
      "Removing file: P85-Non-Breaking-Prefix-en.zip\n",
      "Removing file: P85-Non-Breaking-Prefix-fr.zip\n",
      "Removing file: fr-en.tgz\n"
     ]
    }
   ],
   "source": [
    "filelist = ['P85-Non-Breaking-Prefix-en.zip', 'P85-Non-Breaking-Prefix-fr.zip', 'fr-en.tgz']\n",
    "remove_files('../data', filelist)"
   ]
  },
  {
   "cell_type": "markdown",
   "metadata": {
    "id": "ITN6_EtO372t"
   },
   "source": [
    "## Data preprocessing"
   ]
  },
  {
   "cell_type": "markdown",
   "metadata": {
    "id": "CMXOrfUu4M-8"
   },
   "source": [
    "### Loading files\n",
    "\n",
    "Now we assign the files to variables so that we can start the data preprocessing."
   ]
  },
  {
   "cell_type": "code",
   "execution_count": 7,
   "metadata": {
    "executionInfo": {
     "elapsed": 19624,
     "status": "ok",
     "timestamp": 1605121131709,
     "user": {
      "displayName": "Alvaro Henriquez",
      "photoUrl": "",
      "userId": "02782214734520853933"
     },
     "user_tz": 300
    },
    "id": "LtR77eMg4xmZ"
   },
   "outputs": [],
   "source": [
    "with open(ROOT + \"/data/europarl-v7.fr-en.en\",\n",
    "          mode='r',\n",
    "          encoding='utf-8') as f:\n",
    "    europarl_en = f.read()\n",
    "    \n",
    "with open(ROOT + \"/data/europarl-v7.fr-en.fr\",\n",
    "          mode='r',\n",
    "          encoding='utf-8') as f:\n",
    "    europarl_fr = f.read()\n",
    "    \n",
    "with open(ROOT + \"/data/P85-Non-Breaking-Prefix.en\",\n",
    "          mode='r',\n",
    "          encoding='utf-8') as f:\n",
    "    non_breaking_prefix_en = f.read()\n",
    "    \n",
    "with open(ROOT + \"/data/P85-Non-Breaking-Prefix.fr\",\n",
    "          mode='r',\n",
    "          encoding='utf-8') as f:\n",
    "    non_breaking_prefix_fr = f.read()"
   ]
  },
  {
   "cell_type": "markdown",
   "metadata": {
    "id": "q9xgTFuQ4-JY"
   },
   "source": [
    "### Cleaning data"
   ]
  },
  {
   "cell_type": "markdown",
   "metadata": {
    "id": "fq0OjX0M-hvZ"
   },
   "source": [
    "The first step in preparing the data is to create two `lists of non-breaking prefixes` from the two files that were downloaded. These non-breaking prefixes indicate words that do not mark the end of a sentence when encountered with a period.\n",
    "Getting the `lists of non-breaking prefixes` as a clean list of words with a period at the end so it is easier to use."
   ]
  },
  {
   "cell_type": "code",
   "execution_count": 8,
   "metadata": {
    "executionInfo": {
     "elapsed": 931,
     "status": "ok",
     "timestamp": 1605121148807,
     "user": {
      "displayName": "Alvaro Henriquez",
      "photoUrl": "",
      "userId": "02782214734520853933"
     },
     "user_tz": 300
    },
    "id": "pzPOmGWS4_k5"
   },
   "outputs": [],
   "source": [
    "# Split into a list\n",
    "non_breaking_prefix_en = non_breaking_prefix_en.split(\"\\n\")\n",
    "print('Before adding space and period:')\n",
    "print(non_breaking_prefix_en[len(non_breaking_prefix_en)-6:])\n",
    "print()\n",
    "\n",
    "# Add a space to the front and a period to the end\n",
    "non_breaking_prefix_en = [' ' + pref + '.' for pref in non_breaking_prefix_en]\n",
    "print('After adding space and period:')\n",
    "print(non_breaking_prefix_en[len(non_breaking_prefix_en)-6:])\n",
    "\n",
    "# Do the same for the French file\n",
    "non_breaking_prefix_fr = non_breaking_prefix_fr.split(\"\\n\")\n",
    "non_breaking_prefix_fr = [' ' + pref + '.' for pref in non_breaking_prefix_fr]"
   ]
  },
  {
   "cell_type": "markdown",
   "metadata": {
    "id": "3q7Dds5D-xxW"
   },
   "source": [
    "#### Process non-breaking prefixes in corpus, and remove consecutive spaces\n",
    "We take the following steps to prepare the corpus.\n",
    "1. Iterate over the non-breaking prefix lists in order to find occurances in the corpus.\n",
    "2. Add `$$$` to the end of each prefix so that a\\they are easy to fine.\n",
    "3. Find all occurances of periods immediately followed by an alpha-numeric character and add `$$$` between the period and the character.\n",
    "4. Remove all occurances of `.$$$`. So that there are no longer any non-breaking periods.\n",
    "5. Replace consecutive spaces with a single space.\n",
    "6. Split the corpus into a list."
   ]
  },
  {
   "cell_type": "code",
   "execution_count": 9,
   "metadata": {
    "executionInfo": {
     "elapsed": 59515,
     "status": "ok",
     "timestamp": 1605121218547,
     "user": {
      "displayName": "Alvaro Henriquez",
      "photoUrl": "",
      "userId": "02782214734520853933"
     },
     "user_tz": 300
    },
    "id": "spWxh3L9-yVw"
   },
   "outputs": [],
   "source": [
    "corpus_en = europarl_en\n",
    "\n",
    "# Step 1 & 2\n",
    "for prefix in non_breaking_prefix_en:\n",
    "    corpus_en = corpus_en.replace(prefix, prefix + '$$$')\n",
    "    \n",
    "# Step 3     \n",
    "corpus_en = re.sub(r\"\\.(?=[0-9]|[a-z]|[A-Z])\", \".$$$\", corpus_en)\n",
    "\n",
    "# Step 4\n",
    "corpus_en = re.sub(r\".\\$\\$\\$\", '', corpus_en)\n",
    "\n",
    "# Step 5\n",
    "corpus_en = re.sub(r\"  +\", \" \", corpus_en)\n",
    "\n",
    "# Step 6\n",
    "corpus_en = corpus_en.split('\\n')\n",
    "\n",
    "# Repeat all steps for the French corpus.\n",
    "corpus_fr = europarl_fr\n",
    "for prefix in non_breaking_prefix_fr:\n",
    "    corpus_fr = corpus_fr.replace(prefix, prefix + '$$$')\n",
    "    \n",
    "corpus_fr = re.sub(r\"\\.(?=[0-9]|[a-z]|[A-Z])\", \".$$$\", corpus_fr)\n",
    "corpus_fr = re.sub(r\".\\$\\$\\$\", '', corpus_fr)\n",
    "corpus_fr = re.sub(r\"  +\", \" \", corpus_fr)\n",
    "corpus_fr = corpus_fr.split('\\n')"
   ]
  },
  {
   "cell_type": "markdown",
   "metadata": {
    "id": "tRADLSal-963"
   },
   "source": [
    "### Tokenizing Text"
   ]
  },
  {
   "cell_type": "markdown",
   "metadata": {},
   "source": [
    "Use Tensorflow-datasets' `SubWordEncoder` to create a tokenizer from the corpus. Tokenizing is a type of preprocessing that decomposes parts of a given text into basic units. It encodes the units of text into a numerical representation which can be used for computation. The tokenizer will produce a vocabulary size of *$2^{13}$* or `8,192 tokens`."
   ]
  },
  {
   "cell_type": "code",
   "execution_count": 10,
   "metadata": {
    "executionInfo": {
     "elapsed": 565534,
     "status": "ok",
     "timestamp": 1605122495226,
     "user": {
      "displayName": "Alvaro Henriquez",
      "photoUrl": "",
      "userId": "02782214734520853933"
     },
     "user_tz": 300
    },
    "id": "_wlMqYm4_BkN"
   },
   "outputs": [],
   "source": [
    "# Tokenizer for English\n",
    "tokenizer_en = tfds.deprecated.text.SubwordTextEncoder.build_from_corpus(\n",
    "    corpus_en, target_vocab_size=2**13)\n",
    "\n",
    "# Tokenizer for French\n",
    "tokenizer_fr = tfds.deprecated.text.SubwordTextEncoder.build_from_corpus(\n",
    "    corpus_fr, target_vocab_size=2**13)"
   ]
  },
  {
   "cell_type": "markdown",
   "metadata": {},
   "source": [
    "### The vocabulary size will be used to build the `start` and `end` tokens"
   ]
  },
  {
   "cell_type": "markdown",
   "metadata": {},
   "source": [
    "`Start-of-sentence` and `end-of-sentence` tokens signal to the algorithm when a sentence starts and ends. Here the size of the vocabulary is used to created them. "
   ]
  },
  {
   "cell_type": "code",
   "execution_count": 11,
   "metadata": {
    "executionInfo": {
     "elapsed": 816,
     "status": "ok",
     "timestamp": 1605123333878,
     "user": {
      "displayName": "Alvaro Henriquez",
      "photoUrl": "",
      "userId": "02782214734520853933"
     },
     "user_tz": 300
    },
    "id": "y0V816DV_RYY"
   },
   "outputs": [],
   "source": [
    "# Begin with the vocab_size + 2 as the base for the sos and eos tokens\n",
    "VOCAB_SIZE_EN = tokenizer_en.vocab_size + 2 # = 8190\n",
    "VOCAB_SIZE_FR = tokenizer_fr.vocab_size + 2 # = 8171"
   ]
  },
  {
   "cell_type": "code",
   "execution_count": 12,
   "metadata": {
    "executionInfo": {
     "elapsed": 227337,
     "status": "ok",
     "timestamp": 1605123562745,
     "user": {
      "displayName": "Alvaro Henriquez",
      "photoUrl": "",
      "userId": "02782214734520853933"
     },
     "user_tz": 300
    },
    "id": "rSYzhGZc_Tk9"
   },
   "outputs": [],
   "source": [
    "# Create the inputs and outputs by iterrating over the corpus and adding the tokens to each sentence\n",
    "inputs = [[VOCAB_SIZE_EN-2] + tokenizer_en.encode(sentence) + [VOCAB_SIZE_EN-1]\n",
    "          for sentence in corpus_en]\n",
    "\n",
    "outputs = [[VOCAB_SIZE_FR-2] + tokenizer_fr.encode(sentence) + [VOCAB_SIZE_FR-1]\n",
    "           for sentence in corpus_fr]"
   ]
  },
  {
   "cell_type": "markdown",
   "metadata": {
    "id": "2nNbOO_6_ZHI"
   },
   "source": [
    "### Remove very long sentences"
   ]
  },
  {
   "cell_type": "markdown",
   "metadata": {},
   "source": [
    "We will limit the length of the sentences to some maximum. This will help to speed up computation. To do so, iterate over the input and output lists using `Python's enumerate() function` in order to filter and capture the indexes of long sentences. We then use the indexes to delete the long sentences."
   ]
  },
  {
   "cell_type": "code",
   "execution_count": 13,
   "metadata": {
    "executionInfo": {
     "elapsed": 399971,
     "status": "ok",
     "timestamp": 1605123971632,
     "user": {
      "displayName": "Alvaro Henriquez",
      "photoUrl": "",
      "userId": "02782214734520853933"
     },
     "user_tz": 300
    },
    "id": "eWTnuxul_f2I"
   },
   "outputs": [],
   "source": [
    "MAX_LENGTH = 40\n",
    "# Use enumerate to capture indexes\n",
    "idx_to_remove = [count for count, sent in enumerate(inputs)\n",
    "                 if len(sent) > MAX_LENGTH]\n",
    "\n",
    "# Remove long sentences by index\n",
    "for idx in reversed(idx_to_remove):\n",
    "    del inputs[idx]\n",
    "    del outputs[idx]\n",
    "\n",
    "# Rinse and repeate!    \n",
    "idx_to_remove = [count for count, sent in enumerate(outputs)\n",
    "                 if len(sent) > MAX_LENGTH]\n",
    "\n",
    "for idx in reversed(idx_to_remove):\n",
    "    del inputs[idx]\n",
    "    del outputs[idx]"
   ]
  },
  {
   "cell_type": "markdown",
   "metadata": {
    "id": "BVZj1yLm_pCt"
   },
   "source": [
    "### Input / Output creation"
   ]
  },
  {
   "cell_type": "markdown",
   "metadata": {
    "id": "TFLtUUmI_4cc"
   },
   "source": [
    "As we train with batches, we need each input to have the same length. We pad with the appropriate token, and we will make sure this padding token doesn't interfere with our training later. `Keras' pad_sequences() method` is perfect for this. We add zeros to the end as needed where sentences are less than `MAX_LENGTH`. Recall that the `end-of-sentence` tokens will signal the true end of the sentences."
   ]
  },
  {
   "cell_type": "code",
   "execution_count": 14,
   "metadata": {
    "executionInfo": {
     "elapsed": 14019,
     "status": "ok",
     "timestamp": 1605124526757,
     "user": {
      "displayName": "Alvaro Henriquez",
      "photoUrl": "",
      "userId": "02782214734520853933"
     },
     "user_tz": 300
    },
    "id": "j2RAcIcm_siD"
   },
   "outputs": [],
   "source": [
    "inputs = tf.keras.preprocessing.sequence.pad_sequences(inputs,\n",
    "                                                       value=0,\n",
    "                                                       padding='post',\n",
    "                                                       maxlen=MAX_LENGTH)\n",
    "\n",
    "outputs = tf.keras.preprocessing.sequence.pad_sequences(outputs,\n",
    "                                                        value=0,\n",
    "                                                        padding='post',\n",
    "                                                        maxlen=MAX_LENGTH)"
   ]
  },
  {
   "cell_type": "markdown",
   "metadata": {},
   "source": [
    "### Create the datasets"
   ]
  },
  {
   "cell_type": "markdown",
   "metadata": {},
   "source": [
    "Passing our data into `Dataset.from_tensor_slices()` converts the data to tensorflow tensors. We pass both the English and French lists, which are sliced into tensors. "
   ]
  },
  {
   "cell_type": "markdown",
   "metadata": {},
   "source": [
    "We define the `BATCH_SIZE` and the `BUFFER_SIZE`. Care must be taken when choosing the batch size. If it's too large you will quickly exhaust GPU memory and get the dreaded `OOM` error. 64 seems to work fine on `Google Colab` and `Kaggle` but not on `Paperspace Gradient`, or my `ASUS ZenBook`"
   ]
  },
  {
   "cell_type": "markdown",
   "metadata": {},
   "source": [
    "Care must also be taken when choosing the size of the shuffle buffer. According to the `Tensorflow` documentation - \"*For perfect shuffling, a buffer size greater than or equal to the full size of the dataset is required*.\""
   ]
  },
  {
   "cell_type": "code",
   "execution_count": 15,
   "metadata": {
    "executionInfo": {
     "elapsed": 5121,
     "status": "ok",
     "timestamp": 1605124536091,
     "user": {
      "displayName": "Alvaro Henriquez",
      "photoUrl": "",
      "userId": "02782214734520853933"
     },
     "user_tz": 300
    },
    "id": "snu8JluxABcV"
   },
   "outputs": [],
   "source": [
    "BATCH_SIZE = 64\n",
    "BUFFER_SIZE = 20000\n",
    "\n",
    "dataset = tf.data.Dataset.from_tensor_slices((inputs, outputs))\n",
    "\n",
    "dataset = dataset.cache()\n",
    "dataset = dataset.shuffle(BUFFER_SIZE).batch(BATCH_SIZE)\n",
    "dataset = dataset.prefetch(tf.data.experimental.AUTOTUNE)"
   ]
  },
  {
   "cell_type": "markdown",
   "metadata": {
    "id": "uzT2MXrdAGQm"
   },
   "source": [
    "## Model Building"
   ]
  },
  {
   "cell_type": "markdown",
   "metadata": {},
   "source": [
    "#### Model Composition\n",
    "The model is made op of the following basic components:\n",
    "* Positional Encoders\n",
    "* Self-Attention Layers\n",
    "* Point-wise Feed Forward Networks layers\n",
    "\n",
    "With these componants we create th multi-layer encoder and decoder. Everything is expalined in the sections to follow.\n",
    "\n",
    "Below is the image illustrating the `transformer architecture`. It shows the parts that together constitute the model. There is a mulit-layer encoder. The output of the encoder is passed to the decoder. And the output of the decoder is the model output.\n",
    "\n",
    "Note the embedding and positional encoding prior to the encoder and decoder inputs. While not technically part of the model, these steps are necessary. Also note the linear transformation an softmax function that is performed on the decoder outputs.\n",
    "\n",
    "Continue to read and these will all be explained.\n",
    "\n",
    "<img src='img/transformer-arch.png' width='500'>\n",
    "<div align=\"center\" >Image from http://jalammar.github.io/illustrated-transformer/</div>\n"
   ]
  },
  {
   "cell_type": "markdown",
   "metadata": {
    "id": "NpP2OQMuAVdj"
   },
   "source": [
    "### Positional Encoding"
   ]
  },
  {
   "cell_type": "markdown",
   "metadata": {},
   "source": [
    "Unlike sequential algorithms like `RNN`s and `LSTM`, transformers don't have a mechanism buit in to capture the relative positions of words in a sentence. This is important because the distance between words provides crucial contextual information. This is where positional encoding steps in.\n",
    "\n",
    "Positional encoding is not part of the architecture of the model. It is actually part of the preprocessing. The positional encoding vector is generated to be the same size as the embedding vector for the each word. After calculation, the positional encoding vector is added to the embedding vector. The pattern that is 'injected' into the embedding vector allows the algorithm to learn this spacial information.\n",
    "\n",
    "So how does it work? \n",
    "\n",
    "Notice in the formula shown below that PE is a function of the position of the word in the sequence ($pos$), and the embedding ($i$).  First, an angle is calculated using the formula $pos\\,/\\,10000^{2i\\,/\\,dmodel}$. Then, either take the sine or cosine of the angle. That gives the value for the word at position $pos$ and embedding index $i$. $pos$ holds constant for the word as the embedding index, $i$ increases, giving a unique pattern for that word. \n",
    "\n",
    "Upon going to the next word $pos$ increments. This shifts the pattern to the right slightly. The $PE$ formula applies the sine function for even embedding indexes ($i$) and the cosine function for odd embedding indexes. That is why you see an interleving pattern (chekerboard) in the figure below.\n",
    "\n",
    "So why this formula. The authors of the [paper](https://arxiv.org/abs/1706.03762) explain it this way:\n",
    "\n",
    "> We chose this function because we hypothesized it would allow the model to easily learn to attend by relative positions, since for any fixed offset $k$, $PE_{pos+k}$ can be represented as a linear function of $PE_{pos}$.\n",
    "\n",
    "Mathematical explaination from the below mentioned [Reddit](https://www.reddit.com/r/MachineLearning/comments/6jdi87/r_question_about_positional_encodings_used_in/) post.\n",
    "> If k is fixed, than sin(k/a) and cos(k/a) are constant and PE_{pos+k} is some matrix which depends on k times PE_pos.\n",
    "\n",
    "> $\\begin{align}\n",
    "PE_{pos+k,2i} &= sin\\left(\\frac{pos}{a} + \\frac{k}{a}\\right)\\\\\n",
    "              &= cos\\left(\\frac{pos}{a}\\right)sin\\left(\\frac{k}{a}\\right) + sin\\left(\\frac{pos}{a}\\right)cos\\left(\\frac{k}{a}\\right)\\\\\n",
    "              &= (PE_{pos,2i+1})\\, u + (PE_{pos,2i})\\, v \\\\\n",
    "              &= (PE_{pos,2i}, PE_{pos,2i+1})\\, (v, u)\\\\\n",
    "\\end{align}$\n",
    "\n",
    "Here is another great explaination given be Steven Smit in his [blog](https://stevensmit.me/taking-a-look-at-transformer-architecture/):\n",
    "\n",
    "> One of the reasons for using sine and cosine functions is that they are periodic and so whether the model is learning on a sequence of length 5, or of length 500, the encodings will always have the same range ([-1, 1]).\n",
    "\n",
    "> Another, perhaps more important reason, is that they allow the model to “learn to attend by relative positions”. This follows because “for any fixed offset $k$, $PE_{pos+k}$ can be represented as a linear function of $PE_{pos$}$.” If you want a derivation of this property, look no further than this comment on [Reddit](https://www.reddit.com/r/MachineLearning/comments/6jdi87/r_question_about_positional_encodings_used_in/).\n",
    "\n",
    "> This means the model is provided with information to learn the relative proximity between words in the sequence, for any proximity (“fixed k”).\n",
    "\n",
    "Note that the residual connections within the transformer help to reinforced the positional encoding layer to layer. \n"
   ]
  },
  {
   "cell_type": "markdown",
   "metadata": {
    "id": "vJFGGgJrAcOv"
   },
   "source": [
    "Positional encoding formula:\n",
    "\n",
    "$PE_{(pos,2i)} =\\sin(pos/10000^{2i/dmodel})$\n",
    "\n",
    "$PE_{(pos,2i+1)} =\\cos(pos/10000^{2i/dmodel})$"
   ]
  },
  {
   "cell_type": "code",
   "execution_count": 16,
   "metadata": {
    "executionInfo": {
     "elapsed": 819,
     "status": "ok",
     "timestamp": 1605124557268,
     "user": {
      "displayName": "Alvaro Henriquez",
      "photoUrl": "",
      "userId": "02782214734520853933"
     },
     "user_tz": 300
    },
    "id": "mhnFhTtJAPCz"
   },
   "outputs": [],
   "source": [
    "class PositionalEncoding(layers.Layer):\n",
    "\n",
    "    def __init__(self):\n",
    "        super(PositionalEncoding, self).__init__()\n",
    "    \n",
    "    def get_angles(self, pos, i, d_model):\n",
    "        '''\n",
    "        pos     - (seq_length, 1) matrix\n",
    "        i       - (1, d_model) matrix\n",
    "        d_model - the size of the embedding vectors\n",
    "        '''\n",
    "        angles = 1 / np.power(10000., (2*(i//2)) / np.float32(d_model))\n",
    "        return pos * angles\n",
    "\n",
    "    def call(self, inputs):\n",
    "        ''' \n",
    "        inputs - the word embeddings - (batch_size, seq_length, d_model)\n",
    "        '''\n",
    "        seq_length = inputs.shape.as_list()[-2]\n",
    "        d_model = inputs.shape.as_list()[-1]\n",
    "        \n",
    "        angles = self.get_angles(np.arange(seq_length)[:, np.newaxis],\n",
    "                                 np.arange(d_model)[np.newaxis, :],\n",
    "                                 d_model)\n",
    "        \n",
    "        # Interleve the results of sine and cosine funtions along the embedding vectors\n",
    "        angles[:, 0::2] = np.sin(angles[:, 0::2])\n",
    "        angles[:, 1::2] = np.cos(angles[:, 1::2])\n",
    "        \n",
    "        # Add dimension for batch_size\n",
    "        pos_encoding = angles[np.newaxis, ...]\n",
    "        return inputs + tf.cast(pos_encoding, tf.float32)"
   ]
  },
  {
   "cell_type": "code",
   "execution_count": 17,
   "metadata": {
    "executionInfo": {
     "elapsed": 898,
     "status": "ok",
     "timestamp": 1605124562377,
     "user": {
      "displayName": "Alvaro Henriquez",
      "photoUrl": "",
      "userId": "02782214734520853933"
     },
     "user_tz": 300
    },
    "id": "P5eMYpHe3IiP"
   },
   "outputs": [],
   "source": [
    "if os.path.isdir('../img') is False:\n",
    "    os.mkdir('../img')"
   ]
  },
  {
   "cell_type": "code",
   "execution_count": 18,
   "metadata": {
    "colab": {
     "base_uri": "https://localhost:8080/",
     "height": 283
    },
    "executionInfo": {
     "elapsed": 3282,
     "status": "ok",
     "timestamp": 1605124577126,
     "user": {
      "displayName": "Alvaro Henriquez",
      "photoUrl": "",
      "userId": "02782214734520853933"
     },
     "user_tz": 300
    },
    "id": "PFy9GFgndCth",
    "outputId": "6ffb50f9-eb04-42f5-9bbd-172ee5879c71"
   },
   "outputs": [
    {
     "data": {
      "image/png": "[encoded data removed]",
      "text/plain": [
       "<Figure size 432x288 with 2 Axes>"
      ]
     },
     "metadata": {
      "needs_background": "light",
      "tags": []
     },
     "output_type": "display_data"
    }
   ],
   "source": [
    "pos_encoding = PositionalEncoding().call(tf.zeros([1, 40, 128], tf.float32))\n",
    "\n",
    "plt.pcolormesh(pos_encoding[0], cmap='RdBu')\n",
    "plt.xlabel('Depth')\n",
    "plt.xlim((0, 128))\n",
    "plt.ylabel('Position')\n",
    "plt.colorbar()\n",
    "plt.savefig('../img/pos_enc.png')\n",
    "plt.show()"
   ]
  },
  {
   "cell_type": "markdown",
   "metadata": {
    "id": "ox6N8z38A1o6"
   },
   "source": [
    "### Self-Attention\n",
    "This is the special sauce in the transformer! It solves the problems of parallelization and loss of contextual information for words that are distant from each other within a sequence. These were issues with seq2seq models such as `RNN`s and `LSTM`s.\n",
    "\n",
    "The main cause of these issues within those models is that they needed to process each word in a sequence one by one. This meant that they took longer to train. What if we could process all of the words in parallel?\n",
    "\n",
    "The other issue is the way that context and structure is derived. Those models start by passing the first word (token) to an encoder and calculating a new `state` with a random starting state. Then in the next time step use the next word and the previous state to create a new state. This process is repeated until all words are exhausted at which point a fixed length context vector is generated. The context vector is then passed to the decoder for output generation.\n",
    "\n",
    "The problem is that by the time the final context vector is computed, contextual information about the earlier states can be loss because the earlier computations do not have access to the later words. In addition the fixed sized context vector may not be large enough to retain all of the information.\n",
    "\n",
    "So how does the transformer solve these problems?\n",
    "\n",
    "The transformer's encoders and decoders consume the entire sequence and process all words (embedding) in parallel. Because of this parallelization, training time is reduced. Second, this parallel processing means that the context can be computed from all the words together, resulting in a more complete context.\n",
    "\n",
    "##### Linear Transformation\n",
    "The first thing that happens when a sequence of embeddings is passed to the transformer's inputs (encoder and decoder) is that each embedding experiences three separate linear transformations resulting in three vectors - `query`, `key`, and `value`. These transformations occur when the input vectors (embedding) are multiplied by 3 weight matrices. The proper weights are learned through training. The image below represents a vector of seq_length 2 and embedding size of 4.\n",
    "\n",
    "Why three linear transformations?\n",
    "\n",
    "Since each `weight matrix` is initialized with random weights, the resultant vectors each learn some different information about the embedding (word) being processed. This is important when calculating the attention score since we don't want to just derive the dot product of the vector with itself. \n",
    "\n",
    "<img src='img/self-attention-matrix-calculation.png' width='250'>\n",
    "<div align=\"center\" style=\"font-weight:bold\">Fig 2: Linear Transformation</div>\n",
    "<div align=\"center\" >Image from http://jalammar.github.io/illustrated-transformer/</div>\n",
    "\n",
    "Now that we have these 3 vectors for each embedding in the sequence we can calculate the `attention score`. The attention score measure the strength of the relationship between a word in the sequence with all the other words. \n",
    "\n",
    "#### Calculate the self-attention:\n",
    "1. Take the query vector for a word and calculate it's `dot product` with the transpose of the `key vector` of each word in the sequence - including itself. This is the `attention score` or `attention weight`. \n",
    "2. Then divide each of the results by the square root of the dimension of the key vector. This is the `scaled attention score`. \n",
    "3. Pass the them through a `softmax` function, so that values are contained between 0 and 1.\n",
    "4. Take each of the `value vectors` and calculate the `dot product` with the output of the `sofmax` function. \n",
    "5. Add all the `wighted value vectors` together. \n",
    "\n",
    "Notice in the figure below that we are doing matrix operations on `seq_length x embedding_size` matrices. This shows a toy example of two word with embedding size of 3. \n",
    "\n",
    "<div align=\"center\" style=\"font-weight:bold\">Attention calculation </div>\n",
    "\n",
    "<img src='img/self-attention-matrix-calculation-2.png' width='500'>\n",
    "<div align=\"center\" style=\"font-weight:bold\">Fig 3: Attention</div>\n",
    "<div align=\"center\" >Image from http://jalammar.github.io/illustrated-transformer/</div>\n",
    "\n",
    "The `dot product` results in a `seq_length x seq_length` matrix. Think `correlation matrix` where the relationships between any two members can be found by their intersections. In this case the members are words and their intersections are `attention scores`.\n",
    "\n",
    "Multiplying the `value matrix` `attention matrix` results once again in a `seq_length x embedding_size` matrix. This matrix holds the `contextual information` for each embedding.\n",
    "\n",
    "#### Multi-Head Self-Attention\n",
    "\n",
    "What I described above is `single-head self-attention`. In practice we use `multi-head self-attention`. With `multi-head self-attention`, each word is processed by several attention heads. In the original paper they used eight, which is what I use here.\n",
    "\n",
    "<img src='img/attention-arch.png' width='250'>\n",
    "<div align=\"center\" style=\"font-weight:bold\">Fig 4: Mutli-Head attention</div>\n",
    "<div align=\"center\" >Image from https://arxiv.org/pdf/1706.03762.pdf</div>\n",
    "\n",
    "For `multi-head self-attention`, the `query`, `key`, and `value` vectors are divided by the number of heads, and each segment is passed through a different head. This results in eight vectors which are then concatenated together and transformed by multiplying with another weight matrix so that the resultant vector is the size of the input embedding vector.\n",
    "\n",
    "<img src='img/transformer_attention_heads_weight_matrix_o.png' width='500'>\n",
    "<div align=\"center\" style=\"font-weight:bold\">Fig 5: Concatanation of attention vectors</div>\n",
    "<div align=\"center\" >Image from http://jalammar.github.io/illustrated-transformer/</div>\n",
    "\n",
    "From the [paper](https://arxiv.org/pdf/1706.03762.pdf):\n",
    "\n",
    "> Multi-head attention allows the model to jointly attend to information from different representation\n",
    "subspaces at different positions. With a single attention head, averaging inhibits this.\n",
    "\n",
    "> $\\begin{align}\n",
    "MultiHead(Q, K, V ) &= Concat(head1, ..., headh)W^O\\\\\n",
    "where, head_i &= Attention(QW^Q_i, KW^K_i, VW^V_i)\n",
    "\\end{align}$\n",
    "\n",
    "> In this work we employ h = 8 parallel attention layers, or heads. For each of these we use\n",
    "$d_k = d_v =\\, ^{d_{model}}/_h = 64$. Due to the reduced dimension of each head, the total computational cost\n",
    "is similar to that of single-head attention with full dimensionality\n",
    "\n",
    "#### Attention Masks\n",
    "\n",
    "Prior to the `softmax` function we need to apply a mask to the `attention score`. The mask will be either a `padding mask` or a combination of the `padding mask` and a `look-ahead mask`.\n",
    "\n",
    "##### Padding Mask\n",
    "\n",
    "The sequences that are the input to the `encoder` and the `decoder` must be of the same length. Because sentences are of varying length, one must either truncate the sentence, or pad the sentence so that they are all of a specified length. As a result, the padding might be interpreted as meaningful by the `attention` mechanism l eading to \n",
    "unreliable learning.\n",
    "\n",
    "To mitigate this effect a `padding mask` is applied so that when added to the `attention score` the values in the padded positions become so small as to be ignored. This is acheived by setting the positions in the mask to a value close to `negative infinity`.\n",
    "\n",
    "##### Look-Ahead Mask\n",
    "\n",
    "Transformers are `autoregressive models`. They look at at all of previous input in a sequence in order to predict the next output (`token`). But because, unlike `RNN`s, they recieve the entire sequence at once there needs to be a way to limit attention for any position so that only the portion of the sequence that comes before it is attended to. This is because it is desired that the model infer the next position without having a peak. If it were able to look at the next position, then it would just copy it.\n",
    "\n",
    "That's what the `look-ahead mask` accomplishes. All of the `attention scores` for words that occur to the right of a `query` word in the sequence are masked. This limits the `query` word to attend to itself and all words to the left in the sequence.\n",
    "\n",
    "The `look-ahead mask` is only applied to the decoder. More on that later.\n",
    "\n",
    "**How does it works?**\n",
    "\n",
    "1. Create a mask where the values for the upper right triangle above the diagnal are all ones and the rest zeros.\n",
    "2. Multiply the mask by $-1e9$.\n",
    "3. Add the mask to the `attention matrix`.\n",
    "\n",
    "<img src='img/Look-ahead-mask.png' width='1000'>\n",
    "\n",
    "<div align=\"center\" style=\"font-weight:bold\">Fig 6: Look-Ahead Mask implementation</div>\n",
    "\n",
    "After applying `softmax` to the `attention matrix`, all of those extremely small values will become zero. So how does that matter?\n",
    "\n",
    "In the toy `attention matrix` in the figure, I've labeled both axises $T_1,...,T_n$. The columns represent the token (word) `keys` and the rows are the token `queries`. We query for attention along the rows. The attention score for any query $T_i$, are the values in it's row with respect to the `key` columns $[T_1,...,T_n]$. Notice that the top most `query`, $T_1$ can only get the score for the left most `key` $T_1$. There is no meaningful imformation for $T_2 - T_5$  (values too low). The `query` $T_2$ has access to the set of `key`s $(T_2$, $T_1)$. And so on, until $T_5$, the last word, which has access to the entire sequence.\n",
    "\n",
    "There is one more thing. The attention mask is not applied alone. Remember that there is also padding to account for. Therefore, the `look-ahead mask` is applied along with the `padding mask`."
   ]
  },
  {
   "cell_type": "markdown",
   "metadata": {
    "id": "cVcKOK5OA5LA"
   },
   "source": [
    "#### Attention computation"
   ]
  },
  {
   "cell_type": "markdown",
   "metadata": {
    "id": "8Ag4g6KfBFBz"
   },
   "source": [
    "This is the attention formula.\n",
    "\n",
    "$Attention(Q, K, V ) = \\text{softmax}\\left(\\dfrac{QK^T}{\\sqrt{d_k}}\\right)V $\n",
    "\n",
    "**Attention with mask**\n",
    "\n",
    "And this is what it looks like when applying the mask.\n",
    "\n",
    "$Attention(Q, K, V, M ) = \\text{softmax}\\left(\\dfrac{QK^T}{\\sqrt{d_k}}+M\\right)V $\n",
    "\n",
    "<img src='img/attention-dot-product.png' width='250'>\n",
    "<div align=\"center\" style=\"font-weight:bold\">Fig 7: Attention Dot Product</div>\n",
    "<div align=\"center\" >Image from https://arxiv.org/pdf/1706.03762.pdf</div>\n"
   ]
  },
  {
   "cell_type": "code",
   "execution_count": 19,
   "metadata": {
    "executionInfo": {
     "elapsed": 697,
     "status": "ok",
     "timestamp": 1605124598329,
     "user": {
      "displayName": "Alvaro Henriquez",
      "photoUrl": "",
      "userId": "02782214734520853933"
     },
     "user_tz": 300
    },
    "id": "pOl6_WF2A3WG"
   },
   "outputs": [],
   "source": [
    "#\n",
    "# Calculate attention\n",
    "#\n",
    "def scaled_dot_product_attention(queries, keys, values, mask):\n",
    "    '''\n",
    "    Takes three vectors and mask\n",
    "    Returns the attention and attention weights\n",
    "    '''    \n",
    "    # The steps describe above under 'Calculate the Attention' \n",
    "    # Step 1 \n",
    "    product = tf.matmul(queries, keys, transpose_b=True)\n",
    "    \n",
    "    # Step 2\n",
    "    keys_dim = tf.cast(tf.shape(keys)[-1], tf.float32)\n",
    "    scaled_product = product / tf.math.sqrt(keys_dim)\n",
    "    \n",
    "    if mask is not None:\n",
    "        scaled_product += (mask * -1e9)\n",
    "    \n",
    "    # step 4\n",
    "    attention_weights =tf.nn.softmax(scaled_product, axis=-1)\n",
    "    \n",
    "    # Step 5\n",
    "    attention = tf.matmul(attention_weights, values)\n",
    "    \n",
    "    return attention, attention_weights"
   ]
  },
  {
   "cell_type": "markdown",
   "metadata": {
    "id": "L2SvfuWLBWM7"
   },
   "source": [
    "#### Multi-head attention sublayer"
   ]
  },
  {
   "cell_type": "markdown",
   "metadata": {},
   "source": [
    "This is where everything discussed previously gets implemented. Here is a summary of what it does.\n",
    "\n",
    "1. Instantiates 4 `dense layers`\n",
    "2. Passes the input through 3 dense layer, creating 3 `linear transformations` resulting in the `query`, `key`, and `value` vectors.\n",
    "3. Split each vector by number of heads.\n",
    "4. Pass the vectors to the `scaled_dot_product_attention()` function and calculate the attentions per head\n",
    "5. Concatenate the attention resulting from each head.\n",
    "6. Pass result through a final dense layer which reshapes the `attention vector` back to (batch_size, seq_length, d_model)\n",
    "7. Return the `attention vector` and the `attention weights`\n",
    "\n",
    "\n",
    "The `MultiHeadAttention` class accepts the `number of heads` as an argument when an object is instantiated. \n",
    "The call method accepts three tensors with dimension of (batch_size, seq_length, d_model) as input. In each encoder layer this is the same tensor. In the decoder where a layer contains two attention layers, for the first attention layer it's the same tensor.  For the second `attention layer` the `key` and `value` tensors are the output of the encoder, and the `query` tensor is the output of the first `attention layer` of the decoder."
   ]
  },
  {
   "cell_type": "code",
   "execution_count": 20,
   "metadata": {
    "executionInfo": {
     "elapsed": 884,
     "status": "ok",
     "timestamp": 1605124601999,
     "user": {
      "displayName": "Alvaro Henriquez",
      "photoUrl": "",
      "userId": "02782214734520853933"
     },
     "user_tz": 300
    },
    "id": "2otZB4ibBW1O"
   },
   "outputs": [],
   "source": [
    "class MultiHeadAttention(layers.Layer):\n",
    "    \n",
    "    # nb_proj is the number of heads\n",
    "    def __init__(self, nb_proj):\n",
    "        super(MultiHeadAttention, self).__init__()\n",
    "        self.nb_proj = nb_proj\n",
    "        \n",
    "    def build(self, input_shape):This \n",
    "        self.d_model = input_shape[-1]\n",
    "        assert self.d_model % self.nb_proj == 0\n",
    "        \n",
    "        # Calculate the head dimensions.\n",
    "        self.d_proj = self.d_model // self.nb_proj\n",
    "        \n",
    "        # These layers contain the weights for the linear transformations\n",
    "        self.query_lin = layers.Dense(units=self.d_model)\n",
    "        self.key_lin = layers.Dense(units=self.d_model)\n",
    "        self.value_lin = layers.Dense(units=self.d_model)\n",
    "        \n",
    "        # Used to transform after concatenating the weighted value vectors\n",
    "        self.final_lin = layers.Dense(units=self.d_model)\n",
    "    \n",
    "    # This method splits the query, key, and value vectors by the number of heads\n",
    "    def split_proj(self, inputs, batch_size): # inputs: (batch_size, seq_length, d_model)\n",
    "        shape = (batch_size,\n",
    "                 -1,\n",
    "                 self.nb_proj,\n",
    "                 self.d_proj)\n",
    "        \n",
    "        # Reshape the tensor to account for the multiple heads and reduced vector dimension\n",
    "        splited_inputs = tf.reshape(inputs, shape=shape) # (batch_size, seq_length, nb_proj, d_proj)\n",
    "        \n",
    "        # Reconfigure the axeses.\n",
    "        return tf.transpose(splited_inputs, perm=[0, 2, 1, 3]) # (batch_size, nb_proj, seq_length, d_proj)\n",
    "    \n",
    "    def call(self, queries, keys, values, mask):\n",
    "        '''\n",
    "        If this is the first attention layer of the encoder, then all vector inputs are the same vector.\n",
    "        For later layers, this is the output of the previous layer.\n",
    "        For the decoder, keys and values are the output of the encoder. \n",
    "            The queries is the inferred words up to this time step.        \n",
    "        '''\n",
    "        batch_size = tf.shape(queries)[0]\n",
    "        \n",
    "        # Initialize the weight matrices\n",
    "        queries = self.query_lin(queries)\n",
    "        keys = self.key_lin(keys)\n",
    "        values = self.value_lin(values)\n",
    "        \n",
    "        # Split the vectors by number of heads\n",
    "        queries = self.split_proj(queries, batch_size)\n",
    "        keys = self.split_proj(keys, batch_size)\n",
    "        values = self.split_proj(values, batch_size)\n",
    "        \n",
    "        # Get attention and weights\n",
    "        attention, attention_weights = scaled_dot_product_attention(queries,\n",
    "                                                                    keys,\n",
    "                                                                    values,\n",
    "                                                                    mask)\n",
    "        # Flip dims 1 and 2       \n",
    "        attention = tf.transpose(attention, perm=[0, 2, 1, 3])\n",
    "        \n",
    "        # Concat all the attention vectors\n",
    "        concat_attention = tf.reshape(attention,\n",
    "                                      shape=(batch_size, -1, self.d_model))\n",
    "        \n",
    "        # Transform the concated vectors to reshape back to (batch_size, seq_length, d_model)\n",
    "        outputs = self.final_lin(concat_attention)\n",
    "        \n",
    "        return outputs, attention_weights"
   ]
  },
  {
   "cell_type": "markdown",
   "metadata": {
    "id": "pvrv4FkiBkzD"
   },
   "source": [
    "### Encoder"
   ]
  },
  {
   "cell_type": "markdown",
   "metadata": {},
   "source": [
    "Having understood all that we have covered so far, we should be in good shape to understand what follows.\n",
    "\n",
    "The `encoder` is made up of one or more `encoder layers`. Each `encoder layer` is made up of two sub-layers. The first the `attention layer`, followed by the `point-wise feed forward layer`. The ouput of an `encoder layer` is the input to the next.\n",
    "\n",
    "<img src='img/encoder-2.png' width='450'>\n",
    "<div align=\"center\" style=\"font-weight:bold\">Fig 8: Encoder Architecture</div>\n",
    "<div align=\"center\" >Image from https://arxiv.org/pdf/1706.03762.pdf</div>\n",
    "\n",
    "\n",
    "The role of the encoding layer is to process the input and encode the `contextual` and `structural` information of the sequence. It accounts for how one word relates to another within the sequence and the strength of that relationship. This contextual information is processed at each layer, with the ouput of one being the input of the next. Because of this, it is necessary to assure that the input and output matrices are of the same shape. The final ouput then is passed as the input to the `decoder`.\n",
    "\n",
    "Regarding the `attention layers` in the encoder, this is what the paper says.\n",
    "\n",
    "> The encoder contains self-attention layers. In a self-attention layer all of the keys, values\n",
    "and queries come from the same place, in this case, the output of the previous layer in the\n",
    "encoder. Each position in the encoder can attend to all positions in the previous layer of the\n",
    "encoder"
   ]
  },
  {
   "cell_type": "markdown",
   "metadata": {},
   "source": [
    "#### EncoderLayer Class\n",
    "\n",
    "The three main components of `EncoderLayer Class` are the implementation of the `multi-head attention` sub-layer, followed by a `normalization` sub-layer, a `point-wise feed forward layer`, and another `normalization` sub-layer. It also includes the residual connection that sums the `attention layer's` input with its output before normalization. \n",
    "\n",
    "The same occurs in the `FNN` where the normalized output of the `attention layer` (the input to the FNN) is added to the output of the `FNN` before normalization. The normalized output of the `FNN` is the input to the next `encoder layer`, or in the case of the last layer, the input to the decoder.\n",
    "\n",
    "To be clear, the `point-wise feed forward layer` consists of two `dense layers` with a `relu activation function` in between them.\n",
    "\n",
    "The EncoderLayer take as arguments on object instantiation the number of nodes for the `dense layers`, the number of heads for the `attention layer`, and the dropout rate.\n",
    "\n",
    "Also note that to calculate attention in the encoder only a `padding mask` is used.\n",
    "\n",
    "A summary of what this layer is doing follows.\n",
    "\n",
    "1. Creates the `attention layer` by instantiating a `multi-head attention` object, a `dropout` object, and the `normalization` object.\n",
    "2. Creates the `point-wise feedforward network` layer by instantiating two `dense` objects, a `dropout` object, and the `normalization` object.\n",
    "3. Takes as arguments the input of shape (batch_size, seq_length, d_model), the mask, and a boolean for the dropout.\n",
    "4. Pass the input and mask to the `multi-head attention` object to get the attention calculation\n",
    "5. Pass attention through dropout. \n",
    "6. Add the input to the attention and normalize.\n",
    "7. Pass the `normalized attention` thwough the `FNN`\n",
    "8. Pass through dropout.\n",
    "9. Add at the `normalized attention` to the `normalized output`.\n",
    "10. Return the output with shape (batch_size, seq_length, d_model).\n",
    "\n"
   ]
  },
  {
   "cell_type": "code",
   "execution_count": 21,
   "metadata": {
    "executionInfo": {
     "elapsed": 1011,
     "status": "ok",
     "timestamp": 1605124612752,
     "user": {
      "displayName": "Alvaro Henriquez",
      "photoUrl": "",
      "userId": "02782214734520853933"
     },
     "user_tz": 300
    },
    "id": "pN5n9QJ0Blho"
   },
   "outputs": [],
   "source": [
    "class EncoderLayer(layers.Layer):\n",
    "    \n",
    "    def __init__(self, FFN_units, nb_proj, dropout_rate):        \n",
    "    '''\n",
    "    FFN-units    - # of nodes for the point wise feed forward layer\n",
    "    nb_proj      - # of heads\n",
    "    dropout_rate - The dropout rate for the layers\n",
    "    '''\n",
    "        super(EncoderLayer, self).__init__()\n",
    "        self.FFN_units = FFN_units\n",
    "        self.nb_proj = nb_proj\n",
    "        self.dropout_rate = dropout_rate\n",
    "    \n",
    "    # This is a tensorflow layers method. Automatically called by __call__\n",
    "    # to automatically build the layers.\n",
    "    def build(self, input_shape):\n",
    "        \n",
    "        self.d_model = input_shape[-1]\n",
    "    \n",
    "        # Multi-head attention\n",
    "        self.multi_head_attention = MultiHeadAttention(self.nb_proj)\n",
    "        self.dropout_1 = layers.Dropout(rate=self.dropout_rate)\n",
    "        self.norm_1 = layers.LayerNormalization(epsilon=1e-6)\n",
    "        \n",
    "        # Point wise feed forward\n",
    "        self.dense_1 = layers.Dense(units=self.FFN_units, activation=\"relu\")\n",
    "        self.dense_2 = layers.Dense(units=self.d_model)\n",
    "        self.dropout_2 = layers.Dropout(rate=self.dropout_rate)\n",
    "        self.norm_2 = layers.LayerNormalization(epsilon=1e-6)\n",
    "        \n",
    "    def call(self, inputs, mask, training):\n",
    "        '''\n",
    "        inputs   -> Input tensor of shape (batch_size, seq_length, d_model)\n",
    "        mask     -> Padding mask to ignore padding zeros as data\n",
    "        training -> Boolean - If 1, then use dropout, else not\n",
    "        '''\n",
    "        # Attention sub-layer\n",
    "        # Retain only the attention. Don't need to return weights in this layer.\n",
    "        attention, _ = self.multi_head_attention(inputs,\n",
    "                                                 inputs,\n",
    "                                                 inputs,\n",
    "                                                 mask)\n",
    "        attention = self.dropout_1(attention, training=training)\n",
    "        attention = self.norm_1(attention + inputs)\n",
    "        \n",
    "        # Point-Wise Feed Forward sub-layer\n",
    "        outputs = self.dense_1(attention)\n",
    "        outputs = self.dense_2(outputs)\n",
    "        outputs = self.dropout_2(outputs, training=training)\n",
    "        outputs = self.norm_2(outputs + attention)\n",
    "        \n",
    "        # Returns tensor of shape (batch_size, seq_length, d_model)\n",
    "        return outputs"
   ]
  },
  {
   "cell_type": "markdown",
   "metadata": {},
   "source": [
    "#### Encoder Class"
   ]
  },
  {
   "cell_type": "markdown",
   "metadata": {},
   "source": [
    "The `full encoder` is a `stack of encoding layers`. This class implements the `encoder stack`. In addition to that, it also implements `embedding` and `positional encoding`. The output is the output of the `encoder stack`.\n",
    "\n",
    "Here is a summary of what the encoder is doing.\n",
    "\n",
    "1. Creates an `embedding layer`\n",
    "2. Initializes the `positional encoding` object\n",
    "3. Creates a `dropout layer`\n",
    "4. Creates number of `encoding layers` specified by `nb_layers`\n",
    "5. Takes a (batch_size, seq_length) shape input, an `attention mask`, and a boolean\n",
    "6. Passes the input through the `embedding layer` and produces a tensor of shape (batch_size, seq_length, d_model)\n",
    "7. Creates the `positional encoding vectors`\n",
    "8. Adds the `positional encoding vectors` to the `embedding vectors`\n",
    "9. Passes the resulting input tensor, the mask, and the training boolean to the `encoding layer stack`\n",
    "10. Iterates over the `encoding layer stack`\n",
    "11. Returns an output tensor of shape (batch_size, seq_length, d_model)\n",
    "\n",
    "In the code you will see this sequence:\n",
    "```Python\n",
    "   outputs = self.embedding(inputs)\n",
    "   outputs *= tf.math.sqrt(tf.cast(self.d_model, tf.float32))\n",
    "   outputs = self.pos_encoding(outputs)\n",
    "```\n",
    "The explaination for the multiplication given [here](https://towardsdatascience.com/how-to-code-the-transformer-in-pytorch-24db27c8f9ec)\n",
    "> The reason we increase the embedding values before addition is to make the positional encoding relatively smaller. This means the original meaning in the embedding vector won’t be lost when we add them together."
   ]
  },
  {
   "cell_type": "code",
   "execution_count": 22,
   "metadata": {
    "executionInfo": {
     "elapsed": 763,
     "status": "ok",
     "timestamp": 1605124613737,
     "user": {
      "displayName": "Alvaro Henriquez",
      "photoUrl": "",
      "userId": "02782214734520853933"
     },
     "user_tz": 300
    },
    "id": "hPbsh_Q1BuD4"
   },
   "outputs": [],
   "source": [
    "class Encoder(layers.Layer):\n",
    "    '''\n",
    "    nb_layers    -> Number of encoder layers\n",
    "    FFN_units    -> Number of nodes in the FFN\n",
    "    nb_proj      -> Number of attention heads\n",
    "    dropout_rate -> Droput rate\n",
    "    vocab_size   -> The size of the vocabulary\n",
    "    d_model      -> Size of embedding vectors\n",
    "    name         -> Name of the layer\n",
    "    '''    \n",
    "    def __init__(self,\n",
    "                 nb_layers,\n",
    "                 FFN_units,\n",
    "                 nb_proj,\n",
    "                 dropout_rate,\n",
    "                 vocab_size,\n",
    "                 d_model,\n",
    "                 name=\"encoder\"):\n",
    "        super(Encoder, self).__init__(name=name)\n",
    "        \n",
    "        # Number of encoder layers\n",
    "        self.nb_layers = nb_layers\n",
    "        # Embedding dimension\n",
    "        self.d_model = d_model\n",
    "        \n",
    "        # Initialize embedding, positional encoding, droppout, and encoding layers\n",
    "        self.embedding = layers.Embedding(vocab_size, d_model)\n",
    "        self.pos_encoding = PositionalEncoding()\n",
    "        self.dropout = layers.Dropout(rate=dropout_rate)\n",
    "        self.enc_layers = [EncoderLayer(FFN_units,\n",
    "                                        nb_proj,\n",
    "                                        dropout_rate) \n",
    "                           for _ in range(nb_layers)]\n",
    "    \n",
    "    def call(self, inputs, mask, training):\n",
    "        '''\n",
    "        inputs   -> Tokenized input of shape (batch_size, seq_length)\n",
    "        mask     -> Attention mask\n",
    "        training -> Boolean\n",
    "        '''\n",
    "        outputs = self.embedding(inputs)\n",
    "        outputs *= tf.math.sqrt(tf.cast(self.d_model, tf.float32))\n",
    "        outputs = self.pos_encoding(outputs)\n",
    "        outputs = self.dropout(outputs, training)\n",
    "        \n",
    "        # Forward pass\n",
    "        for i in range(self.nb_layers):\n",
    "            outputs = self.enc_layers[i](outputs, mask, training)\n",
    "\n",
    "        # Returns tensor of shape (batch_size, seq_length, d_model)\n",
    "        return outputs"
   ]
  },
  {
   "cell_type": "markdown",
   "metadata": {
    "id": "Qq9tQ79iBz4d"
   },
   "source": [
    "### Decoder"
   ]
  },
  {
   "cell_type": "markdown",
   "metadata": {},
   "source": [
    "Like the encoder, the `decoder` is a `stack of decoder layers`. Each layer consists of three sub-layers - a `masked multi-head self-attention sub-layer`, a second `multi-head self-attention sub-layer`, and a `point-wise feed forward network sub-layer`. \n",
    "\n",
    "The `masked multi-head self-attention layer` is where the `look-ahead mask` is employed. This is the part of the decoder architecture that differs most from the encoder. The other two sub-layers are almost exactly like those of the encoder.\n",
    "\n",
    "So how does this `masked multi-head self-attention` work exactly? Hold on 'till we get the training section. For now just know that when training the model, the input to this first sub-layer is the target sequence. But for now, here is something from the paper.\n",
    "\n",
    "> Similarly, self-attention layers in the decoder allow each position in the decoder to attend to\n",
    "all positions in the decoder up to and including that position. We need to prevent leftward\n",
    "information flow in the decoder to preserve the auto-regressive property. We implement this\n",
    "inside of scaled dot-product attention by masking out (setting to −∞) all values in the input\n",
    "of the softmax which correspond to illegal connections.\n",
    "\n",
    "The second `attention sub-layer` is known as the `encoder-decoder attention sub-layer`. This is because it receives it's inputs both from the encoder output and from the `masked multi-head self-attention`.\n",
    "\n",
    "From the paper.\n",
    "\n",
    "> In \"encoder-decoder attention\" layers, the queries come from the previous decoder layer,\n",
    "and the memory keys and values come from the output of the encoder. This allows every\n",
    "position in the decoder to attend over all positions in the input sequence. This mimics the\n",
    "typical encoder-decoder attention mechanisms in sequence-to-sequence models such as\n",
    "[38, 2, 9].\n",
    "\n",
    "In the figure you can see that the encoder receives as input it's output. Huh? More on that later. The input goes through embedding an positional encoding and is passed to the `masked multi-head self-attention` sub-layer. The output of this lower attention sub-layer then becomes the input to the `encoder-decoder attention` sub-layer. That then becomes the vector used for calculating the `query vector` at that level. \n",
    "\n",
    "The output from the encoder is passed to the decoder at this level and becomes the vector used to calculate the `key vector` and the `value vector`. From there its just like the encoder.\n",
    "\n",
    "Note that the output of the decoder undergoes a linear transformation which then has `softmax` applied to it. More to come.\n",
    "\n",
    "<img src='img/decoder-arch-2.png' width='450'>\n",
    "<div align=\"center\" style=\"font-weight:bold\">Fig 9: Decoder Architecture</div>\n",
    "<div align=\"center\" >Image from https://arxiv.org/pdf/1706.03762.pdf</div>\n",
    "\n",
    "\n",
    "Also, like the encoder, there exist `residual` connections that connect sub-layer inputs to sub-layer outputs at the `normalization` sub-layers."
   ]
  },
  {
   "cell_type": "markdown",
   "metadata": {},
   "source": [
    "#### DecoderLayer Class\n",
    "As mentioned previously, a decoder layer consists of three stacked sub-layers. The first two are `multi-head self-attention layers`, and the final is an FNN. This class implements the decoder layer. This is the summary of what it does.\n",
    "\n",
    "1. On instantiation it takes the number of nodes for the FNN, the number of heads, and the dropout rate.\n",
    "2. Creates the `masked multi-head self-attention` sub-layer with a `droput layer`, and a `nomaliztion layer`\n",
    "3. Creates the `encoder-decoder multi-head self-attention` sub-layer with a `droput layer`, and a `nomaliztion layer`\n",
    "4. Creates the `point-wise FNN` sub-layer with two dense layers, a `droput layer`, and a `nomaliztion layer`\n",
    "5. It accepts as input a decoder layer output, the encoder output, the `look-ahead mask`, the `padding mask`, and a boolean\n",
    "6. When training the first decoder layer takes the full target sequence as input. For inferencing, it takes the final output of the decoder. It also takes the look-ahead mask.\n",
    "7. Apply dropout to the attention vector\n",
    "8. Add the input to the attention vector\n",
    "9. Normalize\n",
    "10. The output (attention vector) of the first attention layer is passed as the first argument to the second attention layer along with two instances of the encoder output, and the padding mask.\n",
    "11. Apply dropout to the attention vector\n",
    "12. Add the first attention vector to the new attention vector\n",
    "13. Normalize\n",
    "14. Pass the updated attention vector into the FNN\n",
    "15. Apply dropout\n",
    "16. Add the second attention vector to the output\n",
    "17. Normalize\n",
    "18. Return tensor of shape (batch_size, seq_length, d_model)\n"
   ]
  },
  {
   "cell_type": "code",
   "execution_count": null,
   "metadata": {
    "executionInfo": {
     "elapsed": 1002,
     "status": "ok",
     "timestamp": 1605124616058,
     "user": {
      "displayName": "Alvaro Henriquez",
      "photoUrl": "",
      "userId": "02782214734520853933"
     },
     "user_tz": 300
    },
    "id": "ZwVMzyl9B36B"
   },
   "outputs": [],
   "source": [
    "class DecoderLayer(layers.Layer):\n",
    "    '''\n",
    "    FFN-units    -> # of nodes for the point wise feed forward layer\n",
    "    nb_proj      -> # of heads\n",
    "    dropout_rate -> The dropout rate for the layers\n",
    "    '''\n",
    "    def __init__(self, FFN_units, nb_proj, dropout_rate):\n",
    "        super(DecoderLayer, self).__init__()\n",
    "        self.FFN_units = FFN_units\n",
    "        self.nb_proj = nb_proj\n",
    "        self.dropout_rate = dropout_rate\n",
    "    \n",
    "    def build(self, input_shape):\n",
    "        self.d_model = input_shape[-1]\n",
    "        \n",
    "        # Masked Multi-head attention layer\n",
    "        self.multi_head_attention_1 = MultiHeadAttention(self.nb_proj)\n",
    "        self.dropout_1 = layers.Dropout(rate=self.dropout_rate)\n",
    "        self.norm_1 = layers.LayerNormalization(epsilon=1e-6)\n",
    "        \n",
    "        # encoder-decoder Multi-head attention\n",
    "        self.multi_head_attention_2 = MultiHeadAttention(self.nb_proj)\n",
    "        self.dropout_2 = layers.Dropout(rate=self.dropout_rate)\n",
    "        self.norm_2 = layers.LayerNormalization(epsilon=1e-6)\n",
    "        \n",
    "        # Feed foward\n",
    "        self.dense_1 = layers.Dense(units=self.FFN_units,\n",
    "                                    activation=\"relu\")\n",
    "        self.dense_2 = layers.Dense(units=self.d_model)\n",
    "        self.dropout_3 = layers.Dropout(rate=self.dropout_rate)\n",
    "        self.norm_3 = layers.LayerNormalization(epsilon=1e-6)\n",
    "        \n",
    "    def call(self, inputs, enc_outputs, mask_1, mask_2, training):\n",
    "        '''\n",
    "        input       -> Decoder output\n",
    "        enc_outputs -> Encoder output\n",
    "        mask_1      -> Look-ahead mask\n",
    "        mask_2      -> Padding mask\n",
    "        training    -> Boolean for dropout\n",
    "        '''\n",
    "        # Masked Multi-head attention layer \n",
    "        # Return attention, attention weights\n",
    "        attention, attn_wt_1 = self.multi_head_attention_1(inputs,\n",
    "                                                           inputs,\n",
    "                                                           inputs,\n",
    "                                                           mask_1)\n",
    "        attention = self.dropout_1(attention, training)\n",
    "        attention = self.norm_1(attention + inputs)\n",
    "        \n",
    "        # Encoder-Decoder Multi-head attention layer \n",
    "        # Return attention, attention weights\n",
    "        attention_2, attn_wt_2 = self.multi_head_attention_2(attention,\n",
    "                                                             enc_outputs,\n",
    "                                                             enc_outputs,\n",
    "                                                             mask_2)\n",
    "        attention_2 = self.dropout_2(attention_2, training)\n",
    "        attention_2 = self.norm_2(attention_2 + attention)\n",
    "        \n",
    "        # FNN\n",
    "        outputs = self.dense_1(attention_2)\n",
    "        outputs = self.dense_2(outputs)\n",
    "        outputs = self.dropout_3(outputs, training)\n",
    "        outputs = self.norm_3(outputs + attention_2)\n",
    "        \n",
    "        # Return attention vector, attention weights for each attention layer\n",
    "        return outputs, attn_wt_1, attn_wt_2"
   ]
  },
  {
   "cell_type": "markdown",
   "metadata": {},
   "source": [
    "#### Decoder Class"
   ]
  },
  {
   "cell_type": "markdown",
   "metadata": {},
   "source": [
    "The `full decoder` is a `stack of decoding layers`. This class implements the `decoder stack`. In addition to that, it also implements `embedding` and `positional encoding`. The output is the output of the `encoder stack`.\n",
    "\n",
    "Here is a summary of what the encoder is doing.\n",
    "\n",
    "1. Creates an `embedding layer`\n",
    "2. Initializes the `positional encoding` object\n",
    "3. Creates a `dropout layer`\n",
    "4. Creates number of `decoding layers` specified by `nb_layers`\n",
    "5. Takes a (batch_size, target_seq_length) shape input from decoder layer output, the encoder output, the look-ahead mask, the padding mask, and a boolean\n",
    "6. Passes the input through the `embedding layer` and produces a tensor of shape (batch_size, seq_length, d_model)\n",
    "7. Creates the `positional encoding vectors`\n",
    "8. Adds the `positional encoding vectors` to the `embedding vectors`\n",
    "9. Passes the resulting input tensor, the encoder output, the masks, and the training boolean to the `decoding layer stack`\n",
    "10. Iterates over the `decoding layer stack`\n",
    "11. Returns an output tensor of shape (batch_size, target_seq_length, d_model), and the attention weights\n",
    "\n",
    "In the code you will see this sequence:\n",
    "```Python\n",
    "   outputs = self.embedding(inputs)\n",
    "   outputs *= tf.math.sqrt(tf.cast(self.d_model, tf.float32))\n",
    "   outputs = self.pos_encoding(outputs)\n",
    "```\n",
    "The explaination for the multiplication given [here](https://towardsdatascience.com/how-to-code-the-transformer-in-pytorch-24db27c8f9ec)\n",
    "> The reason we increase the embedding values before addition is to make the positional encoding relatively smaller. This means the original meaning in the embedding vector won’t be lost when we add them together.\n"
   ]
  },
  {
   "cell_type": "code",
   "execution_count": 24,
   "metadata": {
    "executionInfo": {
     "elapsed": 783,
     "status": "ok",
     "timestamp": 1605124617055,
     "user": {
      "displayName": "Alvaro Henriquez",
      "photoUrl": "",
      "userId": "02782214734520853933"
     },
     "user_tz": 300
    },
    "id": "Izh3aEmRCFMI"
   },
   "outputs": [],
   "source": [
    "class Decoder(layers.Layer):\n",
    "    '''\n",
    "    nb_layers    -> Number of encoder layers\n",
    "    FFN_units    -> Number of nodes in the FFN\n",
    "    nb_proj      -> Number of attention heads\n",
    "    dropout_rate -> Droput rate\n",
    "    vocab_size   -> The size of the vocabulary\n",
    "    d_model      -> Size of embedding vectors\n",
    "    name         -> Name of the layer\n",
    "    '''    \n",
    "    def __init__(self,\n",
    "                 nb_layers,\n",
    "                 FFN_units,\n",
    "                 nb_proj,\n",
    "                 dropout_rate,\n",
    "                 vocab_size,\n",
    "                 d_model,\n",
    "                 name=\"decoder\"):\n",
    "        super(Decoder, self).__init__(name=name)\n",
    "        self.d_model = d_model\n",
    "        self.nb_layers = nb_layers\n",
    "        \n",
    "        self.embedding = layers.Embedding(vocab_size, d_model)\n",
    "        self.pos_encoding = PositionalEncoding()\n",
    "        self.dropout = layers.Dropout(rate=dropout_rate)\n",
    "        \n",
    "        # Initialize the decoder layers.\n",
    "        self.dec_layers = [DecoderLayer(FFN_units,\n",
    "                                        nb_proj,\n",
    "                                        dropout_rate) \n",
    "                           for i in range(nb_layers)]\n",
    "    \n",
    "    def call(self, inputs, enc_outputs, mask_1, mask_2, training):\n",
    "        '''\n",
    "        input       -> Decoder output\n",
    "        enc_outputs -> Encoder output\n",
    "        mask_1      -> Look-ahead mask\n",
    "        mask_2      -> Padding mask\n",
    "        training    -> Boolean for dropout\n",
    "        '''\n",
    "        outputs = self.embedding(inputs)\n",
    "        outputs *= tf.math.sqrt(tf.cast(self.d_model, tf.float32))\n",
    "        outputs = self.pos_encoding(outputs)\n",
    "        outputs = self.dropout(outputs, training)\n",
    "        \n",
    "        # Iterate over the decoder layers.\n",
    "        for i in range(self.nb_layers):\n",
    "            \n",
    "            attention_weights = {}\n",
    "\n",
    "            # Block 1 and block2 are the attention weights from each attention head of the layer\n",
    "            outputs, block1, block2 = self.dec_layers[i](outputs, enc_outputs, mask_1, mask_2, training)\n",
    "            \n",
    "            attention_weights['decoder_layer{}_block1'.format(i+1)] = block1\n",
    "            attention_weights['decoder_layer{}_block2'.format(i+1)] = block2\n",
    "\n",
    "\n",
    "        return outputs, attention_weights"
   ]
  },
  {
   "cell_type": "markdown",
   "metadata": {},
   "source": [
    "### Transformer\n",
    "Finally the full transformer!\n",
    "\n",
    "The transformer is where all the pieces come together. We'll take a look at what the transformer class does."
   ]
  },
  {
   "cell_type": "markdown",
   "metadata": {},
   "source": [
    "#### Transformer Class\n",
    "\n",
    "These are the steps that occur in this class.\n",
    "\n",
    "1. Initialize the `encoder`\n",
    "2. Initialize the `decoder`\n",
    "3. Create the output linear layer with `vocab_size_dec` number of nodes\n",
    "4. Create the `padding` and `look-ahead masks`\n",
    "5. Pass arguments to the encoder and capture the output `attention matrix`\n",
    "6. Pass arguments to the decoder and capture the output `attention matrix`\n",
    "7. Pass the output of the decoder through the final dense layer and return output of shape (batch_size, tar_seq_len, target_vocab_size)\n",
    "8. Return `prediction` (batch_size, tar_seq_len, target_vocab_size), and `attention weight matrix`"
   ]
  },
  {
   "cell_type": "code",
   "execution_count": 25,
   "metadata": {
    "executionInfo": {
     "elapsed": 848,
     "status": "ok",
     "timestamp": 1605124619156,
     "user": {
      "displayName": "Alvaro Henriquez",
      "photoUrl": "",
      "userId": "02782214734520853933"
     },
     "user_tz": 300
    },
    "id": "_BwKMyhLCK4X"
   },
   "outputs": [],
   "source": [
    "class Transformer(tf.keras.Model):\n",
    "    '''\n",
    "    vocab_size_enc -> Vocabulary size of the encoder input\n",
    "    vocab_size_dec -> Vocabulary size of the decoder input\n",
    "    d_model        -> Embedding size\n",
    "    nb_layers      -> Number of encoder and decoder layers\n",
    "    FFN_units      -> Noumber of nodes in the FNNs \n",
    "    nb_proj        -> Number of heads\n",
    "    dropout_rate   -> Dropout rate throught model\n",
    "    name           -> Layer name\n",
    "    '''    \n",
    "    def __init__(self,\n",
    "                 vocab_size_enc,\n",
    "                 vocab_size_dec,\n",
    "                 d_model,\n",
    "                 nb_layers,\n",
    "                 FFN_units,\n",
    "                 nb_proj,\n",
    "                 dropout_rate,\n",
    "                 name=\"transformer\"):\n",
    "        super(Transformer, self).__init__(name=name)\n",
    "        \n",
    "        self.encoder = Encoder(nb_layers,\n",
    "                               FFN_units,\n",
    "                               nb_proj,\n",
    "                               dropout_rate,\n",
    "                               vocab_size_enc,\n",
    "                               d_model)\n",
    "        \n",
    "        self.decoder = Decoder(nb_layers,\n",
    "                               FFN_units,\n",
    "                               nb_proj,\n",
    "                               dropout_rate,\n",
    "                               vocab_size_dec,\n",
    "                               d_model)\n",
    "        \n",
    "        self.last_linear = layers.Dense(units=vocab_size_dec, name=\"lin_ouput\")\n",
    "    \n",
    "    def create_padding_mask(self, seq):\n",
    "        \n",
    "        mask = tf.cast(tf.math.equal(seq, 0), tf.float32)\n",
    "        return mask[:, tf.newaxis, tf.newaxis, :]\n",
    "\n",
    "    def create_look_ahead_mask(self, seq):\n",
    "        \n",
    "        seq_len = tf.shape(seq)[1]\n",
    "        look_ahead_mask = 1 - tf.linalg.band_part(tf.ones((seq_len, seq_len)), -1, 0)\n",
    "        return look_ahead_mask\n",
    "    \n",
    "    def call(self, enc_inputs, dec_inputs, training):\n",
    "        \n",
    "        enc_mask = self.create_padding_mask(enc_inputs)\n",
    "        dec_mask_1 = tf.maximum(\n",
    "            self.create_padding_mask(dec_inputs),\n",
    "            self.create_look_ahead_mask(dec_inputs)\n",
    "        )\n",
    "        dec_mask_2 = self.create_padding_mask(enc_inputs)\n",
    "        \n",
    "        # encoder output\n",
    "        enc_outputs = self.encoder(enc_inputs, enc_mask, training)\n",
    "        \n",
    "        # dec_outputs, attention_weights\n",
    "        dec_outputs, attention_weights = self.decoder(dec_inputs,\n",
    "                                                      enc_outputs,\n",
    "                                                      dec_mask_1,\n",
    "                                                      dec_mask_2,\n",
    "                                                      training)\n",
    "        \n",
    "        # This is the prediction\n",
    "        outputs = self.last_linear(dec_outputs)\n",
    "        \n",
    "        # Return prediction (batch_size, tar_seq_len, target_vocab_size), and attention_weight matrix\n",
    "        return outputs, attention_weights"
   ]
  },
  {
   "cell_type": "markdown",
   "metadata": {
    "id": "u7VuxHM0CZW2"
   },
   "source": [
    "## Training\n",
    "\n",
    "Before we train our model we'll need to do the following.\n",
    "\n",
    "1. Define the hper-parameters. \n",
    "2. Define the loss function\n",
    "3. Create a custom learning rate schedule\n",
    "4. Initialize the Atom Optimizer\n",
    "5. Initialize Checkpoint ant Checkpoint Mangager\n"
   ]
  },
  {
   "cell_type": "markdown",
   "metadata": {},
   "source": [
    "### Define Hyper-parameter values\n",
    "The values that we use a smaller than those proposed in the paper. We do this for computaional an time reasons. The values used in the [paper](https://arxiv.org/pdf/1706.03762.pdf) are commented out for reference."
   ]
  },
  {
   "cell_type": "code",
   "execution_count": 26,
   "metadata": {
    "executionInfo": {
     "elapsed": 795,
     "status": "ok",
     "timestamp": 1605124621425,
     "user": {
      "displayName": "Alvaro Henriquez",
      "photoUrl": "",
      "userId": "02782214734520853933"
     },
     "user_tz": 300
    },
    "id": "r790wV40CYVr"
   },
   "outputs": [],
   "source": [
    "tf.keras.backend.clear_session()\n",
    "\n",
    "# Hyper-parameters\n",
    "D_MODEL = 128 # 512\n",
    "NB_LAYERS = 4 # 6\n",
    "FFN_UNITS = 512 # 2048\n",
    "NB_PROJ = 8 # 8\n",
    "DROPOUT_RATE = 0.1 # 0.1\n",
    "\n",
    "# Initialize the transformer\n",
    "transformer = Transformer(vocab_size_enc=VOCAB_SIZE_EN,\n",
    "                          vocab_size_dec=VOCAB_SIZE_FR,\n",
    "                          d_model=D_MODEL,\n",
    "                          nb_layers=NB_LAYERS,\n",
    "                          FFN_units=FFN_UNITS,\n",
    "                          nb_proj=NB_PROJ,\n",
    "                          dropout_rate=DROPOUT_RATE)"
   ]
  },
  {
   "cell_type": "markdown",
   "metadata": {},
   "source": [
    "### Define the loss function\n",
    "Because the sequences are padded we need to add a mask to the loss function. So, while we are using `sparse categorical cross-entropy` we wrap the loss function in order to apply the mask."
   ]
  },
  {
   "cell_type": "code",
   "execution_count": 27,
   "metadata": {
    "executionInfo": {
     "elapsed": 852,
     "status": "ok",
     "timestamp": 1605124625557,
     "user": {
      "displayName": "Alvaro Henriquez",
      "photoUrl": "",
      "userId": "02782214734520853933"
     },
     "user_tz": 300
    },
    "id": "0ZeclFRxCkeQ"
   },
   "outputs": [],
   "source": [
    "loss_object = tf.keras.losses.SparseCategoricalCrossentropy(from_logits=True,\n",
    "                                                            reduction=\"none\")\n",
    "\n",
    "def loss_function(target, pred):\n",
    "    mask = tf.math.logical_not(tf.math.equal(target, 0))\n",
    "    loss_ = loss_object(target, pred)\n",
    "    \n",
    "    mask = tf.cast(mask, dtype=loss_.dtype)\n",
    "    loss_ *= mask\n",
    "    \n",
    "    return tf.reduce_mean(loss_)\n",
    "\n",
    "train_loss = tf.keras.metrics.Mean(name=\"train_loss\")\n",
    "train_accuracy = tf.keras.metrics.SparseCategoricalAccuracy(name=\"train_accuracy\")"
   ]
  },
  {
   "cell_type": "markdown",
   "metadata": {},
   "source": [
    "### Create a custom learning rate schedule\n",
    "The custom learning rate schedule is specified in the '[Attention is all you need](https://arxiv.org/pdf/1706.03762.pdf)' paper. This is that implementation."
   ]
  },
  {
   "cell_type": "code",
   "execution_count": 28,
   "metadata": {
    "executionInfo": {
     "elapsed": 960,
     "status": "ok",
     "timestamp": 1605124629031,
     "user": {
      "displayName": "Alvaro Henriquez",
      "photoUrl": "",
      "userId": "02782214734520853933"
     },
     "user_tz": 300
    },
    "id": "8aiiwrnxCqWh"
   },
   "outputs": [],
   "source": [
    "class CustomSchedule(tf.keras.optimizers.schedules.LearningRateSchedule):\n",
    "    \n",
    "    def __init__(self, d_model, warmup_steps=4000):\n",
    "        super(CustomSchedule, self).__init__()\n",
    "        \n",
    "        self.d_model = tf.cast(d_model, tf.float32)\n",
    "        self.warmup_steps = warmup_steps\n",
    "    \n",
    "    def __call__(self, step):\n",
    "        arg1 = tf.math.rsqrt(step)\n",
    "        arg2 = step * (self.warmup_steps**-1.5)\n",
    "        \n",
    "        return tf.math.rsqrt(self.d_model) * tf.math.minimum(arg1, arg2)\n",
    "\n",
    "leaning_rate = CustomSchedule(D_MODEL)\n",
    "\n",
    "# Use the Atom Optimizer\n",
    "optimizer = tf.keras.optimizers.Adam(leaning_rate,\n",
    "                                     beta_1=0.9,\n",
    "                                     beta_2=0.98,\n",
    "                                     epsilon=1e-9)"
   ]
  },
  {
   "cell_type": "markdown",
   "metadata": {},
   "source": [
    "#### Plot the learning rate"
   ]
  },
  {
   "cell_type": "code",
   "execution_count": 29,
   "metadata": {
    "colab": {
     "base_uri": "https://localhost:8080/",
     "height": 279
    },
    "executionInfo": {
     "elapsed": 1050,
     "status": "ok",
     "timestamp": 1605124633242,
     "user": {
      "displayName": "Alvaro Henriquez",
      "photoUrl": "",
      "userId": "02782214734520853933"
     },
     "user_tz": 300
    },
    "id": "5dQY-W4Fj6J_",
    "outputId": "fa3b8a44-512b-4e13-ea4c-8652c4d0ad12"
   },
   "outputs": [
    {
     "data": {
      "image/png": "[encoded data removed]",
      "text/plain": [
       "<Figure size 432x288 with 1 Axes>"
      ]
     },
     "metadata": {
      "needs_background": "light",
      "tags": []
     },
     "output_type": "display_data"
    }
   ],
   "source": [
    "plt.plot(leaning_rate(tf.range(40000, dtype=tf.float32)))\n",
    "plt.ylabel(\"Learning Rate\")\n",
    "plt.xlabel(\"Train Step\")\n",
    "plt.savefig(ROOT + '/data/lr.png')"
   ]
  },
  {
   "cell_type": "markdown",
   "metadata": {},
   "source": [
    "### Model checkpoints\n",
    "We prepare the to save and restore checkpoints. "
   ]
  },
  {
   "cell_type": "code",
   "execution_count": 30,
   "metadata": {
    "executionInfo": {
     "elapsed": 961,
     "status": "ok",
     "timestamp": 1605124637636,
     "user": {
      "displayName": "Alvaro Henriquez",
      "photoUrl": "",
      "userId": "02782214734520853933"
     },
     "user_tz": 300
    },
    "id": "V-xv-P2_56wh"
   },
   "outputs": [],
   "source": [
    "if os.path.isdir('../ckpt') is False:\n",
    "    os.mkdir('../ckpt')"
   ]
  },
  {
   "cell_type": "code",
   "execution_count": 31,
   "metadata": {
    "colab": {
     "base_uri": "https://localhost:8080/"
    },
    "executionInfo": {
     "elapsed": 3370,
     "status": "ok",
     "timestamp": 1605124644189,
     "user": {
      "displayName": "Alvaro Henriquez",
      "photoUrl": "",
      "userId": "02782214734520853933"
     },
     "user_tz": 300
    },
    "id": "wQr8BMWNCsMk",
    "outputId": "0d716a4f-00ca-4055-f0d8-8f02431b8cce"
   },
   "outputs": [
    {
     "name": "stdout",
     "output_type": "stream",
     "text": [
      "Latest checkpoint restored!!\n"
     ]
    }
   ],
   "source": [
    "checkpoint_path = ROOT + \"/ckpt/\"\n",
    "\n",
    "ckpt = tf.train.Checkpoint(transformer=transformer,\n",
    "                           optimizer=optimizer)\n",
    "\n",
    "ckpt_manager = tf.train.CheckpointManager(ckpt, checkpoint_path, max_to_keep=5)\n",
    "\n",
    "if ckpt_manager.latest_checkpoint:\n",
    "    ckpt.restore(ckpt_manager.latest_checkpoint)\n",
    "    print(\"Latest checkpoint restored!!\")"
   ]
  },
  {
   "cell_type": "markdown",
   "metadata": {},
   "source": [
    "### Run the training\n",
    "\n",
    "To train the model we provide as input to the encoder a batch of the source sequences. We also provide to the decoder a batch of target sequences that begin with the `start-of-sentence` token. This has the effect of shifting the sequence to the right.\n",
    "\n",
    "The transformer will go through everything discussed above.\n",
    "1. The encoder will encode the batch of sequences, capturing the important `contextual` and `structural` information. This continues through all the layers of the encoder.\n",
    "2. The decoder will calculate attention at the `masked multi-head self-attention` layer. Because for each word the mask is applied to those words that come after, only the previous words are considered when calcualting attention.\n",
    "3. At the `encoder-decoder attention` layer, the `attention matrix` that is the ouput of the `masked attention` layer is transformed and used for the `query`, and the output (memory) of the encoder is transformed twice and used for the `key` and value.\n",
    "4. At this layer the decoder is learning to map the target words to the encoding.\n",
    "5. This process is repeated for all the layers of the decoder until the final ouput.\n",
    "6. The final output is a list of probabilities for each word in the vocabulary. \n",
    "7. Calculate the `loss function` and `perform back propagation` and adjust the weights.\n",
    "8. Rinse and repeat."
   ]
  },
  {
   "cell_type": "code",
   "execution_count": null,
   "metadata": {
    "colab": {
     "base_uri": "https://localhost:8080/",
     "height": 246
    },
    "executionInfo": {
     "elapsed": 1133,
     "status": "error",
     "timestamp": 1605120893137,
     "user": {
      "displayName": "Alvaro Henriquez",
      "photoUrl": "",
      "userId": "02782214734520853933"
     },
     "user_tz": 300
    },
    "id": "iyD7rZmzCxiJ",
    "outputId": "37e2ea63-5e13-4589-94ea-1738b774e33d"
   },
   "outputs": [],
   "source": [
    "EPOCHS = 10\n",
    "for epoch in range(EPOCHS):\n",
    "    print(\"Start of epoch {}\".format(epoch+1))\n",
    "    start = time.time()\n",
    "    \n",
    "    train_loss.reset_states()\n",
    "    train_accuracy.reset_states()\n",
    "    \n",
    "    for (batch, (enc_inputs, targets)) in enumerate(dataset):\n",
    "        \n",
    "        # Include the start token which shifts sequence to the right\n",
    "        dec_inputs = targets[:, :-1]\n",
    "        \n",
    "        # Target without the start token. The end token is included to know when the \n",
    "        # model reaches the end of the sequence\n",
    "        dec_outputs_real = targets[:, 1:]\n",
    "        \n",
    "        with tf.GradientTape() as tape:\n",
    "            predictions, _ = transformer(enc_inputs, dec_inputs, True)\n",
    "            loss = loss_function(dec_outputs_real, predictions)\n",
    "        \n",
    "        # Calculate and apply the gradients\n",
    "        gradients = tape.gradient(loss, transformer.trainable_variables)\n",
    "        optimizer.apply_gradients(zip(gradients, transformer.trainable_variables))\n",
    "        \n",
    "        train_loss(loss)\n",
    "        train_accuracy(dec_outputs_real, predictions)\n",
    "        \n",
    "        if batch % 50 == 0:\n",
    "            print(\"Epoch {} Batch {} Loss {:.4f} Accuracy {:.4f}\".format(\n",
    "                epoch+1, batch, train_loss.result(), train_accuracy.result()))\n",
    "            \n",
    "    ckpt_save_path = ckpt_manager.save()\n",
    "    print(\"Saving checkpoint for epoch {} at {}\".format(epoch+1,\n",
    "                                                        ckpt_save_path))\n",
    "    print(\"Time taken for 1 epoch: {} secs\\n\".format(time.time() - start))"
   ]
  },
  {
   "cell_type": "markdown",
   "metadata": {
    "id": "YRsHEemuC9m1"
   },
   "source": [
    "## Evaluating"
   ]
  },
  {
   "cell_type": "markdown",
   "metadata": {},
   "source": [
    "Now we are going to make some predictions.\n",
    "\n",
    "For predictions, we iterate over the model. In the first pass we input the sentence to be translated to the encoder while the decoder's input only contains the `start-of-sentence` token. From this the model generates a probability distribution. Hopefylly the highest probability results in choosing the correct first word in the translation. \n",
    "\n",
    "In the second iteration, the word that was predicted is added to the decoder's input, so that now the model tries to predict the next word based on having the `start-of-sentence` token and the first predicted word.\n",
    "\n",
    "We continue predicting and appending to the input until we reach the `end-of-sentence` token. That completes the sentence."
   ]
  },
  {
   "cell_type": "code",
   "execution_count": 64,
   "metadata": {
    "executionInfo": {
     "elapsed": 918,
     "status": "ok",
     "timestamp": 1605126114445,
     "user": {
      "displayName": "Alvaro Henriquez",
      "photoUrl": "",
      "userId": "02782214734520853933"
     },
     "user_tz": 300
    },
    "id": "4YYj6pPsDA4y"
   },
   "outputs": [],
   "source": [
    "def evaluate(inp_sentence):\n",
    "    '''\n",
    "    Takes the input sentence.\n",
    "    '''\n",
    "    inp_sentence = [VOCAB_SIZE_EN-2] + tokenizer_en.encode(inp_sentence) + [VOCAB_SIZE_EN-1]\n",
    "    \n",
    "    # Expand dims to account for batch_size\n",
    "    enc_input = tf.expand_dims(inp_sentence, axis=0)\n",
    "    \n",
    "    # Start with the s-o-s\n",
    "    output = tf.expand_dims([VOCAB_SIZE_FR-2], axis=0)\n",
    "    \n",
    "    for _ in range(MAX_LENGTH):\n",
    "        predictions, attention_weights = transformer(enc_input, output, False)\n",
    "        \n",
    "        prediction = predictions[:, -1:, :]\n",
    "        \n",
    "        # Get highest probability\n",
    "        predicted_id = tf.cast(tf.argmax(prediction, axis=-1), tf.int32)\n",
    "        \n",
    "        # If e-o-s return\n",
    "        if predicted_id == VOCAB_SIZE_FR-1:\n",
    "            return tf.squeeze(output, axis=0), attention_weights\n",
    "        \n",
    "        # Concat last prediction to decoder input\n",
    "        output = tf.concat([output, predicted_id], axis=-1)\n",
    "        \n",
    "    return tf.squeeze(output, axis=0), attention_weights"
   ]
  },
  {
   "cell_type": "markdown",
   "metadata": {},
   "source": [
    "**Plot the attention weights for a decoder layer**"
   ]
  },
  {
   "cell_type": "code",
   "execution_count": 173,
   "metadata": {
    "executionInfo": {
     "elapsed": 805,
     "status": "ok",
     "timestamp": 1605133550147,
     "user": {
      "displayName": "Alvaro Henriquez",
      "photoUrl": "",
      "userId": "02782214734520853933"
     },
     "user_tz": 300
    },
    "id": "DnUcjddyknkw"
   },
   "outputs": [],
   "source": [
    "def plot_attention_weights(attention, sentence, result, layer):\n",
    "    fig = plt.figure(figsize=(16, 8))\n",
    "    sentence = tokenizer_en.encode(sentence)\n",
    "    attention = tf.squeeze(attention[layer], axis=0)\n",
    "\n",
    "    for head in range(attention.shape[0]):\n",
    "\n",
    "        ax = fig.add_subplot(2, 4, head+1)\n",
    "\n",
    "        # plot the attention weights\n",
    "        ax.matshow(attention[head][:-1, :], cmap='viridis')\n",
    "        fontdict = {'fontsize': 10}\n",
    "        \n",
    "        ax.set_xticks(range(len(sentence)+2))\n",
    "        ax.set_yticks(range(len(result)))\n",
    "        ax.set_ylim(len(result)-1.5, -0.5)\n",
    "        ax.set_xticklabels(\n",
    "            ['<start>']+[tokenizer_en.decode([i]) for i in sentence]+['<end>'],\n",
    "            fontdict=fontdict, rotation=90)\n",
    "\n",
    "        ax.set_yticklabels([tokenizer_fr.decode([i]) for i in result\n",
    "                            if i < VOCAB_SIZE_FR-2],\n",
    "                           fontdict=fontdict)\n",
    "        \n",
    "        ax.set_xlabel('Head {}'.format(head+1))\n",
    "    plt.tight_layout()\n",
    "    plt.show()"
   ]
  },
  {
   "cell_type": "markdown",
   "metadata": {},
   "source": [
    "#### Translate function\n",
    "\n",
    "We use this function to test our translations. It calls the `evaluate` function to make the predictions and if given the decoder layer and block, produces a plot of the attention weights."
   ]
  },
  {
   "cell_type": "code",
   "execution_count": 174,
   "metadata": {
    "executionInfo": {
     "elapsed": 909,
     "status": "ok",
     "timestamp": 1605133550838,
     "user": {
      "displayName": "Alvaro Henriquez",
      "photoUrl": "",
      "userId": "02782214734520853933"
     },
     "user_tz": 300
    },
    "id": "SrhHyv9gDE7C"
   },
   "outputs": [],
   "source": [
    "def translate(sentence, plot=''):\n",
    "    #output, attention_weights\n",
    "    output, attention_weights = evaluate(sentence) #.numpy()\n",
    "    print(f'wts shape: {attention_weights.keys()}')\n",
    "    output = output.numpy()\n",
    "    \n",
    "    predicted_sentence = tokenizer_fr.decode(\n",
    "        [i for i in output if i < VOCAB_SIZE_FR-2]\n",
    "    )\n",
    "    \n",
    "    print(\"Input: {}\".format(sentence))\n",
    "    print(\"Predicted translation: {}\".format(predicted_sentence))\n",
    "    if plot:\n",
    "        plot_attention_weights(attention_weights, sentence, output, plot)"
   ]
  },
  {
   "cell_type": "markdown",
   "metadata": {},
   "source": [
    "### Let's translate\n",
    "\n",
    "Now we try some translations and see how it turns out. We also get to see what the attention looks like by plotting it.\n",
    "\n",
    "I verify the translations that follow by running the resultant french text through `Google translate`.\n",
    "\n",
    "---\n",
    "**Source: \"This is a really powerful tool!\"**\n",
    "\n",
    "**Translation: \"C'est un instrument très puissant\"**\n",
    "\n",
    "**Google: \"It is a very powerful instrument\"**\n",
    "\n",
    "This is very close."
   ]
  },
  {
   "cell_type": "code",
   "execution_count": 177,
   "metadata": {
    "colab": {
     "base_uri": "https://localhost:8080/",
     "height": 582
    },
    "executionInfo": {
     "elapsed": 2355,
     "status": "ok",
     "timestamp": 1605133715298,
     "user": {
      "displayName": "Alvaro Henriquez",
      "photoUrl": "",
      "userId": "02782214734520853933"
     },
     "user_tz": 300
    },
    "id": "j8UKmKo7DQsN",
    "outputId": "cccf1096-db2f-4f47-9b69-8b210e1c235f"
   },
   "outputs": [
    {
     "name": "stdout",
     "output_type": "stream",
     "text": [
      "wts shape: dict_keys(['decoder_layer4_block1', 'decoder_layer4_block2'])\n",
      "Input: This is a really powerful tool!\n",
      "Predicted translation: C'est un instrument très puissant.\n"
     ]
    },
    {
     "data": {
      "image/png": "[encoded data removed]",
      "text/plain": [
       "<Figure size 1152x576 with 8 Axes>"
      ]
     },
     "metadata": {
      "needs_background": "light",
      "tags": []
     },
     "output_type": "display_data"
    }
   ],
   "source": [
    "translate(\"This is a really powerful tool!\", plot='decoder_layer4_block2')"
   ]
  },
  {
   "cell_type": "markdown",
   "metadata": {},
   "source": [
    "---\n",
    "**Source: \"what is your name?\"**\n",
    "\n",
    "**Translation: \"Quel est votre nom ?\"**\n",
    "\n",
    "**Google: \"What is your name ?\"**\n",
    "\n",
    "Perfect."
   ]
  },
  {
   "cell_type": "code",
   "execution_count": 178,
   "metadata": {
    "colab": {
     "base_uri": "https://localhost:8080/",
     "height": 614
    },
    "executionInfo": {
     "elapsed": 2102,
     "status": "ok",
     "timestamp": 1605133784984,
     "user": {
      "displayName": "Alvaro Henriquez",
      "photoUrl": "",
      "userId": "02782214734520853933"
     },
     "user_tz": 300
    },
    "id": "XEiotEKyASW9",
    "outputId": "0b9af414-b126-44f1-d0ce-56ae67728364"
   },
   "outputs": [
    {
     "name": "stdout",
     "output_type": "stream",
     "text": [
      "wts shape: dict_keys(['decoder_layer4_block1', 'decoder_layer4_block2'])\n",
      "Input: what is your name?\n",
      "Predicted translation: Quel est votre nom ?\n"
     ]
    },
    {
     "data": {
      "image/png": "[encoded data removed]",
      "text/plain": [
       "<Figure size 1152x576 with 8 Axes>"
      ]
     },
     "metadata": {
      "needs_background": "light",
      "tags": []
     },
     "output_type": "display_data"
    }
   ],
   "source": [
    "translate(\"what is your name?\", plot='decoder_layer4_block2')"
   ]
  },
  {
   "cell_type": "markdown",
   "metadata": {},
   "source": [
    "---\n",
    "**Source: \"You are beutiful.\"**\n",
    "\n",
    "**Translation: \"Vous êtes très sincère\"**\n",
    "\n",
    "**Google: \"You are very sincere\"**\n",
    "\n",
    "Almost. But notice that beautiful is misspelled, so it's sort of impressive that the translation is so close."
   ]
  },
  {
   "cell_type": "code",
   "execution_count": 179,
   "metadata": {
    "colab": {
     "base_uri": "https://localhost:8080/",
     "height": 544
    },
    "executionInfo": {
     "elapsed": 1867,
     "status": "ok",
     "timestamp": 1605133926177,
     "user": {
      "displayName": "Alvaro Henriquez",
      "photoUrl": "",
      "userId": "02782214734520853933"
     },
     "user_tz": 300
    },
    "id": "7b0P3kqH4nTn",
    "outputId": "2e64e276-8e03-44df-8369-7299944e5817"
   },
   "outputs": [
    {
     "name": "stdout",
     "output_type": "stream",
     "text": [
      "wts shape: dict_keys(['decoder_layer4_block1', 'decoder_layer4_block2'])\n",
      "Input: You are beutiful.\n",
      "Predicted translation: Vous êtes très sincère.\n"
     ]
    },
    {
     "data": {
      "image/png": "[encoded data removed]",
      "text/plain": [
       "<Figure size 1152x576 with 8 Axes>"
      ]
     },
     "metadata": {
      "needs_background": "light",
      "tags": []
     },
     "output_type": "display_data"
    }
   ],
   "source": [
    "translate(\"You are beutiful.\", plot='decoder_layer4_block2')"
   ]
  },
  {
   "cell_type": "markdown",
   "metadata": {},
   "source": [
    "---\n",
    "**Source: \"I love you.\"**\n",
    "\n",
    "**Translation: \"Je vous aime\"**\n",
    "\n",
    "**Google: \"I like You\"**\n",
    "\n",
    "Well, in this case I'd say that Google got it wrong. The translation is correct."
   ]
  },
  {
   "cell_type": "code",
   "execution_count": 180,
   "metadata": {
    "colab": {
     "base_uri": "https://localhost:8080/",
     "height": 534
    },
    "executionInfo": {
     "elapsed": 1965,
     "status": "ok",
     "timestamp": 1605134024919,
     "user": {
      "displayName": "Alvaro Henriquez",
      "photoUrl": "",
      "userId": "02782214734520853933"
     },
     "user_tz": 300
    },
    "id": "ruYzB_AO5uKc",
    "outputId": "8824c513-14a9-483e-f3c1-c81bd293ba80"
   },
   "outputs": [
    {
     "name": "stdout",
     "output_type": "stream",
     "text": [
      "wts shape: dict_keys(['decoder_layer4_block1', 'decoder_layer4_block2'])\n",
      "Input: I love you.\n",
      "Predicted translation: Je vous aime.\n"
     ]
    },
    {
     "data": {
      "image/png": "[encoded data removed]",
      "text/plain": [
       "<Figure size 1152x576 with 8 Axes>"
      ]
     },
     "metadata": {
      "needs_background": "light",
      "tags": []
     },
     "output_type": "display_data"
    }
   ],
   "source": [
    "translate(\"I love you.\", plot='decoder_layer4_block2')"
   ]
  },
  {
   "cell_type": "markdown",
   "metadata": {},
   "source": [
    "---\n",
    "**Source: \"How are you?\"**\n",
    "\n",
    "**Translation: \"Comment avez-vous\"**\n",
    "\n",
    "**Google: \"How did you\"**\n",
    "\n",
    "One word wrong."
   ]
  },
  {
   "cell_type": "code",
   "execution_count": 181,
   "metadata": {
    "colab": {
     "base_uri": "https://localhost:8080/",
     "height": 625
    },
    "executionInfo": {
     "elapsed": 1917,
     "status": "ok",
     "timestamp": 1605134083438,
     "user": {
      "displayName": "Alvaro Henriquez",
      "photoUrl": "",
      "userId": "02782214734520853933"
     },
     "user_tz": 300
    },
    "id": "eu3c0drscXik",
    "outputId": "74949fb5-6649-4275-f725-d06a717bfc1f"
   },
   "outputs": [
    {
     "name": "stdout",
     "output_type": "stream",
     "text": [
      "wts shape: dict_keys(['decoder_layer4_block1', 'decoder_layer4_block2'])\n",
      "Input: How are you?\n",
      "Predicted translation: Comment avez-vous ?\n"
     ]
    },
    {
     "data": {
      "image/png": "[encoded data removed]",
      "text/plain": [
       "<Figure size 1152x576 with 8 Axes>"
      ]
     },
     "metadata": {
      "needs_background": "light",
      "tags": []
     },
     "output_type": "display_data"
    }
   ],
   "source": [
    "translate(\"How are you?\", plot='decoder_layer4_block2')"
   ]
  },
  {
   "cell_type": "markdown",
   "metadata": {
    "id": "IS_i_pxJcl2S"
   },
   "source": [
    "## Results\n",
    "\n",
    "As a proof of concept the results were encouraging. We have to keep in mind that the model used here was a scaled-down version of the model specified in the paper. They used 6 encoder layers and 6 decoder layers. We used 4 and 4. They used an embedding size of 512 - we used 128. They used 2048 nodes in the FFNs - we used 512. We did this to save on computational cost.\n",
    "\n",
    "Based on these results, I have no doubt that increasing these hyper-parameter to match or exceed those used in the paper would cause the accuracy to improve greatly.  "
   ]
  },
  {
   "cell_type": "markdown",
   "metadata": {},
   "source": [
    "## Future Work\n",
    "\n",
    "* Expand the model to match or exceed the model referenced in the original paper \"[Attention is all you need](https://arxiv.org/pdf/1706.03762.pdf)\".\n",
    "* Experiment with other varients of the transformer such as GPT-2 or BERT.\n",
    "* Ultimately to build a full two way language translation model using voice recognition, allowing two or more people speaking different languages to comunicate using their native languages."
   ]
  },
  {
   "cell_type": "markdown",
   "metadata": {},
   "source": [
    "## Summary\n",
    "\n",
    "We built a `Transformer` based on the paper \"[Attention is all you need] We built it from scratch using the `Tensorflow` framework. We did this because it provides an opportunity to learn all of the hidden details of the model. \n",
    "\n",
    "So what did we learn?\n",
    "\n",
    "In Seq2Seq models \n"
   ]
  },
  {
   "cell_type": "code",
   "execution_count": null,
   "metadata": {},
   "outputs": [],
   "source": []
  }
 ],
 "metadata": {
  "accelerator": "GPU",
  "colab": {
   "authorship_tag": "ABX9TyMnLgsnrJWKBJftJ0JkLW9I",
   "collapsed_sections": [],
   "name": "Copy of transformer.ipynb",
   "provenance": [
    {
     "file_id": "1e-8HNfZ9j3tsswcITQB1CMsuDXfGVQb5",
     "timestamp": 1604354052582
    }
   ],
   "toc_visible": true
  },
  "kernelspec": {
   "display_name": "Python 3",
   "language": "python",
   "name": "python3"
  },
  "language_info": {
   "codemirror_mode": {
    "name": "ipython",
    "version": 3
   },
   "file_extension": ".py",
   "mimetype": "text/x-python",
   "name": "python",
   "nbconvert_exporter": "python",
   "pygments_lexer": "ipython3",
   "version": "3.7.8"
  },
  "toc": {
   "base_numbering": 1,
   "nav_menu": {},
   "number_sections": true,
   "sideBar": true,
   "skip_h1_title": true,
   "title_cell": "Table of Contents",
   "title_sidebar": "Contents",
   "toc_cell": true,
   "toc_position": {},
   "toc_section_display": true,
   "toc_window_display": true
  }
 },
 "nbformat": 4,
 "nbformat_minor": 1
}
